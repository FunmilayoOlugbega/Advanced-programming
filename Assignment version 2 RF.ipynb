{
 "cells": [
  {
   "cell_type": "markdown",
   "id": "28ad562a",
   "metadata": {},
   "source": [
    "# Packages"
   ]
  },
  {
   "cell_type": "code",
   "execution_count": 95,
   "id": "6f6a2e96",
   "metadata": {
    "colab": {
     "base_uri": "https://localhost:8080/",
     "height": 35
    },
    "id": "6f6a2e96",
    "outputId": "71f2e689-79dc-41b6-8bff-e5faf54ccbe2"
   },
   "outputs": [
    {
     "data": {
      "text/plain": [
       "'2020.09.1'"
      ]
     },
     "execution_count": 95,
     "metadata": {},
     "output_type": "execute_result"
    }
   ],
   "source": [
    "import rdkit\n",
    "import pandas as pd\n",
    "import seaborn as sns\n",
    "import numpy as np\n",
    "import matplotlib.pyplot as plt\n",
    "from rdkit import Chem\n",
    "from rdkit.Chem import AllChem\n",
    "\n",
    "from rdkit.Chem import Draw\n",
    "from rdkit.Chem.Draw import IPythonConsole\n",
    "from rdkit.Chem import Descriptors\n",
    "\n",
    "from sklearn.preprocessing import MinMaxScaler\n",
    "from sklearn.decomposition import PCA\n",
    "from sklearn.ensemble import RandomForestRegressor\n",
    "from sklearn.ensemble import RandomForestClassifier\n",
    "from sklearn.model_selection import train_test_split\n",
    "from sklearn.model_selection import KFold \n",
    "from sklearn.model_selection import cross_val_score\n",
    "from sklearn.svm import SVC\n",
    "from sklearn.svm import LinearSVC\n",
    "from sklearn.model_selection import GridSearchCV\n",
    "from sklearn import metrics \n",
    "\n",
    "rdkit.__version__"
   ]
  },
  {
   "cell_type": "code",
   "execution_count": 96,
   "id": "db3dba86",
   "metadata": {
    "colab": {
     "base_uri": "https://localhost:8080/",
     "height": 345
    },
    "id": "db3dba86",
    "outputId": "0dc75e2c-791d-4a82-ff1f-d34f3fbaa0a5"
   },
   "outputs": [
    {
     "name": "stdout",
     "output_type": "stream",
     "text": [
      "                                                SMILES  ALDH1_inhibition\n",
      "0    COc1ccccc1CC(NC(C)=O)C(=O)NC1CCN(c2nnnn2-c2ccc...                 1\n",
      "1               O=C(CSc1nc2cccnc2n1Cc1ccccc1)NCc1ccco1                 1\n",
      "2    Cc1cccc2cc(C[NH+](CC3CCCO3)C(c3nnnn3Cc3ccco3)C...                 1\n",
      "3                    CCN(CC)c1ccc2c(Cl)c(Br)c(=O)oc2c1                 1\n",
      "4    CS(=O)(=O)N1CCc2cc(-c3csc(NC(=O)Cc4cccs4)n3)ccc21                 1\n",
      "..                                                 ...               ...\n",
      "995             COc1ccc(N2C(=O)CC([NH2+]C3CC3)C2=O)cc1                 0\n",
      "996                       CCNc1oc(COc2cccc(C)c2)nc1C#N                 0\n",
      "997                          NC(=O)Cn1cnc(-c2ccccc2)c1                 0\n",
      "998  Cc1cc(NC(=O)CSc2nc3c(c(=O)n(C)c(=O)n3C)n2C(C)C...                 0\n",
      "999          O=C(Cn1nnc2c(cnn2-c2ccccc2)c1=O)NCc1cccs1                 0\n",
      "\n",
      "[1000 rows x 2 columns]\n"
     ]
    }
   ],
   "source": [
    "df_smiles = pd.read_csv('tested_molecules-1.csv')\n",
    "print(df_smiles)"
   ]
  },
  {
   "cell_type": "markdown",
   "id": "ee56f22c",
   "metadata": {},
   "source": [
    "Example molecule"
   ]
  },
  {
   "cell_type": "code",
   "execution_count": 97,
   "id": "e88b9bf9",
   "metadata": {
    "id": "e88b9bf9"
   },
   "outputs": [
    {
     "name": "stdout",
     "output_type": "stream",
     "text": [
      "<rdkit.Chem.rdchem.Mol object at 0x000001A079BEDEE0>\n"
     ]
    },
    {
     "data": {
      "image/png": "[encoded data removed]",
      "text/plain": [
       "<rdkit.Chem.rdchem.Mol at 0x1a079bedee0>"
      ]
     },
     "execution_count": 97,
     "metadata": {},
     "output_type": "execute_result"
    }
   ],
   "source": [
    "mol = Chem.MolFromSmiles(df_smiles.iloc[566]['SMILES'])\n",
    "print(mol)\n",
    "mol"
   ]
  },
  {
   "cell_type": "code",
   "execution_count": 98,
   "id": "0118c6b1",
   "metadata": {
    "id": "0118c6b1"
   },
   "outputs": [],
   "source": [
    "def getMolDescriptors(mol, missingVal=None):\n",
    "    ''' calculate the full list of descriptors for a molecule\n",
    "    \n",
    "        missingVal is used if the descriptor cannot be calculated\n",
    "    '''\n",
    "    res = {}\n",
    "    for nm,fn in Descriptors._descList:\n",
    "        # some of the descriptor fucntions can throw errors if they fail, catch those here:\n",
    "        try:\n",
    "            val = fn(mol)\n",
    "        except:\n",
    "            # print the error message:\n",
    "            import traceback\n",
    "            traceback.print_exc()\n",
    "            # and set the descriptor value to whatever missingVal is\n",
    "            val = missingVal\n",
    "        res[nm] = val\n",
    "    return res"
   ]
  },
  {
   "cell_type": "code",
   "execution_count": 99,
   "id": "62eb72c7",
   "metadata": {
    "id": "62eb72c7"
   },
   "outputs": [
    {
     "data": {
      "text/plain": [
       "{'MaxEStateIndex': 12.675380920886873,\n",
       " 'MinEStateIndex': -0.8782572751322746,\n",
       " 'MaxAbsEStateIndex': 12.675380920886873,\n",
       " 'MinAbsEStateIndex': 0.007449874403684387,\n",
       " 'qed': 0.42042622795544143,\n",
       " 'MolWt': 414.4140000000002,\n",
       " 'HeavyAtomMolWt': 392.23800000000017,\n",
       " 'ExactMolWt': 414.1427010439999,\n",
       " 'NumValenceElectrons': 158,\n",
       " 'NumRadicalElectrons': 0,\n",
       " 'MaxPartialCharge': 0.3287506360220477,\n",
       " 'MinPartialCharge': -0.4667283975223054,\n",
       " 'MaxAbsPartialCharge': 0.4667283975223054,\n",
       " 'MinAbsPartialCharge': 0.3287506360220477,\n",
       " 'FpDensityMorgan1': 1.2333333333333334,\n",
       " 'FpDensityMorgan2': 1.9666666666666666,\n",
       " 'FpDensityMorgan3': 2.6333333333333333,\n",
       " 'BCUT2D_MWHI': 16.6694862810266,\n",
       " 'BCUT2D_MWLOW': 10.035134652070914,\n",
       " 'BCUT2D_CHGHI': 2.275049995742843,\n",
       " 'BCUT2D_CHGLO': -2.2266063845716966,\n",
       " 'BCUT2D_LOGPHI': 2.3274644633930515,\n",
       " 'BCUT2D_LOGPLOW': -2.4483963042266264,\n",
       " 'BCUT2D_MRHI': 5.963307032019093,\n",
       " 'BCUT2D_MRLOW': -0.3846085007928553,\n",
       " 'BalabanJ': 1.7335434496101658,\n",
       " 'BertzCT': 943.87110655,\n",
       " 'Chi0': 21.67299762850792,\n",
       " 'Chi0n': 16.62242439501328,\n",
       " 'Chi0v': 16.62242439501328,\n",
       " 'Chi1': 14.363081100704115,\n",
       " 'Chi1n': 9.397827351718039,\n",
       " 'Chi1v': 9.397827351718039,\n",
       " 'Chi2n': 7.129787528126545,\n",
       " 'Chi2v': 7.129787528126545,\n",
       " 'Chi3n': 4.59561454115306,\n",
       " 'Chi3v': 4.59561454115306,\n",
       " 'Chi4n': 3.043971765214003,\n",
       " 'Chi4v': 3.043971765214003,\n",
       " 'HallKierAlpha': -3.46,\n",
       " 'Ipc': 4984143.631131341,\n",
       " 'Kappa1': 21.253710800170307,\n",
       " 'Kappa2': 9.358419759492534,\n",
       " 'Kappa3': 4.926146672522713,\n",
       " 'LabuteASA': 172.6336629963173,\n",
       " 'PEOE_VSA1': 19.527377465406477,\n",
       " 'PEOE_VSA10': 18.398234626944785,\n",
       " 'PEOE_VSA11': 6.792942306099827,\n",
       " 'PEOE_VSA12': 0.0,\n",
       " 'PEOE_VSA13': 11.594566004035068,\n",
       " 'PEOE_VSA14': 5.969305287951849,\n",
       " 'PEOE_VSA2': 14.908855452837393,\n",
       " 'PEOE_VSA3': 4.794537184071822,\n",
       " 'PEOE_VSA4': 0.0,\n",
       " 'PEOE_VSA5': 0.0,\n",
       " 'PEOE_VSA6': 32.046575604766076,\n",
       " 'PEOE_VSA7': 18.050640183084614,\n",
       " 'PEOE_VSA8': 28.823088612014207,\n",
       " 'PEOE_VSA9': 11.530193013330589,\n",
       " 'SMR_VSA1': 28.722974278361463,\n",
       " 'SMR_VSA10': 17.563871291986917,\n",
       " 'SMR_VSA2': 0.0,\n",
       " 'SMR_VSA3': 5.316788604006331,\n",
       " 'SMR_VSA4': 5.917906046161393,\n",
       " 'SMR_VSA5': 33.103079157555044,\n",
       " 'SMR_VSA6': 6.792942306099827,\n",
       " 'SMR_VSA7': 69.26924222308783,\n",
       " 'SMR_VSA8': 0.0,\n",
       " 'SMR_VSA9': 5.749511833283905,\n",
       " 'SlogP_VSA1': 10.05365155780638,\n",
       " 'SlogP_VSA10': 5.687386274683562,\n",
       " 'SlogP_VSA11': 5.749511833283905,\n",
       " 'SlogP_VSA12': 0.0,\n",
       " 'SlogP_VSA2': 29.634579201368815,\n",
       " 'SlogP_VSA3': 27.482027020697757,\n",
       " 'SlogP_VSA4': 16.032224314926967,\n",
       " 'SlogP_VSA5': 35.33236605854405,\n",
       " 'SlogP_VSA6': 42.46456947923127,\n",
       " 'SlogP_VSA7': 0.0,\n",
       " 'SlogP_VSA8': 0.0,\n",
       " 'SlogP_VSA9': 0.0,\n",
       " 'TPSA': 117.00000000000001,\n",
       " 'EState_VSA1': 16.93445716591748,\n",
       " 'EState_VSA10': 19.703392636909218,\n",
       " 'EState_VSA11': 0.0,\n",
       " 'EState_VSA2': 37.51917828532213,\n",
       " 'EState_VSA3': 22.439866308374892,\n",
       " 'EState_VSA4': 0.0,\n",
       " 'EState_VSA5': 12.13273413692322,\n",
       " 'EState_VSA6': 44.179309741689295,\n",
       " 'EState_VSA7': 0.0,\n",
       " 'EState_VSA8': 5.316788604006331,\n",
       " 'EState_VSA9': 14.210588861400147,\n",
       " 'VSA_EState1': 16.00481442754961,\n",
       " 'VSA_EState10': 0.0,\n",
       " 'VSA_EState2': 35.76581190058882,\n",
       " 'VSA_EState3': 13.887084493035658,\n",
       " 'VSA_EState4': 1.162799743297511,\n",
       " 'VSA_EState5': -0.8435539211603418,\n",
       " 'VSA_EState6': 10.342244057162196,\n",
       " 'VSA_EState7': 0.0,\n",
       " 'VSA_EState8': 3.5141326328598774,\n",
       " 'VSA_EState9': 0.0,\n",
       " 'FractionCSP3': 0.3333333333333333,\n",
       " 'HeavyAtomCount': 30,\n",
       " 'NHOHCount': 1,\n",
       " 'NOCount': 9,\n",
       " 'NumAliphaticCarbocycles': 0,\n",
       " 'NumAliphaticHeterocycles': 1,\n",
       " 'NumAliphaticRings': 1,\n",
       " 'NumAromaticCarbocycles': 2,\n",
       " 'NumAromaticHeterocycles': 0,\n",
       " 'NumAromaticRings': 2,\n",
       " 'NumHAcceptors': 7,\n",
       " 'NumHDonors': 1,\n",
       " 'NumHeteroatoms': 9,\n",
       " 'NumRotatableBonds': 7,\n",
       " 'NumSaturatedCarbocycles': 0,\n",
       " 'NumSaturatedHeterocycles': 0,\n",
       " 'NumSaturatedRings': 0,\n",
       " 'RingCount': 3,\n",
       " 'MolLogP': 2.959100000000001,\n",
       " 'MolMR': 105.71060000000003,\n",
       " 'fr_Al_COO': 0,\n",
       " 'fr_Al_OH': 0,\n",
       " 'fr_Al_OH_noTert': 0,\n",
       " 'fr_ArN': 0,\n",
       " 'fr_Ar_COO': 0,\n",
       " 'fr_Ar_N': 0,\n",
       " 'fr_Ar_NH': 0,\n",
       " 'fr_Ar_OH': 0,\n",
       " 'fr_COO': 0,\n",
       " 'fr_COO2': 0,\n",
       " 'fr_C_O': 2,\n",
       " 'fr_C_O_noCOO': 2,\n",
       " 'fr_C_S': 0,\n",
       " 'fr_HOCCN': 0,\n",
       " 'fr_Imine': 0,\n",
       " 'fr_NH0': 1,\n",
       " 'fr_NH1': 1,\n",
       " 'fr_NH2': 0,\n",
       " 'fr_N_O': 0,\n",
       " 'fr_Ndealkylation1': 0,\n",
       " 'fr_Ndealkylation2': 0,\n",
       " 'fr_Nhpyrrole': 0,\n",
       " 'fr_SH': 0,\n",
       " 'fr_aldehyde': 0,\n",
       " 'fr_alkyl_carbamate': 0,\n",
       " 'fr_alkyl_halide': 0,\n",
       " 'fr_allylic_oxid': 0,\n",
       " 'fr_amide': 1,\n",
       " 'fr_amidine': 0,\n",
       " 'fr_aniline': 0,\n",
       " 'fr_aryl_methyl': 0,\n",
       " 'fr_azide': 0,\n",
       " 'fr_azo': 0,\n",
       " 'fr_barbitur': 0,\n",
       " 'fr_benzene': 2,\n",
       " 'fr_benzodiazepine': 0,\n",
       " 'fr_bicyclic': 1,\n",
       " 'fr_diazo': 0,\n",
       " 'fr_dihydropyridine': 0,\n",
       " 'fr_epoxide': 0,\n",
       " 'fr_ester': 1,\n",
       " 'fr_ether': 3,\n",
       " 'fr_furan': 0,\n",
       " 'fr_guanido': 0,\n",
       " 'fr_halogen': 0,\n",
       " 'fr_hdrzine': 0,\n",
       " 'fr_hdrzone': 0,\n",
       " 'fr_imidazole': 0,\n",
       " 'fr_imide': 0,\n",
       " 'fr_isocyan': 0,\n",
       " 'fr_isothiocyan': 0,\n",
       " 'fr_ketone': 0,\n",
       " 'fr_ketone_Topliss': 0,\n",
       " 'fr_lactam': 0,\n",
       " 'fr_lactone': 0,\n",
       " 'fr_methoxy': 0,\n",
       " 'fr_morpholine': 0,\n",
       " 'fr_nitrile': 0,\n",
       " 'fr_nitro': 1,\n",
       " 'fr_nitro_arom': 1,\n",
       " 'fr_nitro_arom_nonortho': 1,\n",
       " 'fr_nitroso': 0,\n",
       " 'fr_oxazole': 0,\n",
       " 'fr_oxime': 0,\n",
       " 'fr_para_hydroxylation': 0,\n",
       " 'fr_phenol': 0,\n",
       " 'fr_phenol_noOrthoHbond': 0,\n",
       " 'fr_phos_acid': 0,\n",
       " 'fr_phos_ester': 0,\n",
       " 'fr_piperdine': 0,\n",
       " 'fr_piperzine': 0,\n",
       " 'fr_priamide': 0,\n",
       " 'fr_prisulfonamd': 0,\n",
       " 'fr_pyridine': 0,\n",
       " 'fr_quatN': 0,\n",
       " 'fr_sulfide': 0,\n",
       " 'fr_sulfonamd': 0,\n",
       " 'fr_sulfone': 0,\n",
       " 'fr_term_acetylene': 0,\n",
       " 'fr_tetrazole': 0,\n",
       " 'fr_thiazole': 0,\n",
       " 'fr_thiocyan': 0,\n",
       " 'fr_thiophene': 0,\n",
       " 'fr_unbrch_alkane': 0,\n",
       " 'fr_urea': 0}"
      ]
     },
     "execution_count": 99,
     "metadata": {},
     "output_type": "execute_result"
    }
   ],
   "source": [
    "getMolDescriptors(mol)"
   ]
  },
  {
   "cell_type": "code",
   "execution_count": 100,
   "id": "47c07aef",
   "metadata": {
    "id": "47c07aef"
   },
   "outputs": [
    {
     "data": {
      "text/html": [
       "<div>\n",
       "<style scoped>\n",
       "    .dataframe tbody tr th:only-of-type {\n",
       "        vertical-align: middle;\n",
       "    }\n",
       "\n",
       "    .dataframe tbody tr th {\n",
       "        vertical-align: top;\n",
       "    }\n",
       "\n",
       "    .dataframe thead th {\n",
       "        text-align: right;\n",
       "    }\n",
       "</style>\n",
       "<table border=\"1\" class=\"dataframe\">\n",
       "  <thead>\n",
       "    <tr style=\"text-align: right;\">\n",
       "      <th></th>\n",
       "      <th>MaxEStateIndex</th>\n",
       "      <th>MinEStateIndex</th>\n",
       "      <th>MaxAbsEStateIndex</th>\n",
       "      <th>MinAbsEStateIndex</th>\n",
       "      <th>qed</th>\n",
       "      <th>MolWt</th>\n",
       "      <th>HeavyAtomMolWt</th>\n",
       "      <th>ExactMolWt</th>\n",
       "      <th>NumValenceElectrons</th>\n",
       "      <th>NumRadicalElectrons</th>\n",
       "      <th>...</th>\n",
       "      <th>fr_sulfide</th>\n",
       "      <th>fr_sulfonamd</th>\n",
       "      <th>fr_sulfone</th>\n",
       "      <th>fr_term_acetylene</th>\n",
       "      <th>fr_tetrazole</th>\n",
       "      <th>fr_thiazole</th>\n",
       "      <th>fr_thiocyan</th>\n",
       "      <th>fr_thiophene</th>\n",
       "      <th>fr_unbrch_alkane</th>\n",
       "      <th>fr_urea</th>\n",
       "    </tr>\n",
       "  </thead>\n",
       "  <tbody>\n",
       "    <tr>\n",
       "      <th>0</th>\n",
       "      <td>13.083531</td>\n",
       "      <td>-0.683140</td>\n",
       "      <td>13.083531</td>\n",
       "      <td>0.001173</td>\n",
       "      <td>0.520365</td>\n",
       "      <td>463.542</td>\n",
       "      <td>434.310</td>\n",
       "      <td>463.233188</td>\n",
       "      <td>178</td>\n",
       "      <td>0</td>\n",
       "      <td>...</td>\n",
       "      <td>0</td>\n",
       "      <td>0</td>\n",
       "      <td>0</td>\n",
       "      <td>0</td>\n",
       "      <td>1</td>\n",
       "      <td>0</td>\n",
       "      <td>0</td>\n",
       "      <td>0</td>\n",
       "      <td>0</td>\n",
       "      <td>0</td>\n",
       "    </tr>\n",
       "    <tr>\n",
       "      <th>1</th>\n",
       "      <td>12.170097</td>\n",
       "      <td>-0.066966</td>\n",
       "      <td>12.170097</td>\n",
       "      <td>0.066966</td>\n",
       "      <td>0.498564</td>\n",
       "      <td>378.457</td>\n",
       "      <td>360.313</td>\n",
       "      <td>378.115047</td>\n",
       "      <td>136</td>\n",
       "      <td>0</td>\n",
       "      <td>...</td>\n",
       "      <td>1</td>\n",
       "      <td>0</td>\n",
       "      <td>0</td>\n",
       "      <td>0</td>\n",
       "      <td>0</td>\n",
       "      <td>0</td>\n",
       "      <td>0</td>\n",
       "      <td>0</td>\n",
       "      <td>0</td>\n",
       "      <td>0</td>\n",
       "    </tr>\n",
       "    <tr>\n",
       "      <th>2</th>\n",
       "      <td>10.905837</td>\n",
       "      <td>-0.016881</td>\n",
       "      <td>10.905837</td>\n",
       "      <td>0.016881</td>\n",
       "      <td>0.382043</td>\n",
       "      <td>477.589</td>\n",
       "      <td>444.325</td>\n",
       "      <td>477.260865</td>\n",
       "      <td>184</td>\n",
       "      <td>0</td>\n",
       "      <td>...</td>\n",
       "      <td>0</td>\n",
       "      <td>0</td>\n",
       "      <td>0</td>\n",
       "      <td>0</td>\n",
       "      <td>1</td>\n",
       "      <td>0</td>\n",
       "      <td>0</td>\n",
       "      <td>0</td>\n",
       "      <td>0</td>\n",
       "      <td>0</td>\n",
       "    </tr>\n",
       "    <tr>\n",
       "      <th>3</th>\n",
       "      <td>11.562446</td>\n",
       "      <td>-0.454447</td>\n",
       "      <td>11.562446</td>\n",
       "      <td>0.270607</td>\n",
       "      <td>0.795948</td>\n",
       "      <td>330.609</td>\n",
       "      <td>317.505</td>\n",
       "      <td>328.981818</td>\n",
       "      <td>96</td>\n",
       "      <td>0</td>\n",
       "      <td>...</td>\n",
       "      <td>0</td>\n",
       "      <td>0</td>\n",
       "      <td>0</td>\n",
       "      <td>0</td>\n",
       "      <td>0</td>\n",
       "      <td>0</td>\n",
       "      <td>0</td>\n",
       "      <td>0</td>\n",
       "      <td>0</td>\n",
       "      <td>0</td>\n",
       "    </tr>\n",
       "    <tr>\n",
       "      <th>4</th>\n",
       "      <td>12.108866</td>\n",
       "      <td>-3.251317</td>\n",
       "      <td>12.108866</td>\n",
       "      <td>0.086947</td>\n",
       "      <td>0.687618</td>\n",
       "      <td>419.553</td>\n",
       "      <td>402.417</td>\n",
       "      <td>419.043204</td>\n",
       "      <td>140</td>\n",
       "      <td>0</td>\n",
       "      <td>...</td>\n",
       "      <td>0</td>\n",
       "      <td>1</td>\n",
       "      <td>0</td>\n",
       "      <td>0</td>\n",
       "      <td>0</td>\n",
       "      <td>1</td>\n",
       "      <td>0</td>\n",
       "      <td>1</td>\n",
       "      <td>0</td>\n",
       "      <td>0</td>\n",
       "    </tr>\n",
       "  </tbody>\n",
       "</table>\n",
       "<p>5 rows × 208 columns</p>\n",
       "</div>"
      ],
      "text/plain": [
       "   MaxEStateIndex  MinEStateIndex  MaxAbsEStateIndex  MinAbsEStateIndex  \\\n",
       "0       13.083531       -0.683140          13.083531           0.001173   \n",
       "1       12.170097       -0.066966          12.170097           0.066966   \n",
       "2       10.905837       -0.016881          10.905837           0.016881   \n",
       "3       11.562446       -0.454447          11.562446           0.270607   \n",
       "4       12.108866       -3.251317          12.108866           0.086947   \n",
       "\n",
       "        qed    MolWt  HeavyAtomMolWt  ExactMolWt  NumValenceElectrons  \\\n",
       "0  0.520365  463.542         434.310  463.233188                  178   \n",
       "1  0.498564  378.457         360.313  378.115047                  136   \n",
       "2  0.382043  477.589         444.325  477.260865                  184   \n",
       "3  0.795948  330.609         317.505  328.981818                   96   \n",
       "4  0.687618  419.553         402.417  419.043204                  140   \n",
       "\n",
       "   NumRadicalElectrons  ...  fr_sulfide  fr_sulfonamd  fr_sulfone  \\\n",
       "0                    0  ...           0             0           0   \n",
       "1                    0  ...           1             0           0   \n",
       "2                    0  ...           0             0           0   \n",
       "3                    0  ...           0             0           0   \n",
       "4                    0  ...           0             1           0   \n",
       "\n",
       "   fr_term_acetylene  fr_tetrazole  fr_thiazole  fr_thiocyan  fr_thiophene  \\\n",
       "0                  0             1            0            0             0   \n",
       "1                  0             0            0            0             0   \n",
       "2                  0             1            0            0             0   \n",
       "3                  0             0            0            0             0   \n",
       "4                  0             0            1            0             1   \n",
       "\n",
       "   fr_unbrch_alkane  fr_urea  \n",
       "0                 0        0  \n",
       "1                 0        0  \n",
       "2                 0        0  \n",
       "3                 0        0  \n",
       "4                 0        0  \n",
       "\n",
       "[5 rows x 208 columns]"
      ]
     },
     "execution_count": 100,
     "metadata": {},
     "output_type": "execute_result"
    }
   ],
   "source": [
    "allDescrs = []\n",
    "for _, row in df_smiles.iterrows():\n",
    "    mol = row['SMILES']\n",
    "    m = Chem.MolFromSmiles(mol)\n",
    "    descriptors = getMolDescriptors(m)\n",
    "    allDescrs.append(descriptors)\n",
    "    \n",
    "df_descr = pd.DataFrame(allDescrs)\n",
    "df_descr.head()"
   ]
  },
  {
   "cell_type": "markdown",
   "id": "8YFZO9c845Vk",
   "metadata": {
    "id": "8YFZO9c845Vk"
   },
   "source": [
    "Delete the collumns that have only one unique value, so a column where each value is the mean, and variance is 0"
   ]
  },
  {
   "cell_type": "code",
   "execution_count": 101,
   "id": "Tk1p99Fb2HjW",
   "metadata": {
    "id": "Tk1p99Fb2HjW"
   },
   "outputs": [
    {
     "name": "stdout",
     "output_type": "stream",
     "text": [
      "['NumRadicalElectrons', 'SMR_VSA8', 'SlogP_VSA9', 'EState_VSA11', 'fr_HOCCN', 'fr_azide', 'fr_benzodiazepine', 'fr_diazo', 'fr_dihydropyridine', 'fr_epoxide', 'fr_isocyan', 'fr_isothiocyan', 'fr_phos_acid', 'fr_phos_ester', 'fr_prisulfonamd']\n"
     ]
    }
   ],
   "source": [
    "#Deletes colums with nonsense values (only the same values)\n",
    "bad_descr=[]\n",
    "for i in df_descr.columns:\n",
    "    if df_descr[i].nunique() == 1:\n",
    "        bad_descr.append(i)\n",
    "print(bad_descr)       \n",
    "df_nonzero=df_descr.drop(columns=bad_descr)  "
   ]
  },
  {
   "cell_type": "markdown",
   "id": "VsdFlqFG5IHA",
   "metadata": {
    "id": "VsdFlqFG5IHA"
   },
   "source": [
    "Remove variables so that no variables are left that have a corralation with another variable higher than the set threshold for corralarion"
   ]
  },
  {
   "cell_type": "code",
   "execution_count": 102,
   "id": "Dml2f4GC2aga",
   "metadata": {
    "id": "Dml2f4GC2aga"
   },
   "outputs": [
    {
     "data": {
      "text/html": [
       "<div>\n",
       "<style scoped>\n",
       "    .dataframe tbody tr th:only-of-type {\n",
       "        vertical-align: middle;\n",
       "    }\n",
       "\n",
       "    .dataframe tbody tr th {\n",
       "        vertical-align: top;\n",
       "    }\n",
       "\n",
       "    .dataframe thead th {\n",
       "        text-align: right;\n",
       "    }\n",
       "</style>\n",
       "<table border=\"1\" class=\"dataframe\">\n",
       "  <thead>\n",
       "    <tr style=\"text-align: right;\">\n",
       "      <th></th>\n",
       "      <th>MaxEStateIndex</th>\n",
       "      <th>MinEStateIndex</th>\n",
       "      <th>MinAbsEStateIndex</th>\n",
       "      <th>qed</th>\n",
       "      <th>MolWt</th>\n",
       "      <th>MaxPartialCharge</th>\n",
       "      <th>MinPartialCharge</th>\n",
       "      <th>FpDensityMorgan1</th>\n",
       "      <th>BCUT2D_MWHI</th>\n",
       "      <th>BCUT2D_MWLOW</th>\n",
       "      <th>...</th>\n",
       "      <th>fr_sulfide</th>\n",
       "      <th>fr_sulfonamd</th>\n",
       "      <th>fr_sulfone</th>\n",
       "      <th>fr_term_acetylene</th>\n",
       "      <th>fr_tetrazole</th>\n",
       "      <th>fr_thiazole</th>\n",
       "      <th>fr_thiocyan</th>\n",
       "      <th>fr_thiophene</th>\n",
       "      <th>fr_unbrch_alkane</th>\n",
       "      <th>fr_urea</th>\n",
       "    </tr>\n",
       "  </thead>\n",
       "  <tbody>\n",
       "    <tr>\n",
       "      <th>0</th>\n",
       "      <td>13.083531</td>\n",
       "      <td>-0.683140</td>\n",
       "      <td>0.001173</td>\n",
       "      <td>0.520365</td>\n",
       "      <td>463.542</td>\n",
       "      <td>0.249868</td>\n",
       "      <td>-0.496477</td>\n",
       "      <td>1.088235</td>\n",
       "      <td>16.465857</td>\n",
       "      <td>10.012387</td>\n",
       "      <td>...</td>\n",
       "      <td>0</td>\n",
       "      <td>0</td>\n",
       "      <td>0</td>\n",
       "      <td>0</td>\n",
       "      <td>1</td>\n",
       "      <td>0</td>\n",
       "      <td>0</td>\n",
       "      <td>0</td>\n",
       "      <td>0</td>\n",
       "      <td>0</td>\n",
       "    </tr>\n",
       "    <tr>\n",
       "      <th>1</th>\n",
       "      <td>12.170097</td>\n",
       "      <td>-0.066966</td>\n",
       "      <td>0.066966</td>\n",
       "      <td>0.498564</td>\n",
       "      <td>378.457</td>\n",
       "      <td>0.230353</td>\n",
       "      <td>-0.467476</td>\n",
       "      <td>1.111111</td>\n",
       "      <td>32.166556</td>\n",
       "      <td>10.202245</td>\n",
       "      <td>...</td>\n",
       "      <td>1</td>\n",
       "      <td>0</td>\n",
       "      <td>0</td>\n",
       "      <td>0</td>\n",
       "      <td>0</td>\n",
       "      <td>0</td>\n",
       "      <td>0</td>\n",
       "      <td>0</td>\n",
       "      <td>0</td>\n",
       "      <td>0</td>\n",
       "    </tr>\n",
       "    <tr>\n",
       "      <th>2</th>\n",
       "      <td>10.905837</td>\n",
       "      <td>-0.016881</td>\n",
       "      <td>0.016881</td>\n",
       "      <td>0.382043</td>\n",
       "      <td>477.589</td>\n",
       "      <td>0.219930</td>\n",
       "      <td>-0.492903</td>\n",
       "      <td>1.228571</td>\n",
       "      <td>16.492058</td>\n",
       "      <td>9.989823</td>\n",
       "      <td>...</td>\n",
       "      <td>0</td>\n",
       "      <td>0</td>\n",
       "      <td>0</td>\n",
       "      <td>0</td>\n",
       "      <td>1</td>\n",
       "      <td>0</td>\n",
       "      <td>0</td>\n",
       "      <td>0</td>\n",
       "      <td>0</td>\n",
       "      <td>0</td>\n",
       "    </tr>\n",
       "    <tr>\n",
       "      <th>3</th>\n",
       "      <td>11.562446</td>\n",
       "      <td>-0.454447</td>\n",
       "      <td>0.270607</td>\n",
       "      <td>0.795948</td>\n",
       "      <td>330.609</td>\n",
       "      <td>0.351723</td>\n",
       "      <td>-0.421732</td>\n",
       "      <td>1.333333</td>\n",
       "      <td>79.918731</td>\n",
       "      <td>10.173315</td>\n",
       "      <td>...</td>\n",
       "      <td>0</td>\n",
       "      <td>0</td>\n",
       "      <td>0</td>\n",
       "      <td>0</td>\n",
       "      <td>0</td>\n",
       "      <td>0</td>\n",
       "      <td>0</td>\n",
       "      <td>0</td>\n",
       "      <td>0</td>\n",
       "      <td>0</td>\n",
       "    </tr>\n",
       "    <tr>\n",
       "      <th>4</th>\n",
       "      <td>12.108866</td>\n",
       "      <td>-3.251317</td>\n",
       "      <td>0.086947</td>\n",
       "      <td>0.687618</td>\n",
       "      <td>419.553</td>\n",
       "      <td>0.231765</td>\n",
       "      <td>-0.301646</td>\n",
       "      <td>1.296296</td>\n",
       "      <td>32.233291</td>\n",
       "      <td>10.071048</td>\n",
       "      <td>...</td>\n",
       "      <td>0</td>\n",
       "      <td>1</td>\n",
       "      <td>0</td>\n",
       "      <td>0</td>\n",
       "      <td>0</td>\n",
       "      <td>1</td>\n",
       "      <td>0</td>\n",
       "      <td>1</td>\n",
       "      <td>0</td>\n",
       "      <td>0</td>\n",
       "    </tr>\n",
       "  </tbody>\n",
       "</table>\n",
       "<p>5 rows × 157 columns</p>\n",
       "</div>"
      ],
      "text/plain": [
       "   MaxEStateIndex  MinEStateIndex  MinAbsEStateIndex       qed    MolWt  \\\n",
       "0       13.083531       -0.683140           0.001173  0.520365  463.542   \n",
       "1       12.170097       -0.066966           0.066966  0.498564  378.457   \n",
       "2       10.905837       -0.016881           0.016881  0.382043  477.589   \n",
       "3       11.562446       -0.454447           0.270607  0.795948  330.609   \n",
       "4       12.108866       -3.251317           0.086947  0.687618  419.553   \n",
       "\n",
       "   MaxPartialCharge  MinPartialCharge  FpDensityMorgan1  BCUT2D_MWHI  \\\n",
       "0          0.249868         -0.496477          1.088235    16.465857   \n",
       "1          0.230353         -0.467476          1.111111    32.166556   \n",
       "2          0.219930         -0.492903          1.228571    16.492058   \n",
       "3          0.351723         -0.421732          1.333333    79.918731   \n",
       "4          0.231765         -0.301646          1.296296    32.233291   \n",
       "\n",
       "   BCUT2D_MWLOW  ...  fr_sulfide  fr_sulfonamd  fr_sulfone  fr_term_acetylene  \\\n",
       "0     10.012387  ...           0             0           0                  0   \n",
       "1     10.202245  ...           1             0           0                  0   \n",
       "2      9.989823  ...           0             0           0                  0   \n",
       "3     10.173315  ...           0             0           0                  0   \n",
       "4     10.071048  ...           0             1           0                  0   \n",
       "\n",
       "   fr_tetrazole  fr_thiazole  fr_thiocyan  fr_thiophene  fr_unbrch_alkane  \\\n",
       "0             1            0            0             0                 0   \n",
       "1             0            0            0             0                 0   \n",
       "2             1            0            0             0                 0   \n",
       "3             0            0            0             0                 0   \n",
       "4             0            1            0             1                 0   \n",
       "\n",
       "   fr_urea  \n",
       "0        0  \n",
       "1        0  \n",
       "2        0  \n",
       "3        0  \n",
       "4        0  \n",
       "\n",
       "[5 rows x 157 columns]"
      ]
     },
     "execution_count": 102,
     "metadata": {},
     "output_type": "execute_result"
    }
   ],
   "source": [
    "corrThreshold = 0.90\n",
    "\n",
    "\n",
    "correlation_mat = df_nonzero.corr()\n",
    "upper_tri = correlation_mat.where(np.triu(np.ones(correlation_mat.shape),k=1).astype(bool)) \n",
    "to_drop = [column for column in upper_tri.columns if any(upper_tri[column].abs() > corrThreshold)] \n",
    "df_noCorr = df_nonzero.drop(columns=to_drop)\n",
    "\n",
    "\n",
    "\n",
    "df_noCorr.head()"
   ]
  },
  {
   "cell_type": "code",
   "execution_count": 103,
   "id": "5458a4ab",
   "metadata": {
    "id": "5458a4ab"
   },
   "outputs": [],
   "source": [
    "scaler = MinMaxScaler()\n",
    "df_scaled = scaler.fit_transform(df_noCorr)\n",
    "\n",
    "pca = PCA(n_components=150)\n",
    "principalComponents = pca.fit_transform(df_scaled)\n",
    "principalDf = pd.DataFrame(data = principalComponents)\n",
    "exp_var_pca = pca.explained_variance_ratio_\n",
    "cum_sum_eigenvalues = np.cumsum(exp_var_pca)"
   ]
  },
  {
   "cell_type": "code",
   "execution_count": 104,
   "id": "ae81f9c2",
   "metadata": {
    "id": "ae81f9c2"
   },
   "outputs": [
    {
     "data": {
      "image/png": "[encoded data removed]",
      "text/plain": [
       "<Figure size 640x480 with 1 Axes>"
      ]
     },
     "metadata": {},
     "output_type": "display_data"
    },
    {
     "data": {
      "text/plain": [
       "<matplotlib.legend.Legend at 0x1a0732f9888>"
      ]
     },
     "execution_count": 104,
     "metadata": {},
     "output_type": "execute_result"
    },
    {
     "data": {
      "image/png": "[encoded data removed]",
      "text/plain": [
       "<Figure size 640x480 with 1 Axes>"
      ]
     },
     "metadata": {},
     "output_type": "display_data"
    }
   ],
   "source": [
    "plt.bar(range(1,len(cum_sum_eigenvalues)+1), cum_sum_eigenvalues, align='center',label='Cumulative explained variance');\n",
    "plt.ylabel('Cumulative variance ratio')\n",
    "plt.xlabel('Number of Components')\n",
    "plt.legend(loc='best')\n",
    "plt.tight_layout()\n",
    "plt.show()\n",
    "\n",
    "#scree plot om aantal PCA te bepalen\n",
    "plt.bar(range(1,len(exp_var_pca)+1), exp_var_pca, alpha=0.5, align='center', label='Individual explained variance');\n",
    "plt.ylabel('Explained variance ratio')\n",
    "plt.xlabel('Number of Components')\n",
    "plt.legend(loc='best')"
   ]
  },
  {
   "cell_type": "markdown",
   "id": "78613b44",
   "metadata": {},
   "source": [
    "COMMENT: niet duidelijk wat onderstaande code nu doet"
   ]
  },
  {
   "cell_type": "code",
   "execution_count": 105,
   "id": "0aa22e0d",
   "metadata": {
    "id": "0aa22e0d"
   },
   "outputs": [],
   "source": [
    "def good_correlation(df1, treshold=0.3):\n",
    "    cm = df1.corr() #correlation matrix\n",
    "    np.fill_diagonal(cm.values, 0) # set diagonal to 0 \n",
    "    corr = [(cm.index[x], cm.columns[y], cm.iloc[x,y]) for x, y in zip(*np.where(abs(np.tril(cm)) > treshold))] # create couple (feature1, feature2, value)\n",
    "    for couple in corr:\n",
    "        feature1, feature2, value = couple\n",
    "        #print(f'{feature1} and {feature2} are strongly correlated (treshold = {treshold}) (value = {value})')\n",
    "\n",
    "    return cm, corr"
   ]
  },
  {
   "cell_type": "code",
   "execution_count": 106,
   "id": "f15b6a58",
   "metadata": {
    "id": "f15b6a58"
   },
   "outputs": [
    {
     "data": {
      "text/plain": [
       "[]"
      ]
     },
     "execution_count": 106,
     "metadata": {},
     "output_type": "execute_result"
    }
   ],
   "source": [
    "good_correlation(df_noCorr, treshold=0.9)[1]"
   ]
  },
  {
   "cell_type": "code",
   "execution_count": 107,
   "id": "o8WO78DpNnLc",
   "metadata": {
    "id": "o8WO78DpNnLc"
   },
   "outputs": [],
   "source": [
    "#verwijderen van features die lage variance hebben\n",
    "#x is hierbij je matrix met alle features.\n",
    "from sklearn.feature_selection import VarianceThreshold\n",
    "selection = VarianceThreshold(threshold=(.8*(1-.8)))\n",
    "df_noCorr = selection.fit_transform(df_noCorr)\n"
   ]
  },
  {
   "cell_type": "markdown",
   "id": "6656e0f8",
   "metadata": {},
   "source": [
    "# Random Forest Model"
   ]
  },
  {
   "cell_type": "code",
   "execution_count": 108,
   "id": "cf1e8750",
   "metadata": {},
   "outputs": [],
   "source": [
    "features = np.array(principalDf)\n",
    "feature_names = list(principalDf.columns)\n",
    "target = np.array(df_smiles['ALDH1_inhibition'])"
   ]
  },
  {
   "cell_type": "markdown",
   "id": "c48f1a04",
   "metadata": {},
   "source": [
    "### Training & test set"
   ]
  },
  {
   "cell_type": "code",
   "execution_count": 109,
   "id": "c5d14208",
   "metadata": {},
   "outputs": [
    {
     "name": "stdout",
     "output_type": "stream",
     "text": [
      "Training Features Shape: (800, 150)\n",
      "Training Labels Shape: (800,)\n",
      "Testing Features Shape: (200, 150)\n",
      "Testing Labels Shape: (200,)\n"
     ]
    }
   ],
   "source": [
    "# Split the data into training and testing sets\n",
    "train_features, test_features, train_labels, test_labels = train_test_split(features, target, test_size = 0.20, random_state = 42)\n",
    "\n",
    "#check the shapes\n",
    "print('Training Features Shape:', train_features.shape)\n",
    "print('Training Labels Shape:', train_labels.shape)\n",
    "print('Testing Features Shape:', test_features.shape)\n",
    "print('Testing Labels Shape:', test_labels.shape)"
   ]
  },
  {
   "cell_type": "markdown",
   "id": "8ffe992a",
   "metadata": {},
   "source": [
    "## Random Forest Regressor Model"
   ]
  },
  {
   "cell_type": "code",
   "execution_count": 110,
   "id": "307ddfae",
   "metadata": {},
   "outputs": [],
   "source": [
    "# Instantiate model with 1000 decision trees\n",
    "rf = RandomForestRegressor(n_estimators = 1000, random_state = 42)\n",
    "# Train the model on training data\n",
    "rf.fit(train_features, train_labels);"
   ]
  },
  {
   "cell_type": "markdown",
   "id": "f2728caa",
   "metadata": {},
   "source": [
    "### Predictions"
   ]
  },
  {
   "cell_type": "code",
   "execution_count": 111,
   "id": "7e096288",
   "metadata": {},
   "outputs": [
    {
     "data": {
      "text/plain": [
       "array([0.199, 0.516, 0.451, 0.456, 0.212, 0.385, 0.25 , 0.284, 0.247,\n",
       "       0.322, 0.284, 0.398, 0.101, 0.361, 0.446, 0.274, 0.207, 0.267,\n",
       "       0.453, 0.499, 0.42 , 0.367, 0.224, 0.302, 0.458, 0.242, 0.427,\n",
       "       0.259, 0.301, 0.305, 0.308, 0.532, 0.613, 0.362, 0.289, 0.491,\n",
       "       0.227, 0.246, 0.337, 0.421, 0.398, 0.281, 0.469, 0.181, 0.397,\n",
       "       0.466, 0.138, 0.171, 0.229, 0.278, 0.4  , 0.257, 0.359, 0.18 ,\n",
       "       0.203, 0.374, 0.488, 0.295, 0.58 , 0.085, 0.36 , 0.323, 0.089,\n",
       "       0.365, 0.317, 0.245, 0.37 , 0.283, 0.437, 0.092, 0.343, 0.079,\n",
       "       0.283, 0.393, 0.165, 0.469, 0.11 , 0.409, 0.211, 0.255, 0.313,\n",
       "       0.398, 0.356, 0.395, 0.113, 0.275, 0.169, 0.22 , 0.259, 0.502,\n",
       "       0.25 , 0.471, 0.219, 0.245, 0.305, 0.288, 0.423, 0.213, 0.272,\n",
       "       0.404, 0.397, 0.312, 0.236, 0.391, 0.306, 0.259, 0.472, 0.255,\n",
       "       0.51 , 0.284, 0.247, 0.356, 0.319, 0.24 , 0.418, 0.391, 0.426,\n",
       "       0.501, 0.135, 0.335, 0.18 , 0.244, 0.171, 0.202, 0.21 , 0.311,\n",
       "       0.49 , 0.37 , 0.174, 0.084, 0.411, 0.273, 0.092, 0.34 , 0.22 ,\n",
       "       0.556, 0.346, 0.294, 0.155, 0.187, 0.297, 0.432, 0.353, 0.34 ,\n",
       "       0.387, 0.129, 0.146, 0.214, 0.257, 0.362, 0.274, 0.338, 0.181,\n",
       "       0.33 , 0.408, 0.215, 0.23 , 0.293, 0.177, 0.28 , 0.292, 0.307,\n",
       "       0.281, 0.362, 0.286, 0.476, 0.362, 0.172, 0.399, 0.419, 0.336,\n",
       "       0.403, 0.343, 0.353, 0.088, 0.194, 0.398, 0.511, 0.356, 0.329,\n",
       "       0.314, 0.465, 0.203, 0.2  , 0.499, 0.374, 0.214, 0.227, 0.323,\n",
       "       0.123, 0.295, 0.402, 0.093, 0.329, 0.107, 0.393, 0.131, 0.571,\n",
       "       0.462, 0.287])"
      ]
     },
     "execution_count": 111,
     "metadata": {},
     "output_type": "execute_result"
    }
   ],
   "source": [
    "# Use the forest's predict method on the test data\n",
    "predictions = rf.predict(test_features)\n",
    "# Calculate the absolute errors\n",
    "errors = abs(predictions - test_labels)\n",
    "\n",
    "predictions\n",
    "# Print out the mean absolute error (mae)\n",
    "#print('Mean Absolute Error:', round(np.mean(errors), 2), 'degrees.')"
   ]
  },
  {
   "cell_type": "markdown",
   "id": "a99a41ba",
   "metadata": {},
   "source": [
    "## Random Forest Classifier Model"
   ]
  },
  {
   "cell_type": "code",
   "execution_count": 112,
   "id": "1ecc1e6b",
   "metadata": {},
   "outputs": [
    {
     "data": {
      "text/plain": [
       "RandomForestClassifier()"
      ]
     },
     "execution_count": 112,
     "metadata": {},
     "output_type": "execute_result"
    }
   ],
   "source": [
    "clf=RandomForestClassifier()\n",
    "clf.fit(train_features, train_labels)"
   ]
  },
  {
   "cell_type": "markdown",
   "id": "28f00e78",
   "metadata": {},
   "source": [
    "### Predictions"
   ]
  },
  {
   "cell_type": "code",
   "execution_count": 113,
   "id": "a4ace218",
   "metadata": {},
   "outputs": [
    {
     "name": "stdout",
     "output_type": "stream",
     "text": [
      "[0 1 0 0 0 0 0 0 0 0 0 0 0 0 1 0 0 0 0 0 0 0 0 0 0 0 0 0 0 0 0 1 1 0 0 0 0\n",
      " 0 0 0 0 0 0 0 0 0 0 0 0 0 0 0 0 0 0 0 0 0 1 0 0 0 0 0 0 0 0 0 0 0 0 0 0 0\n",
      " 0 0 0 0 0 0 0 0 0 0 0 0 0 0 0 1 0 0 0 0 0 0 0 0 0 0 0 0 0 0 0 0 0 0 0 0 0\n",
      " 0 0 0 0 0 0 0 0 0 0 0 0 0 0 0 0 0 0 0 0 0 0 0 0 0 0 0 0 0 0 0 0 0 0 0 0 0\n",
      " 0 0 0 0 0 0 0 0 0 0 0 0 0 0 0 0 0 1 0 0 0 0 0 0 0 0 0 0 0 0 0 0 0 0 0 0 0\n",
      " 0 0 0 0 0 0 0 0 0 0 0 0 1 0 0]\n",
      "accuracy of the training set 1.0\n",
      "accuracy of the test set 0.69\n",
      "0.5071428571428571\n"
     ]
    }
   ],
   "source": [
    "preds = clf.predict(test_features)\n",
    "print(preds)\n",
    "print (\"accuracy of the training set\",clf.score(train_features, train_labels))\n",
    "print(\"accuracy of the test set\" ,clf.score(test_features, test_labels))\n",
    "\n",
    "default_acc = metrics.balanced_accuracy_score(test_labels, preds)\n",
    "print(default_acc)"
   ]
  },
  {
   "cell_type": "code",
   "execution_count": 114,
   "id": "0d05000f",
   "metadata": {},
   "outputs": [
    {
     "data": {
      "text/html": [
       "<div>\n",
       "<style scoped>\n",
       "    .dataframe tbody tr th:only-of-type {\n",
       "        vertical-align: middle;\n",
       "    }\n",
       "\n",
       "    .dataframe tbody tr th {\n",
       "        vertical-align: top;\n",
       "    }\n",
       "\n",
       "    .dataframe thead th {\n",
       "        text-align: right;\n",
       "    }\n",
       "</style>\n",
       "<table border=\"1\" class=\"dataframe\">\n",
       "  <thead>\n",
       "    <tr style=\"text-align: right;\">\n",
       "      <th></th>\n",
       "      <th>0</th>\n",
       "    </tr>\n",
       "  </thead>\n",
       "  <tbody>\n",
       "    <tr>\n",
       "      <th>0</th>\n",
       "      <td>0.012646</td>\n",
       "    </tr>\n",
       "    <tr>\n",
       "      <th>72</th>\n",
       "      <td>0.012237</td>\n",
       "    </tr>\n",
       "    <tr>\n",
       "      <th>27</th>\n",
       "      <td>0.012124</td>\n",
       "    </tr>\n",
       "    <tr>\n",
       "      <th>17</th>\n",
       "      <td>0.012002</td>\n",
       "    </tr>\n",
       "    <tr>\n",
       "      <th>16</th>\n",
       "      <td>0.011814</td>\n",
       "    </tr>\n",
       "    <tr>\n",
       "      <th>...</th>\n",
       "      <td>...</td>\n",
       "    </tr>\n",
       "    <tr>\n",
       "      <th>81</th>\n",
       "      <td>0.004402</td>\n",
       "    </tr>\n",
       "    <tr>\n",
       "      <th>94</th>\n",
       "      <td>0.004190</td>\n",
       "    </tr>\n",
       "    <tr>\n",
       "      <th>103</th>\n",
       "      <td>0.003901</td>\n",
       "    </tr>\n",
       "    <tr>\n",
       "      <th>76</th>\n",
       "      <td>0.003896</td>\n",
       "    </tr>\n",
       "    <tr>\n",
       "      <th>28</th>\n",
       "      <td>0.003715</td>\n",
       "    </tr>\n",
       "  </tbody>\n",
       "</table>\n",
       "<p>150 rows × 1 columns</p>\n",
       "</div>"
      ],
      "text/plain": [
       "            0\n",
       "0    0.012646\n",
       "72   0.012237\n",
       "27   0.012124\n",
       "17   0.012002\n",
       "16   0.011814\n",
       "..        ...\n",
       "81   0.004402\n",
       "94   0.004190\n",
       "103  0.003901\n",
       "76   0.003896\n",
       "28   0.003715\n",
       "\n",
       "[150 rows x 1 columns]"
      ]
     },
     "execution_count": 114,
     "metadata": {},
     "output_type": "execute_result"
    }
   ],
   "source": [
    "#determine which pc is most important, order\n",
    "pd.DataFrame(clf.feature_importances_, index=principalDf.columns).sort_values(by=0, ascending=False)"
   ]
  },
  {
   "cell_type": "markdown",
   "id": "83b78453",
   "metadata": {},
   "source": [
    "### Support vector machine"
   ]
  },
  {
   "cell_type": "code",
   "execution_count": 115,
   "id": "4f8b790f",
   "metadata": {},
   "outputs": [],
   "source": [
    "# Make SVM model without optimizing the hyperparameters\n",
    "SVC_model_default = SVC()\n",
    "SVC_model_default.fit(train_features, train_labels)\n",
    "y_pred_SVC_default =SVC_model_default.predict(test_features)"
   ]
  },
  {
   "cell_type": "code",
   "execution_count": 116,
   "id": "e074215e",
   "metadata": {},
   "outputs": [],
   "source": [
    "# Define the parameter values used in GridSearch\n",
    "estimator_SVM = SVC(gamma = 'auto')\n",
    "parameters_SVM = {\n",
    "    'C':(0.1,1, 10, 100), #(0.1, 15.0, 0.1)\n",
    "    'kernel': ('linear', 'poly', 'rbf', 'sigmoid'),\n",
    "    'coef0': (0.0, 10.0, 1.0),\n",
    "    'shrinking': (True, False)}   "
   ]
  },
  {
   "cell_type": "code",
   "execution_count": 117,
   "id": "eae14360",
   "metadata": {},
   "outputs": [],
   "source": [
    "# Find the optimal parameter values \n",
    "grid_search_SVM = GridSearchCV(\n",
    "    estimator=estimator_SVM,\n",
    "    param_grid=parameters_SVM,\n",
    "    scoring = 'balanced_accuracy',\n",
    "    n_jobs = -1,\n",
    "    cv = 5\n",
    ")"
   ]
  },
  {
   "cell_type": "code",
   "execution_count": null,
   "id": "65d33cab",
   "metadata": {},
   "outputs": [],
   "source": [
    "# Fit the model\n",
    "SVM_1 = grid_search_SVM.fit(train_features, train_labels)\n",
    "y_pred_SVM1 = SVM_1.predict(test_features)"
   ]
  },
  {
   "cell_type": "code",
   "execution_count": null,
   "id": "362dabf4",
   "metadata": {},
   "outputs": [],
   "source": [
    "# Evaluate the performance\n",
    "default_acc = metrics.balanced_accuracy_score(test_labels, y_pred_SVC_default)\n",
    "optimized_acc = metrics.balanced_accuracy_score(test_labels, y_pred_SVM1)\n",
    "print(default_acc)\n",
    "print(optimized_acc)"
   ]
  }
 ],
 "metadata": {
  "colab": {
   "provenance": []
  },
  "kernelspec": {
   "display_name": "Python 3 (ipykernel)",
   "language": "python",
   "name": "python3"
  },
  "language_info": {
   "codemirror_mode": {
    "name": "ipython",
    "version": 3
   },
   "file_extension": ".py",
   "mimetype": "text/x-python",
   "name": "python",
   "nbconvert_exporter": "python",
   "pygments_lexer": "ipython3",
   "version": "3.7.16"
  }
 },
 "nbformat": 4,
 "nbformat_minor": 5
}
