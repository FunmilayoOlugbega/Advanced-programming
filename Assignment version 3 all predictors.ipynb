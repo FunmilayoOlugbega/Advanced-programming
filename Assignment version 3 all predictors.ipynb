{
 "cells": [
  {
   "cell_type": "markdown",
   "id": "28ad562a",
   "metadata": {},
   "source": [
    "## Import Packages"
   ]
  },
  {
   "cell_type": "code",
   "execution_count": 1,
   "id": "6f6a2e96",
   "metadata": {
    "colab": {
     "base_uri": "https://localhost:8080/",
     "height": 35
    },
    "id": "6f6a2e96",
    "outputId": "71f2e689-79dc-41b6-8bff-e5faf54ccbe2"
   },
   "outputs": [],
   "source": [
    "import rdkit\n",
    "import pandas as pd\n",
    "import seaborn as sns\n",
    "import numpy as np\n",
    "import matplotlib.pyplot as plt\n",
    "\n",
    "from rdkit import Chem\n",
    "from rdkit.Chem import AllChem, Draw, Descriptors\n",
    "from rdkit.Chem.Draw import IPythonConsole\n",
    "\n",
    "from sklearn.preprocessing import MinMaxScaler\n",
    "from sklearn.decomposition import PCA\n",
    "from sklearn.ensemble import RandomForestRegressor, RandomForestClassifier  \n",
    "from sklearn.neighbors import KNeighborsClassifier\n",
    "from sklearn.model_selection import train_test_split, KFold, cross_val_score, GridSearchCV\n",
    "from sklearn.svm import SVC, LinearSVC\n",
    "from sklearn.feature_selection import VarianceThreshold\n",
    "from sklearn import metrics "
   ]
  },
  {
   "cell_type": "markdown",
   "id": "d4758456",
   "metadata": {},
   "source": [
    "## Read files and create dataframe with Smiles"
   ]
  },
  {
   "cell_type": "code",
   "execution_count": 2,
   "id": "db3dba86",
   "metadata": {
    "colab": {
     "base_uri": "https://localhost:8080/",
     "height": 345
    },
    "id": "db3dba86",
    "outputId": "0dc75e2c-791d-4a82-ff1f-d34f3fbaa0a5"
   },
   "outputs": [
    {
     "name": "stdout",
     "output_type": "stream",
     "text": [
      "                                                 SMILES  ALDH1_inhibition\n",
      "0     COc1ccccc1CC(NC(C)=O)C(=O)NC1CCN(c2nnnn2-c2ccc...                 1\n",
      "1                O=C(CSc1nc2cccnc2n1Cc1ccccc1)NCc1ccco1                 1\n",
      "2     Cc1cccc2cc(C[NH+](CC3CCCO3)C(c3nnnn3Cc3ccco3)C...                 1\n",
      "3                     CCN(CC)c1ccc2c(Cl)c(Br)c(=O)oc2c1                 1\n",
      "4     CS(=O)(=O)N1CCc2cc(-c3csc(NC(=O)Cc4cccs4)n3)ccc21                 1\n",
      "...                                                 ...               ...\n",
      "1995                    C/C(=N\\NC(=S)Nc1ccc(F)cc1)C1CC1                 1\n",
      "1996                     COC(=O)c1c(NC(C)=O)sc2c1CCCCC2                 1\n",
      "1997                            O=C(CCl)NC1CCCc2ccccc21                 1\n",
      "1998    COc1ccc(-n2c(SCC(=O)N3CCCCC3C)nnc2-c2cccnc2)cc1                 1\n",
      "1999  COc1ccc(NC(=O)C2CCC(N3C(=O)C4C5C=CC(C5)C4C3=O)...                 1\n",
      "\n",
      "[2000 rows x 2 columns]\n"
     ]
    }
   ],
   "source": [
    "df_smiles1 = pd.read_csv('tested_molecules.csv')\n",
    "df_smiles2 = pd.read_csv('tested_molecules_v2.csv')\n",
    "df_smiles = pd.concat([df_smiles1, df_smiles2], ignore_index=True)\n",
    "print(df_smiles)"
   ]
  },
  {
   "cell_type": "markdown",
   "id": "21b2051d",
   "metadata": {},
   "source": [
    "## Check descriptor values for all Smiles"
   ]
  },
  {
   "cell_type": "code",
   "execution_count": 3,
   "id": "0118c6b1",
   "metadata": {
    "id": "0118c6b1"
   },
   "outputs": [],
   "source": [
    "def getMolDescriptors(mol, missingVal=None):\n",
    "    ''' calculate the full list of descriptors for a molecule\n",
    "    \n",
    "        missingVal is used if the descriptor cannot be calculated\n",
    "    '''\n",
    "    res = {}\n",
    "    for nm,fn in Descriptors._descList:\n",
    "        # some of the descriptor fucntions can throw errors if they fail, catch those here:\n",
    "        try:\n",
    "            val = fn(mol)\n",
    "        except:\n",
    "            # print the error message:\n",
    "            import traceback\n",
    "            traceback.print_exc()\n",
    "            # and set the descriptor value to whatever missingVal is\n",
    "            val = missingVal\n",
    "        res[nm] = val\n",
    "    return res"
   ]
  },
  {
   "cell_type": "code",
   "execution_count": 4,
   "id": "f0350a80",
   "metadata": {},
   "outputs": [
    {
     "data": {
      "text/html": [
       "<div>\n",
       "<style scoped>\n",
       "    .dataframe tbody tr th:only-of-type {\n",
       "        vertical-align: middle;\n",
       "    }\n",
       "\n",
       "    .dataframe tbody tr th {\n",
       "        vertical-align: top;\n",
       "    }\n",
       "\n",
       "    .dataframe thead th {\n",
       "        text-align: right;\n",
       "    }\n",
       "</style>\n",
       "<table border=\"1\" class=\"dataframe\">\n",
       "  <thead>\n",
       "    <tr style=\"text-align: right;\">\n",
       "      <th></th>\n",
       "      <th>MaxEStateIndex</th>\n",
       "      <th>MinEStateIndex</th>\n",
       "      <th>MaxAbsEStateIndex</th>\n",
       "      <th>MinAbsEStateIndex</th>\n",
       "      <th>qed</th>\n",
       "      <th>MolWt</th>\n",
       "      <th>HeavyAtomMolWt</th>\n",
       "      <th>ExactMolWt</th>\n",
       "      <th>NumValenceElectrons</th>\n",
       "      <th>NumRadicalElectrons</th>\n",
       "      <th>...</th>\n",
       "      <th>fr_sulfide</th>\n",
       "      <th>fr_sulfonamd</th>\n",
       "      <th>fr_sulfone</th>\n",
       "      <th>fr_term_acetylene</th>\n",
       "      <th>fr_tetrazole</th>\n",
       "      <th>fr_thiazole</th>\n",
       "      <th>fr_thiocyan</th>\n",
       "      <th>fr_thiophene</th>\n",
       "      <th>fr_unbrch_alkane</th>\n",
       "      <th>fr_urea</th>\n",
       "    </tr>\n",
       "  </thead>\n",
       "  <tbody>\n",
       "    <tr>\n",
       "      <th>0</th>\n",
       "      <td>13.083531</td>\n",
       "      <td>-0.683140</td>\n",
       "      <td>13.083531</td>\n",
       "      <td>0.001173</td>\n",
       "      <td>0.520365</td>\n",
       "      <td>463.542</td>\n",
       "      <td>434.310</td>\n",
       "      <td>463.233188</td>\n",
       "      <td>178</td>\n",
       "      <td>0</td>\n",
       "      <td>...</td>\n",
       "      <td>0</td>\n",
       "      <td>0</td>\n",
       "      <td>0</td>\n",
       "      <td>0</td>\n",
       "      <td>1</td>\n",
       "      <td>0</td>\n",
       "      <td>0</td>\n",
       "      <td>0</td>\n",
       "      <td>0</td>\n",
       "      <td>0</td>\n",
       "    </tr>\n",
       "    <tr>\n",
       "      <th>1</th>\n",
       "      <td>12.170097</td>\n",
       "      <td>-0.066966</td>\n",
       "      <td>12.170097</td>\n",
       "      <td>0.066966</td>\n",
       "      <td>0.498564</td>\n",
       "      <td>378.457</td>\n",
       "      <td>360.313</td>\n",
       "      <td>378.115047</td>\n",
       "      <td>136</td>\n",
       "      <td>0</td>\n",
       "      <td>...</td>\n",
       "      <td>1</td>\n",
       "      <td>0</td>\n",
       "      <td>0</td>\n",
       "      <td>0</td>\n",
       "      <td>0</td>\n",
       "      <td>0</td>\n",
       "      <td>0</td>\n",
       "      <td>0</td>\n",
       "      <td>0</td>\n",
       "      <td>0</td>\n",
       "    </tr>\n",
       "    <tr>\n",
       "      <th>2</th>\n",
       "      <td>10.905837</td>\n",
       "      <td>-0.016881</td>\n",
       "      <td>10.905837</td>\n",
       "      <td>0.016881</td>\n",
       "      <td>0.382043</td>\n",
       "      <td>477.589</td>\n",
       "      <td>444.325</td>\n",
       "      <td>477.260865</td>\n",
       "      <td>184</td>\n",
       "      <td>0</td>\n",
       "      <td>...</td>\n",
       "      <td>0</td>\n",
       "      <td>0</td>\n",
       "      <td>0</td>\n",
       "      <td>0</td>\n",
       "      <td>1</td>\n",
       "      <td>0</td>\n",
       "      <td>0</td>\n",
       "      <td>0</td>\n",
       "      <td>0</td>\n",
       "      <td>0</td>\n",
       "    </tr>\n",
       "    <tr>\n",
       "      <th>3</th>\n",
       "      <td>11.562446</td>\n",
       "      <td>-0.454447</td>\n",
       "      <td>11.562446</td>\n",
       "      <td>0.270607</td>\n",
       "      <td>0.795948</td>\n",
       "      <td>330.609</td>\n",
       "      <td>317.505</td>\n",
       "      <td>328.981818</td>\n",
       "      <td>96</td>\n",
       "      <td>0</td>\n",
       "      <td>...</td>\n",
       "      <td>0</td>\n",
       "      <td>0</td>\n",
       "      <td>0</td>\n",
       "      <td>0</td>\n",
       "      <td>0</td>\n",
       "      <td>0</td>\n",
       "      <td>0</td>\n",
       "      <td>0</td>\n",
       "      <td>0</td>\n",
       "      <td>0</td>\n",
       "    </tr>\n",
       "    <tr>\n",
       "      <th>4</th>\n",
       "      <td>12.108866</td>\n",
       "      <td>-3.251317</td>\n",
       "      <td>12.108866</td>\n",
       "      <td>0.086947</td>\n",
       "      <td>0.687618</td>\n",
       "      <td>419.553</td>\n",
       "      <td>402.417</td>\n",
       "      <td>419.043204</td>\n",
       "      <td>140</td>\n",
       "      <td>0</td>\n",
       "      <td>...</td>\n",
       "      <td>0</td>\n",
       "      <td>1</td>\n",
       "      <td>0</td>\n",
       "      <td>0</td>\n",
       "      <td>0</td>\n",
       "      <td>1</td>\n",
       "      <td>0</td>\n",
       "      <td>1</td>\n",
       "      <td>0</td>\n",
       "      <td>0</td>\n",
       "    </tr>\n",
       "  </tbody>\n",
       "</table>\n",
       "<p>5 rows × 208 columns</p>\n",
       "</div>"
      ],
      "text/plain": [
       "   MaxEStateIndex  MinEStateIndex  MaxAbsEStateIndex  MinAbsEStateIndex  \\\n",
       "0       13.083531       -0.683140          13.083531           0.001173   \n",
       "1       12.170097       -0.066966          12.170097           0.066966   \n",
       "2       10.905837       -0.016881          10.905837           0.016881   \n",
       "3       11.562446       -0.454447          11.562446           0.270607   \n",
       "4       12.108866       -3.251317          12.108866           0.086947   \n",
       "\n",
       "        qed    MolWt  HeavyAtomMolWt  ExactMolWt  NumValenceElectrons  \\\n",
       "0  0.520365  463.542         434.310  463.233188                  178   \n",
       "1  0.498564  378.457         360.313  378.115047                  136   \n",
       "2  0.382043  477.589         444.325  477.260865                  184   \n",
       "3  0.795948  330.609         317.505  328.981818                   96   \n",
       "4  0.687618  419.553         402.417  419.043204                  140   \n",
       "\n",
       "   NumRadicalElectrons  ...  fr_sulfide  fr_sulfonamd  fr_sulfone  \\\n",
       "0                    0  ...           0             0           0   \n",
       "1                    0  ...           1             0           0   \n",
       "2                    0  ...           0             0           0   \n",
       "3                    0  ...           0             0           0   \n",
       "4                    0  ...           0             1           0   \n",
       "\n",
       "   fr_term_acetylene  fr_tetrazole  fr_thiazole  fr_thiocyan  fr_thiophene  \\\n",
       "0                  0             1            0            0             0   \n",
       "1                  0             0            0            0             0   \n",
       "2                  0             1            0            0             0   \n",
       "3                  0             0            0            0             0   \n",
       "4                  0             0            1            0             1   \n",
       "\n",
       "   fr_unbrch_alkane  fr_urea  \n",
       "0                 0        0  \n",
       "1                 0        0  \n",
       "2                 0        0  \n",
       "3                 0        0  \n",
       "4                 0        0  \n",
       "\n",
       "[5 rows x 208 columns]"
      ]
     },
     "execution_count": 4,
     "metadata": {},
     "output_type": "execute_result"
    }
   ],
   "source": [
    "allDescrs = []\n",
    "for _, row in df_smiles.iterrows():\n",
    "    mol = row['SMILES']\n",
    "    m = Chem.MolFromSmiles(mol)\n",
    "    descriptors = getMolDescriptors(m)\n",
    "    allDescrs.append(descriptors)\n",
    "    \n",
    "df_descr = pd.DataFrame(allDescrs)\n",
    "df_descr.head()\n"
   ]
  },
  {
   "cell_type": "markdown",
   "id": "d47ad61d",
   "metadata": {},
   "source": [
    "## Data cleaning"
   ]
  },
  {
   "cell_type": "markdown",
   "id": "8YFZO9c845Vk",
   "metadata": {
    "id": "8YFZO9c845Vk"
   },
   "source": [
    "Delete the collumns that have only one unique value, so a column where each value is the mean, and variance is 0"
   ]
  },
  {
   "cell_type": "code",
   "execution_count": 5,
   "id": "Tk1p99Fb2HjW",
   "metadata": {
    "id": "Tk1p99Fb2HjW"
   },
   "outputs": [
    {
     "name": "stdout",
     "output_type": "stream",
     "text": [
      "['NumRadicalElectrons', 'SMR_VSA8', 'SlogP_VSA9', 'EState_VSA11', 'fr_HOCCN', 'fr_azide', 'fr_benzodiazepine', 'fr_diazo', 'fr_isocyan', 'fr_isothiocyan', 'fr_phos_acid', 'fr_phos_ester', 'fr_prisulfonamd']\n"
     ]
    }
   ],
   "source": [
    "#Deletes colums with nonsense values (only the same values)\n",
    "bad_descr=[]\n",
    "for i in df_descr.columns:\n",
    "    if df_descr[i].nunique() == 1:\n",
    "        bad_descr.append(i)\n",
    "print(bad_descr)       \n",
    "df_nonzero=df_descr.drop(columns=bad_descr)  "
   ]
  },
  {
   "cell_type": "markdown",
   "id": "VsdFlqFG5IHA",
   "metadata": {
    "id": "VsdFlqFG5IHA"
   },
   "source": [
    "Remove variables so that no variables are left that have a hcorralation with another variable higher than the set threshold for corralation"
   ]
  },
  {
   "cell_type": "code",
   "execution_count": 6,
   "id": "Dml2f4GC2aga",
   "metadata": {
    "id": "Dml2f4GC2aga"
   },
   "outputs": [
    {
     "data": {
      "text/html": [
       "<div>\n",
       "<style scoped>\n",
       "    .dataframe tbody tr th:only-of-type {\n",
       "        vertical-align: middle;\n",
       "    }\n",
       "\n",
       "    .dataframe tbody tr th {\n",
       "        vertical-align: top;\n",
       "    }\n",
       "\n",
       "    .dataframe thead th {\n",
       "        text-align: right;\n",
       "    }\n",
       "</style>\n",
       "<table border=\"1\" class=\"dataframe\">\n",
       "  <thead>\n",
       "    <tr style=\"text-align: right;\">\n",
       "      <th></th>\n",
       "      <th>MaxEStateIndex</th>\n",
       "      <th>MinEStateIndex</th>\n",
       "      <th>MinAbsEStateIndex</th>\n",
       "      <th>qed</th>\n",
       "      <th>MolWt</th>\n",
       "      <th>MaxPartialCharge</th>\n",
       "      <th>MinPartialCharge</th>\n",
       "      <th>FpDensityMorgan1</th>\n",
       "      <th>BCUT2D_MWHI</th>\n",
       "      <th>BCUT2D_MWLOW</th>\n",
       "      <th>...</th>\n",
       "      <th>fr_sulfide</th>\n",
       "      <th>fr_sulfonamd</th>\n",
       "      <th>fr_sulfone</th>\n",
       "      <th>fr_term_acetylene</th>\n",
       "      <th>fr_tetrazole</th>\n",
       "      <th>fr_thiazole</th>\n",
       "      <th>fr_thiocyan</th>\n",
       "      <th>fr_thiophene</th>\n",
       "      <th>fr_unbrch_alkane</th>\n",
       "      <th>fr_urea</th>\n",
       "    </tr>\n",
       "  </thead>\n",
       "  <tbody>\n",
       "    <tr>\n",
       "      <th>0</th>\n",
       "      <td>13.083531</td>\n",
       "      <td>-0.683140</td>\n",
       "      <td>0.001173</td>\n",
       "      <td>0.520365</td>\n",
       "      <td>463.542</td>\n",
       "      <td>0.249868</td>\n",
       "      <td>-0.496477</td>\n",
       "      <td>1.088235</td>\n",
       "      <td>16.465857</td>\n",
       "      <td>10.012387</td>\n",
       "      <td>...</td>\n",
       "      <td>0</td>\n",
       "      <td>0</td>\n",
       "      <td>0</td>\n",
       "      <td>0</td>\n",
       "      <td>1</td>\n",
       "      <td>0</td>\n",
       "      <td>0</td>\n",
       "      <td>0</td>\n",
       "      <td>0</td>\n",
       "      <td>0</td>\n",
       "    </tr>\n",
       "    <tr>\n",
       "      <th>1</th>\n",
       "      <td>12.170097</td>\n",
       "      <td>-0.066966</td>\n",
       "      <td>0.066966</td>\n",
       "      <td>0.498564</td>\n",
       "      <td>378.457</td>\n",
       "      <td>0.230353</td>\n",
       "      <td>-0.467476</td>\n",
       "      <td>1.111111</td>\n",
       "      <td>32.166556</td>\n",
       "      <td>10.202245</td>\n",
       "      <td>...</td>\n",
       "      <td>1</td>\n",
       "      <td>0</td>\n",
       "      <td>0</td>\n",
       "      <td>0</td>\n",
       "      <td>0</td>\n",
       "      <td>0</td>\n",
       "      <td>0</td>\n",
       "      <td>0</td>\n",
       "      <td>0</td>\n",
       "      <td>0</td>\n",
       "    </tr>\n",
       "    <tr>\n",
       "      <th>2</th>\n",
       "      <td>10.905837</td>\n",
       "      <td>-0.016881</td>\n",
       "      <td>0.016881</td>\n",
       "      <td>0.382043</td>\n",
       "      <td>477.589</td>\n",
       "      <td>0.219930</td>\n",
       "      <td>-0.492903</td>\n",
       "      <td>1.228571</td>\n",
       "      <td>16.492058</td>\n",
       "      <td>9.989823</td>\n",
       "      <td>...</td>\n",
       "      <td>0</td>\n",
       "      <td>0</td>\n",
       "      <td>0</td>\n",
       "      <td>0</td>\n",
       "      <td>1</td>\n",
       "      <td>0</td>\n",
       "      <td>0</td>\n",
       "      <td>0</td>\n",
       "      <td>0</td>\n",
       "      <td>0</td>\n",
       "    </tr>\n",
       "    <tr>\n",
       "      <th>3</th>\n",
       "      <td>11.562446</td>\n",
       "      <td>-0.454447</td>\n",
       "      <td>0.270607</td>\n",
       "      <td>0.795948</td>\n",
       "      <td>330.609</td>\n",
       "      <td>0.351723</td>\n",
       "      <td>-0.421732</td>\n",
       "      <td>1.333333</td>\n",
       "      <td>79.918731</td>\n",
       "      <td>10.173315</td>\n",
       "      <td>...</td>\n",
       "      <td>0</td>\n",
       "      <td>0</td>\n",
       "      <td>0</td>\n",
       "      <td>0</td>\n",
       "      <td>0</td>\n",
       "      <td>0</td>\n",
       "      <td>0</td>\n",
       "      <td>0</td>\n",
       "      <td>0</td>\n",
       "      <td>0</td>\n",
       "    </tr>\n",
       "    <tr>\n",
       "      <th>4</th>\n",
       "      <td>12.108866</td>\n",
       "      <td>-3.251317</td>\n",
       "      <td>0.086947</td>\n",
       "      <td>0.687618</td>\n",
       "      <td>419.553</td>\n",
       "      <td>0.231765</td>\n",
       "      <td>-0.301646</td>\n",
       "      <td>1.296296</td>\n",
       "      <td>32.233291</td>\n",
       "      <td>10.071048</td>\n",
       "      <td>...</td>\n",
       "      <td>0</td>\n",
       "      <td>1</td>\n",
       "      <td>0</td>\n",
       "      <td>0</td>\n",
       "      <td>0</td>\n",
       "      <td>1</td>\n",
       "      <td>0</td>\n",
       "      <td>1</td>\n",
       "      <td>0</td>\n",
       "      <td>0</td>\n",
       "    </tr>\n",
       "  </tbody>\n",
       "</table>\n",
       "<p>5 rows × 160 columns</p>\n",
       "</div>"
      ],
      "text/plain": [
       "   MaxEStateIndex  MinEStateIndex  MinAbsEStateIndex       qed    MolWt  \\\n",
       "0       13.083531       -0.683140           0.001173  0.520365  463.542   \n",
       "1       12.170097       -0.066966           0.066966  0.498564  378.457   \n",
       "2       10.905837       -0.016881           0.016881  0.382043  477.589   \n",
       "3       11.562446       -0.454447           0.270607  0.795948  330.609   \n",
       "4       12.108866       -3.251317           0.086947  0.687618  419.553   \n",
       "\n",
       "   MaxPartialCharge  MinPartialCharge  FpDensityMorgan1  BCUT2D_MWHI  \\\n",
       "0          0.249868         -0.496477          1.088235    16.465857   \n",
       "1          0.230353         -0.467476          1.111111    32.166556   \n",
       "2          0.219930         -0.492903          1.228571    16.492058   \n",
       "3          0.351723         -0.421732          1.333333    79.918731   \n",
       "4          0.231765         -0.301646          1.296296    32.233291   \n",
       "\n",
       "   BCUT2D_MWLOW  ...  fr_sulfide  fr_sulfonamd  fr_sulfone  fr_term_acetylene  \\\n",
       "0     10.012387  ...           0             0           0                  0   \n",
       "1     10.202245  ...           1             0           0                  0   \n",
       "2      9.989823  ...           0             0           0                  0   \n",
       "3     10.173315  ...           0             0           0                  0   \n",
       "4     10.071048  ...           0             1           0                  0   \n",
       "\n",
       "   fr_tetrazole  fr_thiazole  fr_thiocyan  fr_thiophene  fr_unbrch_alkane  \\\n",
       "0             1            0            0             0                 0   \n",
       "1             0            0            0             0                 0   \n",
       "2             1            0            0             0                 0   \n",
       "3             0            0            0             0                 0   \n",
       "4             0            1            0             1                 0   \n",
       "\n",
       "   fr_urea  \n",
       "0        0  \n",
       "1        0  \n",
       "2        0  \n",
       "3        0  \n",
       "4        0  \n",
       "\n",
       "[5 rows x 160 columns]"
      ]
     },
     "execution_count": 6,
     "metadata": {},
     "output_type": "execute_result"
    }
   ],
   "source": [
    "corrThreshold = 0.90\n",
    "\n",
    "\n",
    "correlation_mat = df_nonzero.corr()\n",
    "upper_tri = correlation_mat.where(np.triu(np.ones(correlation_mat.shape),k=1).astype(bool)) \n",
    "to_drop = [column for column in upper_tri.columns if any(upper_tri[column].abs() > corrThreshold)] \n",
    "df_noCorr = df_nonzero.drop(columns=to_drop)\n",
    "\n",
    "\n",
    "\n",
    "df_noCorr.head()"
   ]
  },
  {
   "cell_type": "markdown",
   "id": "8cf2d25f",
   "metadata": {},
   "source": [
    "## Scale data & perform PCA"
   ]
  },
  {
   "cell_type": "code",
   "execution_count": 7,
   "id": "5458a4ab",
   "metadata": {
    "id": "5458a4ab"
   },
   "outputs": [],
   "source": [
    "scaler = MinMaxScaler()\n",
    "df_scaled = scaler.fit_transform(df_noCorr)\n",
    "\n",
    "pca = PCA(n_components=150)\n",
    "principalComponents = pca.fit_transform(df_scaled)\n",
    "principalDf = pd.DataFrame(data = principalComponents)\n",
    "exp_var_pca = pca.explained_variance_ratio_\n",
    "cum_sum_eigenvalues = np.cumsum(exp_var_pca)"
   ]
  },
  {
   "cell_type": "code",
   "execution_count": 8,
   "id": "ae81f9c2",
   "metadata": {
    "id": "ae81f9c2"
   },
   "outputs": [
    {
     "data": {
      "image/png": "[encoded data removed]",
      "text/plain": [
       "<Figure size 640x480 with 1 Axes>"
      ]
     },
     "metadata": {},
     "output_type": "display_data"
    },
    {
     "data": {
      "image/png": "[encoded data removed]",
      "text/plain": [
       "<Figure size 640x480 with 1 Axes>"
      ]
     },
     "metadata": {},
     "output_type": "display_data"
    }
   ],
   "source": [
    "plt.bar(range(1,len(cum_sum_eigenvalues)+1), cum_sum_eigenvalues, align='center',label='Cumulative explained variance');\n",
    "plt.ylabel('Cumulative variance ratio')\n",
    "plt.xlabel('Number of Components')\n",
    "plt.legend(loc='best')\n",
    "plt.tight_layout()\n",
    "plt.show()\n",
    "\n",
    "#scree plot om aantal PCA te bepalen\n",
    "plt.bar(range(1,len(exp_var_pca)+1), exp_var_pca, alpha=0.5, align='center', label='Individual explained variance');\n",
    "plt.ylabel('Explained variance ratio')\n",
    "plt.xlabel('Number of Components')\n",
    "plt.legend(loc='best')\n",
    "plt.show()"
   ]
  },
  {
   "cell_type": "code",
   "execution_count": 9,
   "id": "o8WO78DpNnLc",
   "metadata": {
    "id": "o8WO78DpNnLc"
   },
   "outputs": [
    {
     "data": {
      "text/plain": [
       "VarianceThreshold(threshold=0.15999999999999998)"
      ]
     },
     "execution_count": 9,
     "metadata": {},
     "output_type": "execute_result"
    }
   ],
   "source": [
    "#verwijderen van features die lage variance hebben\n",
    "#x is hierbij je matrix met alle features.\n",
    "\n",
    "selection = VarianceThreshold(threshold=(.8*(1-.8)))\n",
    "df_noCorr = selection.fit_transform(df_noCorr)\n",
    "selection"
   ]
  },
  {
   "cell_type": "markdown",
   "id": "c60a90f2",
   "metadata": {},
   "source": [
    "## Split data for testing"
   ]
  },
  {
   "cell_type": "code",
   "execution_count": 10,
   "id": "cf1e8750",
   "metadata": {},
   "outputs": [],
   "source": [
    "features = np.array(principalDf)\n",
    "feature_names = list(principalDf.columns)\n",
    "target = np.array(df_smiles['ALDH1_inhibition'])"
   ]
  },
  {
   "cell_type": "markdown",
   "id": "c48f1a04",
   "metadata": {},
   "source": [
    "### Training & test set"
   ]
  },
  {
   "cell_type": "code",
   "execution_count": 11,
   "id": "c5d14208",
   "metadata": {},
   "outputs": [
    {
     "name": "stdout",
     "output_type": "stream",
     "text": [
      "Training Features Shape: (1600, 150)\n",
      "Training Labels Shape: (1600,)\n",
      "Testing Features Shape: (400, 150)\n",
      "Testing Labels Shape: (400,)\n"
     ]
    }
   ],
   "source": [
    "# Split the data into training and testing sets\n",
    "train_features, test_features, train_labels, test_labels = train_test_split(features, target, test_size = 0.20, random_state = 42)\n",
    "\n",
    "#check the shapes\n",
    "print('Training Features Shape:', train_features.shape)\n",
    "print('Training Labels Shape:', train_labels.shape)\n",
    "print('Testing Features Shape:', test_features.shape)\n",
    "print('Testing Labels Shape:', test_labels.shape)"
   ]
  },
  {
   "cell_type": "markdown",
   "id": "6656e0f8",
   "metadata": {},
   "source": [
    "## Predictor models"
   ]
  },
  {
   "cell_type": "markdown",
   "id": "8ffe992a",
   "metadata": {},
   "source": [
    "### Random Forest Regressor Model"
   ]
  },
  {
   "cell_type": "code",
   "execution_count": 12,
   "id": "307ddfae",
   "metadata": {},
   "outputs": [],
   "source": [
    "# Instantiate model with 1000 decision trees\n",
    "rf = RandomForestRegressor(n_estimators = 1000, random_state = 42)\n",
    "# Train the model on training data\n",
    "rf.fit(train_features, train_labels);"
   ]
  },
  {
   "cell_type": "markdown",
   "id": "f2728caa",
   "metadata": {},
   "source": [
    "Predictions"
   ]
  },
  {
   "cell_type": "code",
   "execution_count": 13,
   "id": "7e096288",
   "metadata": {},
   "outputs": [
    {
     "data": {
      "text/plain": [
       "array([0.467, 0.047, 0.   , 0.401, 0.114, 0.191, 0.44 , 0.621, 0.28 ,\n",
       "       0.011, 0.654, 0.063, 0.01 , 0.586, 0.497, 0.473, 0.006, 0.149,\n",
       "       0.012, 0.55 , 0.339, 0.179, 0.627, 0.009, 0.684, 0.488, 0.   ,\n",
       "       0.451, 0.251, 0.537, 0.174, 0.415, 0.391, 0.542, 0.   , 0.278,\n",
       "       0.02 , 0.001, 0.   , 0.092, 0.378, 0.476, 0.47 , 0.406, 0.033,\n",
       "       0.456, 0.128, 0.394, 0.659, 0.014, 0.012, 0.411, 0.03 , 0.615,\n",
       "       0.483, 0.671, 0.001, 0.412, 0.   , 0.393, 0.006, 0.45 , 0.002,\n",
       "       0.009, 0.79 , 0.508, 0.438, 0.007, 0.207, 0.549, 0.077, 0.404,\n",
       "       0.004, 0.   , 0.484, 0.375, 0.084, 0.503, 0.339, 0.637, 0.434,\n",
       "       0.353, 0.015, 0.363, 0.024, 0.001, 0.604, 0.313, 0.514, 0.004,\n",
       "       0.006, 0.707, 0.52 , 0.529, 0.566, 0.837, 0.395, 0.03 , 0.002,\n",
       "       0.513, 0.54 , 0.365, 0.487, 0.001, 0.176, 0.424, 0.519, 0.169,\n",
       "       0.643, 0.215, 0.358, 0.003, 0.089, 0.452, 0.322, 0.254, 0.131,\n",
       "       0.459, 0.443, 0.023, 0.456, 0.187, 0.066, 0.517, 0.461, 0.   ,\n",
       "       0.093, 0.587, 0.013, 0.569, 0.49 , 0.615, 0.002, 0.471, 0.472,\n",
       "       0.002, 0.443, 0.409, 0.046, 0.007, 0.052, 0.506, 0.   , 0.426,\n",
       "       0.   , 0.448, 0.451, 0.187, 0.536, 0.575, 0.013, 0.587, 0.539,\n",
       "       0.077, 0.485, 0.061, 0.363, 0.137, 0.509, 0.025, 0.647, 0.116,\n",
       "       0.572, 0.153, 0.538, 0.   , 0.569, 0.029, 0.527, 0.538, 0.   ,\n",
       "       0.489, 0.516, 0.594, 0.38 , 0.173, 0.435, 0.016, 0.016, 0.101,\n",
       "       0.007, 0.404, 0.312, 0.   , 0.379, 0.028, 0.438, 0.222, 0.005,\n",
       "       0.   , 0.198, 0.491, 0.234, 0.605, 0.237, 0.439, 0.028, 0.475,\n",
       "       0.326, 0.078, 0.62 , 0.071, 0.527, 0.478, 0.505, 0.708, 0.009,\n",
       "       0.   , 0.001, 0.072, 0.602, 0.334, 0.581, 0.459, 0.661, 0.658,\n",
       "       0.144, 0.523, 0.466, 0.013, 0.35 , 0.338, 0.391, 0.074, 0.166,\n",
       "       0.556, 0.501, 0.549, 0.215, 0.557, 0.691, 0.525, 0.183, 0.008,\n",
       "       0.657, 0.285, 0.   , 0.4  , 0.224, 0.463, 0.378, 0.144, 0.514,\n",
       "       0.461, 0.008, 0.563, 0.455, 0.51 , 0.568, 0.017, 0.334, 0.317,\n",
       "       0.009, 0.551, 0.   , 0.   , 0.056, 0.662, 0.547, 0.001, 0.666,\n",
       "       0.565, 0.455, 0.   , 0.041, 0.346, 0.448, 0.501, 0.529, 0.001,\n",
       "       0.   , 0.53 , 0.478, 0.   , 0.479, 0.554, 0.611, 0.406, 0.015,\n",
       "       0.46 , 0.453, 0.   , 0.407, 0.311, 0.102, 0.716, 0.46 , 0.603,\n",
       "       0.441, 0.375, 0.084, 0.037, 0.198, 0.011, 0.656, 0.111, 0.53 ,\n",
       "       0.488, 0.477, 0.359, 0.103, 0.467, 0.776, 0.008, 0.474, 0.531,\n",
       "       0.014, 0.006, 0.465, 0.462, 0.002, 0.   , 0.063, 0.416, 0.035,\n",
       "       0.202, 0.072, 0.002, 0.537, 0.07 , 0.517, 0.309, 0.531, 0.455,\n",
       "       0.585, 0.374, 0.522, 0.565, 0.045, 0.475, 0.111, 0.502, 0.013,\n",
       "       0.461, 0.484, 0.472, 0.386, 0.189, 0.007, 0.45 , 0.004, 0.618,\n",
       "       0.458, 0.326, 0.169, 0.215, 0.388, 0.476, 0.   , 0.541, 0.561,\n",
       "       0.395, 0.01 , 0.006, 0.463, 0.626, 0.672, 0.464, 0.01 , 0.009,\n",
       "       0.28 , 0.336, 0.477, 0.405, 0.446, 0.41 , 0.851, 0.339, 0.041,\n",
       "       0.436, 0.004, 0.463, 0.436, 0.684, 0.   , 0.001, 0.004, 0.409,\n",
       "       0.652, 0.003, 0.001, 0.585, 0.378, 0.1  , 0.038, 0.439, 0.142,\n",
       "       0.004, 0.512, 0.002, 0.518, 0.475, 0.31 , 0.112, 0.25 , 0.074,\n",
       "       0.255, 0.734, 0.495, 0.392])"
      ]
     },
     "execution_count": 13,
     "metadata": {},
     "output_type": "execute_result"
    }
   ],
   "source": [
    "# Use the forest's predict method on the test data\n",
    "predictions = rf.predict(test_features)\n",
    "# Calculate the absolute errors\n",
    "errors = abs(predictions - test_labels)\n",
    "\n",
    "predictions\n",
    "#Print out the mean absolute error (mae)\n",
    "#print('Mean Absolute Error:', round(np.mean(errors), 2), 'degrees.')"
   ]
  },
  {
   "cell_type": "markdown",
   "id": "7bc4c49e",
   "metadata": {},
   "source": [
    "Test wheter the highest x predictions are accurate"
   ]
  },
  {
   "cell_type": "code",
   "execution_count": 14,
   "id": "7ba8a631",
   "metadata": {},
   "outputs": [
    {
     "name": "stdout",
     "output_type": "stream",
     "text": [
      "0.6333333333333333\n"
     ]
    }
   ],
   "source": [
    "to_be_predicted = 120 #test_labels.sum() #100 in geval van assignment\n",
    "\n",
    "d={'predictions':predictions, 'labels':test_labels}\n",
    "best_scores = pd.DataFrame(d).nlargest(to_be_predicted,columns='predictions')\n",
    "\n",
    "accuracy = sum(best_scores['labels'])/to_be_predicted\n",
    "print(accuracy)"
   ]
  },
  {
   "cell_type": "markdown",
   "id": "a99a41ba",
   "metadata": {},
   "source": [
    "### Random Forest Classifier Model"
   ]
  },
  {
   "cell_type": "code",
   "execution_count": 15,
   "id": "1ecc1e6b",
   "metadata": {},
   "outputs": [
    {
     "data": {
      "text/plain": [
       "RandomForestClassifier()"
      ]
     },
     "execution_count": 15,
     "metadata": {},
     "output_type": "execute_result"
    }
   ],
   "source": [
    "clf=RandomForestClassifier()\n",
    "clf.fit(train_features, train_labels)"
   ]
  },
  {
   "cell_type": "markdown",
   "id": "28f00e78",
   "metadata": {},
   "source": [
    "Predictions"
   ]
  },
  {
   "cell_type": "code",
   "execution_count": 16,
   "id": "a4ace218",
   "metadata": {},
   "outputs": [
    {
     "name": "stdout",
     "output_type": "stream",
     "text": [
      "[0 0 0 0 0 0 0 1 0 0 1 0 0 0 1 1 0 0 0 0 0 0 0 0 1 0 0 0 0 0 0 0 0 0 0 0 0\n",
      " 0 0 0 0 0 1 1 0 0 0 0 0 0 0 0 0 0 0 0 0 0 0 0 0 0 0 0 1 1 0 0 0 0 0 0 0 0\n",
      " 1 0 0 0 0 1 1 0 0 0 0 0 0 0 1 0 0 0 0 1 0 1 0 0 0 1 0 0 1 0 0 0 0 0 1 0 0\n",
      " 0 0 0 0 0 0 0 0 0 0 0 0 0 0 0 0 1 0 0 0 1 0 0 1 0 0 0 0 0 0 1 0 0 0 0 0 0\n",
      " 0 0 0 0 1 0 0 0 0 0 0 0 1 0 1 0 1 0 0 0 1 0 0 0 1 0 0 0 0 0 0 0 0 0 0 0 0\n",
      " 0 1 0 0 0 0 0 0 0 0 0 0 0 0 0 1 0 0 0 1 1 0 0 0 0 1 0 1 0 0 0 0 1 0 0 0 0\n",
      " 0 0 0 0 0 0 0 0 1 0 0 0 1 0 0 0 0 0 0 0 1 0 0 0 0 0 0 0 0 0 0 0 0 0 0 1 1\n",
      " 0 1 0 1 0 0 0 0 0 0 0 0 0 0 0 0 0 0 0 0 0 0 0 0 0 0 1 0 0 0 0 0 0 0 0 1 0\n",
      " 1 0 1 0 0 0 1 0 0 0 0 0 1 0 0 0 0 0 0 0 0 0 0 0 0 0 0 1 1 0 0 1 0 1 0 0 0\n",
      " 0 0 0 0 0 0 0 0 1 0 0 0 0 0 0 0 0 1 0 0 0 0 1 1 0 0 0 0 0 0 0 0 0 1 0 0 0\n",
      " 0 0 0 1 0 0 0 0 0 0 0 0 0 0 0 0 0 0 0 0 0 1 0 0 0 0 0 1 0 0]\n",
      "accuracy of the training set 1.0\n",
      "accuracy of the test set 0.735\n",
      "0.6130952380952381\n"
     ]
    }
   ],
   "source": [
    "preds = clf.predict(test_features)\n",
    "print(preds)\n",
    "print (\"accuracy of the training set\",clf.score(train_features, train_labels))\n",
    "print(\"accuracy of the test set\" ,clf.score(test_features, test_labels))\n",
    "\n",
    "default_acc = metrics.balanced_accuracy_score(test_labels, preds)\n",
    "print(default_acc)"
   ]
  },
  {
   "cell_type": "code",
   "execution_count": 17,
   "id": "0d05000f",
   "metadata": {},
   "outputs": [
    {
     "data": {
      "text/html": [
       "<div>\n",
       "<style scoped>\n",
       "    .dataframe tbody tr th:only-of-type {\n",
       "        vertical-align: middle;\n",
       "    }\n",
       "\n",
       "    .dataframe tbody tr th {\n",
       "        vertical-align: top;\n",
       "    }\n",
       "\n",
       "    .dataframe thead th {\n",
       "        text-align: right;\n",
       "    }\n",
       "</style>\n",
       "<table border=\"1\" class=\"dataframe\">\n",
       "  <thead>\n",
       "    <tr style=\"text-align: right;\">\n",
       "      <th></th>\n",
       "      <th>0</th>\n",
       "    </tr>\n",
       "  </thead>\n",
       "  <tbody>\n",
       "    <tr>\n",
       "      <th>0</th>\n",
       "      <td>0.090074</td>\n",
       "    </tr>\n",
       "    <tr>\n",
       "      <th>6</th>\n",
       "      <td>0.020449</td>\n",
       "    </tr>\n",
       "    <tr>\n",
       "      <th>42</th>\n",
       "      <td>0.013136</td>\n",
       "    </tr>\n",
       "    <tr>\n",
       "      <th>27</th>\n",
       "      <td>0.012941</td>\n",
       "    </tr>\n",
       "    <tr>\n",
       "      <th>34</th>\n",
       "      <td>0.012387</td>\n",
       "    </tr>\n",
       "    <tr>\n",
       "      <th>...</th>\n",
       "      <td>...</td>\n",
       "    </tr>\n",
       "    <tr>\n",
       "      <th>1</th>\n",
       "      <td>0.004175</td>\n",
       "    </tr>\n",
       "    <tr>\n",
       "      <th>128</th>\n",
       "      <td>0.003902</td>\n",
       "    </tr>\n",
       "    <tr>\n",
       "      <th>73</th>\n",
       "      <td>0.003889</td>\n",
       "    </tr>\n",
       "    <tr>\n",
       "      <th>112</th>\n",
       "      <td>0.003700</td>\n",
       "    </tr>\n",
       "    <tr>\n",
       "      <th>116</th>\n",
       "      <td>0.003656</td>\n",
       "    </tr>\n",
       "  </tbody>\n",
       "</table>\n",
       "<p>150 rows × 1 columns</p>\n",
       "</div>"
      ],
      "text/plain": [
       "            0\n",
       "0    0.090074\n",
       "6    0.020449\n",
       "42   0.013136\n",
       "27   0.012941\n",
       "34   0.012387\n",
       "..        ...\n",
       "1    0.004175\n",
       "128  0.003902\n",
       "73   0.003889\n",
       "112  0.003700\n",
       "116  0.003656\n",
       "\n",
       "[150 rows x 1 columns]"
      ]
     },
     "execution_count": 17,
     "metadata": {},
     "output_type": "execute_result"
    }
   ],
   "source": [
    "#determine which pc is most important, order\n",
    "pd.DataFrame(clf.feature_importances_, index=principalDf.columns).sort_values(by=0, ascending=False)"
   ]
  },
  {
   "cell_type": "markdown",
   "id": "83b78453",
   "metadata": {},
   "source": [
    "## Support vector machine"
   ]
  },
  {
   "cell_type": "markdown",
   "id": "c06ba754",
   "metadata": {},
   "source": [
    "Make SVM model without optimizing the hyperparameters"
   ]
  },
  {
   "cell_type": "code",
   "execution_count": 18,
   "id": "4f8b790f",
   "metadata": {},
   "outputs": [],
   "source": [
    "SVC_model_default = SVC()\n",
    "SVC_model_default.fit(train_features, train_labels)\n",
    "y_pred_SVC_default =SVC_model_default.predict(test_features)"
   ]
  },
  {
   "cell_type": "markdown",
   "id": "bc757d0a",
   "metadata": {},
   "source": [
    "Define the parameter values used in GridSearch"
   ]
  },
  {
   "cell_type": "code",
   "execution_count": 19,
   "id": "e074215e",
   "metadata": {},
   "outputs": [],
   "source": [
    "estimator_SVM = SVC(gamma = 'auto')\n",
    "parameters_SVM = {\n",
    "    'C':(0.1,1, 10, 100), #(0.1, 15.0, 0.1)\n",
    "    'kernel': ('linear', 'poly', 'rbf', 'sigmoid'),\n",
    "    'coef0': (0.0, 10.0, 1.0),\n",
    "    'shrinking': (True, False)}   "
   ]
  },
  {
   "cell_type": "markdown",
   "id": "bd3b0d8d",
   "metadata": {},
   "source": [
    "Find the optimal parameter values "
   ]
  },
  {
   "cell_type": "code",
   "execution_count": 20,
   "id": "eae14360",
   "metadata": {},
   "outputs": [],
   "source": [
    "grid_search_SVM = GridSearchCV(\n",
    "    estimator=estimator_SVM,\n",
    "    param_grid=parameters_SVM,\n",
    "    scoring = 'balanced_accuracy',\n",
    "    n_jobs = -1,\n",
    "    cv = 5\n",
    ")"
   ]
  },
  {
   "cell_type": "markdown",
   "id": "98b62231",
   "metadata": {},
   "source": [
    "Fit the model"
   ]
  },
  {
   "cell_type": "code",
   "execution_count": 21,
   "id": "65d33cab",
   "metadata": {},
   "outputs": [],
   "source": [
    "SVM_1 = grid_search_SVM.fit(train_features, train_labels)\n",
    "y_pred_SVM1 = SVM_1.predict(test_features)"
   ]
  },
  {
   "cell_type": "markdown",
   "id": "61a89c3c",
   "metadata": {},
   "source": [
    "Evaluate the performance"
   ]
  },
  {
   "cell_type": "code",
   "execution_count": 22,
   "id": "362dabf4",
   "metadata": {},
   "outputs": [
    {
     "name": "stdout",
     "output_type": "stream",
     "text": [
      "0.7720238095238094\n",
      "0.718452380952381\n"
     ]
    }
   ],
   "source": [
    "default_acc = metrics.balanced_accuracy_score(test_labels, y_pred_SVC_default)\n",
    "optimized_acc = metrics.balanced_accuracy_score(test_labels, y_pred_SVM1)\n",
    "print(default_acc)\n",
    "print(optimized_acc)"
   ]
  },
  {
   "cell_type": "markdown",
   "id": "3206f3ed",
   "metadata": {},
   "source": [
    "## K-nearest Neighbor"
   ]
  },
  {
   "cell_type": "code",
   "execution_count": 23,
   "id": "b908f821",
   "metadata": {},
   "outputs": [
    {
     "data": {
      "text/plain": [
       "KNeighborsClassifier()"
      ]
     },
     "execution_count": 23,
     "metadata": {},
     "output_type": "execute_result"
    }
   ],
   "source": [
    "KN_clf=KNeighborsClassifier(n_neighbors=5)\n",
    "KN_clf.fit(train_features, train_labels)"
   ]
  },
  {
   "cell_type": "markdown",
   "id": "1b4cbf18",
   "metadata": {},
   "source": [
    "Predictions"
   ]
  },
  {
   "cell_type": "code",
   "execution_count": 24,
   "id": "3ee8e932",
   "metadata": {
    "scrolled": true
   },
   "outputs": [
    {
     "name": "stdout",
     "output_type": "stream",
     "text": [
      "[0 0 0 0 0 0 0 1 0 0 1 0 0 1 1 1 0 0 0 0 0 0 1 0 0 0 0 0 0 1 0 0 1 0 0 0 0\n",
      " 0 0 1 0 1 0 0 0 0 0 0 1 0 0 0 0 0 1 1 0 0 0 0 0 1 0 0 1 1 0 0 0 0 0 1 0 0\n",
      " 0 0 0 1 0 1 1 0 0 0 0 0 1 0 1 0 0 1 1 1 1 1 0 0 0 1 0 0 1 0 0 1 0 0 0 0 1\n",
      " 0 0 1 0 0 0 0 0 0 1 0 0 1 1 0 0 1 0 0 0 1 0 0 1 0 1 1 0 0 0 0 0 0 0 0 0 0\n",
      " 0 0 0 1 1 0 0 0 0 0 1 0 0 0 0 0 0 0 1 0 0 0 0 0 1 0 0 0 0 0 0 0 0 0 1 0 0\n",
      " 0 0 0 0 0 0 0 0 1 0 1 0 0 0 0 0 0 1 0 0 1 0 0 0 0 1 0 1 1 1 1 0 0 0 0 0 1\n",
      " 1 0 0 0 0 0 0 0 1 1 0 0 1 0 0 0 0 0 0 0 1 0 0 1 1 0 0 0 0 0 0 1 0 0 0 0 1\n",
      " 0 0 1 1 0 0 0 0 0 0 0 0 0 0 0 0 1 0 0 0 0 1 0 0 0 0 1 0 1 1 1 0 0 0 0 1 0\n",
      " 0 1 0 0 0 1 1 0 1 1 0 0 1 0 0 0 0 0 0 0 0 0 1 0 1 0 1 0 0 1 1 0 0 0 0 0 0\n",
      " 1 0 1 1 0 0 0 0 1 1 0 0 0 0 1 0 0 1 0 0 0 0 1 1 1 0 0 0 0 1 0 1 0 1 1 0 1\n",
      " 0 0 0 1 0 0 0 0 1 0 0 0 0 0 0 0 0 0 0 0 1 0 0 0 0 0 0 1 1 0]\n",
      "accuracy of the training set 0.848125\n",
      "accuracy of the test set 0.7925\n",
      "Default accuracy of the test set 0.7351190476190477\n"
     ]
    }
   ],
   "source": [
    "KN_preds = KN_clf.predict(test_features)\n",
    "print(KN_preds)\n",
    "print (\"accuracy of the training set\",KN_clf.score(train_features, train_labels))\n",
    "print(\"accuracy of the test set\" ,KN_clf.score(test_features, test_labels))\n",
    "\n",
    "default_acc = metrics.balanced_accuracy_score(test_labels, KN_preds)\n",
    "print(\"Default accuracy of the test set\",default_acc)"
   ]
  }
 ],
 "metadata": {
  "colab": {
   "provenance": []
  },
  "kernelspec": {
   "display_name": "Python 3 (ipykernel)",
   "language": "python",
   "name": "python3"
  },
  "language_info": {
   "codemirror_mode": {
    "name": "ipython",
    "version": 3
   },
   "file_extension": ".py",
   "mimetype": "text/x-python",
   "name": "python",
   "nbconvert_exporter": "python",
   "pygments_lexer": "ipython3",
   "version": "3.7.16"
  }
 },
 "nbformat": 4,
 "nbformat_minor": 5
}
