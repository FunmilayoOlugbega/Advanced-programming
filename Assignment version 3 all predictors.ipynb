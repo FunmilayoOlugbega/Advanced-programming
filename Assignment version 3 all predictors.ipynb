{
 "cells": [
  {
   "cell_type": "markdown",
   "id": "28ad562a",
   "metadata": {},
   "source": [
    "## Import Packages"
   ]
  },
  {
   "cell_type": "code",
   "execution_count": 1,
   "id": "6f6a2e96",
   "metadata": {
    "colab": {
     "base_uri": "https://localhost:8080/",
     "height": 35
    },
    "id": "6f6a2e96",
    "outputId": "71f2e689-79dc-41b6-8bff-e5faf54ccbe2"
   },
   "outputs": [],
   "source": [
    "import rdkit\n",
    "import pandas as pd\n",
    "import seaborn as sns\n",
    "import numpy as np\n",
    "import matplotlib.pyplot as plt\n",
    "\n",
    "from rdkit import Chem\n",
    "from rdkit.Chem import AllChem, Draw, Descriptors\n",
    "from rdkit.Chem.Draw import IPythonConsole\n",
    "\n",
    "from sklearn.preprocessing import MinMaxScaler\n",
    "from sklearn.decomposition import PCA\n",
    "from sklearn.ensemble import RandomForestRegressor, RandomForestClassifier  \n",
    "from sklearn import neighbors\n",
    "from sklearn.model_selection import train_test_split, KFold, cross_val_score, GridSearchCV\n",
    "from sklearn.svm import SVC, LinearSVC, SVR\n",
    "from sklearn.feature_selection import VarianceThreshold\n",
    "from sklearn.metrics import confusion_matrix, roc_curve\n",
    "from sklearn import metrics "
   ]
  },
  {
   "cell_type": "markdown",
   "id": "d4758456",
   "metadata": {},
   "source": [
    "## Read files and create dataframe with Smiles"
   ]
  },
  {
   "cell_type": "code",
   "execution_count": 2,
   "id": "db3dba86",
   "metadata": {
    "colab": {
     "base_uri": "https://localhost:8080/",
     "height": 345
    },
    "id": "db3dba86",
    "outputId": "0dc75e2c-791d-4a82-ff1f-d34f3fbaa0a5"
   },
   "outputs": [
    {
     "name": "stdout",
     "output_type": "stream",
     "text": [
      "                                                 SMILES  ALDH1_inhibition\n",
      "0     COc1ccccc1CC(NC(C)=O)C(=O)NC1CCN(c2nnnn2-c2ccc...                 1\n",
      "1                O=C(CSc1nc2cccnc2n1Cc1ccccc1)NCc1ccco1                 1\n",
      "2     Cc1cccc2cc(C[NH+](CC3CCCO3)C(c3nnnn3Cc3ccco3)C...                 1\n",
      "3                     CCN(CC)c1ccc2c(Cl)c(Br)c(=O)oc2c1                 1\n",
      "4     CS(=O)(=O)N1CCc2cc(-c3csc(NC(=O)Cc4cccs4)n3)ccc21                 1\n",
      "...                                                 ...               ...\n",
      "1995                    C/C(=N\\NC(=S)Nc1ccc(F)cc1)C1CC1                 1\n",
      "1996                     COC(=O)c1c(NC(C)=O)sc2c1CCCCC2                 1\n",
      "1997                            O=C(CCl)NC1CCCc2ccccc21                 1\n",
      "1998    COc1ccc(-n2c(SCC(=O)N3CCCCC3C)nnc2-c2cccnc2)cc1                 1\n",
      "1999  COc1ccc(NC(=O)C2CCC(N3C(=O)C4C5C=CC(C5)C4C3=O)...                 1\n",
      "\n",
      "[2000 rows x 2 columns]\n"
     ]
    }
   ],
   "source": [
    "df_smiles1 = pd.read_csv('tested_molecules.csv')\n",
    "df_smiles2 = pd.read_csv('tested_molecules_v2.csv')\n",
    "df_test_smiles = pd.read_csv('untested_molecules.csv')\n",
    "df_smiles = pd.concat([df_smiles1, df_smiles2], ignore_index=True)\n",
    "print(df_smiles)"
   ]
  },
  {
   "cell_type": "markdown",
   "id": "21b2051d",
   "metadata": {},
   "source": [
    "## Check descriptor values for all Smiles"
   ]
  },
  {
   "cell_type": "code",
   "execution_count": 3,
   "id": "0118c6b1",
   "metadata": {
    "id": "0118c6b1"
   },
   "outputs": [],
   "source": [
    "def getMolDescriptors(mol, missingVal=None):\n",
    "    ''' calculate the full list of descriptors for a molecule\n",
    "    \n",
    "        missingVal is used if the descriptor cannot be calculated\n",
    "    '''\n",
    "    res = {}\n",
    "    for nm,fn in Descriptors._descList:\n",
    "        # some of the descriptor fucntions can throw errors if they fail, catch those here:\n",
    "        try:\n",
    "            val = fn(mol)\n",
    "        except:\n",
    "            # print the error message:\n",
    "            import traceback\n",
    "            traceback.print_exc()\n",
    "            # and set the descriptor value to whatever missingVal is\n",
    "            val = missingVal\n",
    "        res[nm] = val\n",
    "    return res"
   ]
  },
  {
   "cell_type": "code",
   "execution_count": 4,
   "id": "f0350a80",
   "metadata": {},
   "outputs": [
    {
     "data": {
      "text/html": [
       "<div>\n",
       "<style scoped>\n",
       "    .dataframe tbody tr th:only-of-type {\n",
       "        vertical-align: middle;\n",
       "    }\n",
       "\n",
       "    .dataframe tbody tr th {\n",
       "        vertical-align: top;\n",
       "    }\n",
       "\n",
       "    .dataframe thead th {\n",
       "        text-align: right;\n",
       "    }\n",
       "</style>\n",
       "<table border=\"1\" class=\"dataframe\">\n",
       "  <thead>\n",
       "    <tr style=\"text-align: right;\">\n",
       "      <th></th>\n",
       "      <th>MaxEStateIndex</th>\n",
       "      <th>MinEStateIndex</th>\n",
       "      <th>MaxAbsEStateIndex</th>\n",
       "      <th>MinAbsEStateIndex</th>\n",
       "      <th>qed</th>\n",
       "      <th>MolWt</th>\n",
       "      <th>HeavyAtomMolWt</th>\n",
       "      <th>ExactMolWt</th>\n",
       "      <th>NumValenceElectrons</th>\n",
       "      <th>NumRadicalElectrons</th>\n",
       "      <th>...</th>\n",
       "      <th>fr_sulfide</th>\n",
       "      <th>fr_sulfonamd</th>\n",
       "      <th>fr_sulfone</th>\n",
       "      <th>fr_term_acetylene</th>\n",
       "      <th>fr_tetrazole</th>\n",
       "      <th>fr_thiazole</th>\n",
       "      <th>fr_thiocyan</th>\n",
       "      <th>fr_thiophene</th>\n",
       "      <th>fr_unbrch_alkane</th>\n",
       "      <th>fr_urea</th>\n",
       "    </tr>\n",
       "  </thead>\n",
       "  <tbody>\n",
       "    <tr>\n",
       "      <th>0</th>\n",
       "      <td>13.083531</td>\n",
       "      <td>-0.683140</td>\n",
       "      <td>13.083531</td>\n",
       "      <td>0.001173</td>\n",
       "      <td>0.520365</td>\n",
       "      <td>463.542</td>\n",
       "      <td>434.310</td>\n",
       "      <td>463.233188</td>\n",
       "      <td>178</td>\n",
       "      <td>0</td>\n",
       "      <td>...</td>\n",
       "      <td>0</td>\n",
       "      <td>0</td>\n",
       "      <td>0</td>\n",
       "      <td>0</td>\n",
       "      <td>1</td>\n",
       "      <td>0</td>\n",
       "      <td>0</td>\n",
       "      <td>0</td>\n",
       "      <td>0</td>\n",
       "      <td>0</td>\n",
       "    </tr>\n",
       "    <tr>\n",
       "      <th>1</th>\n",
       "      <td>12.170097</td>\n",
       "      <td>-0.066966</td>\n",
       "      <td>12.170097</td>\n",
       "      <td>0.066966</td>\n",
       "      <td>0.498564</td>\n",
       "      <td>378.457</td>\n",
       "      <td>360.313</td>\n",
       "      <td>378.115047</td>\n",
       "      <td>136</td>\n",
       "      <td>0</td>\n",
       "      <td>...</td>\n",
       "      <td>1</td>\n",
       "      <td>0</td>\n",
       "      <td>0</td>\n",
       "      <td>0</td>\n",
       "      <td>0</td>\n",
       "      <td>0</td>\n",
       "      <td>0</td>\n",
       "      <td>0</td>\n",
       "      <td>0</td>\n",
       "      <td>0</td>\n",
       "    </tr>\n",
       "    <tr>\n",
       "      <th>2</th>\n",
       "      <td>10.905837</td>\n",
       "      <td>-0.016881</td>\n",
       "      <td>10.905837</td>\n",
       "      <td>0.016881</td>\n",
       "      <td>0.382043</td>\n",
       "      <td>477.589</td>\n",
       "      <td>444.325</td>\n",
       "      <td>477.260865</td>\n",
       "      <td>184</td>\n",
       "      <td>0</td>\n",
       "      <td>...</td>\n",
       "      <td>0</td>\n",
       "      <td>0</td>\n",
       "      <td>0</td>\n",
       "      <td>0</td>\n",
       "      <td>1</td>\n",
       "      <td>0</td>\n",
       "      <td>0</td>\n",
       "      <td>0</td>\n",
       "      <td>0</td>\n",
       "      <td>0</td>\n",
       "    </tr>\n",
       "    <tr>\n",
       "      <th>3</th>\n",
       "      <td>11.562446</td>\n",
       "      <td>-0.454447</td>\n",
       "      <td>11.562446</td>\n",
       "      <td>0.270607</td>\n",
       "      <td>0.795948</td>\n",
       "      <td>330.609</td>\n",
       "      <td>317.505</td>\n",
       "      <td>328.981818</td>\n",
       "      <td>96</td>\n",
       "      <td>0</td>\n",
       "      <td>...</td>\n",
       "      <td>0</td>\n",
       "      <td>0</td>\n",
       "      <td>0</td>\n",
       "      <td>0</td>\n",
       "      <td>0</td>\n",
       "      <td>0</td>\n",
       "      <td>0</td>\n",
       "      <td>0</td>\n",
       "      <td>0</td>\n",
       "      <td>0</td>\n",
       "    </tr>\n",
       "    <tr>\n",
       "      <th>4</th>\n",
       "      <td>12.108866</td>\n",
       "      <td>-3.251317</td>\n",
       "      <td>12.108866</td>\n",
       "      <td>0.086947</td>\n",
       "      <td>0.687618</td>\n",
       "      <td>419.553</td>\n",
       "      <td>402.417</td>\n",
       "      <td>419.043204</td>\n",
       "      <td>140</td>\n",
       "      <td>0</td>\n",
       "      <td>...</td>\n",
       "      <td>0</td>\n",
       "      <td>1</td>\n",
       "      <td>0</td>\n",
       "      <td>0</td>\n",
       "      <td>0</td>\n",
       "      <td>1</td>\n",
       "      <td>0</td>\n",
       "      <td>1</td>\n",
       "      <td>0</td>\n",
       "      <td>0</td>\n",
       "    </tr>\n",
       "  </tbody>\n",
       "</table>\n",
       "<p>5 rows × 208 columns</p>\n",
       "</div>"
      ],
      "text/plain": [
       "   MaxEStateIndex  MinEStateIndex  MaxAbsEStateIndex  MinAbsEStateIndex  \\\n",
       "0       13.083531       -0.683140          13.083531           0.001173   \n",
       "1       12.170097       -0.066966          12.170097           0.066966   \n",
       "2       10.905837       -0.016881          10.905837           0.016881   \n",
       "3       11.562446       -0.454447          11.562446           0.270607   \n",
       "4       12.108866       -3.251317          12.108866           0.086947   \n",
       "\n",
       "        qed    MolWt  HeavyAtomMolWt  ExactMolWt  NumValenceElectrons  \\\n",
       "0  0.520365  463.542         434.310  463.233188                  178   \n",
       "1  0.498564  378.457         360.313  378.115047                  136   \n",
       "2  0.382043  477.589         444.325  477.260865                  184   \n",
       "3  0.795948  330.609         317.505  328.981818                   96   \n",
       "4  0.687618  419.553         402.417  419.043204                  140   \n",
       "\n",
       "   NumRadicalElectrons  ...  fr_sulfide  fr_sulfonamd  fr_sulfone  \\\n",
       "0                    0  ...           0             0           0   \n",
       "1                    0  ...           1             0           0   \n",
       "2                    0  ...           0             0           0   \n",
       "3                    0  ...           0             0           0   \n",
       "4                    0  ...           0             1           0   \n",
       "\n",
       "   fr_term_acetylene  fr_tetrazole  fr_thiazole  fr_thiocyan  fr_thiophene  \\\n",
       "0                  0             1            0            0             0   \n",
       "1                  0             0            0            0             0   \n",
       "2                  0             1            0            0             0   \n",
       "3                  0             0            0            0             0   \n",
       "4                  0             0            1            0             1   \n",
       "\n",
       "   fr_unbrch_alkane  fr_urea  \n",
       "0                 0        0  \n",
       "1                 0        0  \n",
       "2                 0        0  \n",
       "3                 0        0  \n",
       "4                 0        0  \n",
       "\n",
       "[5 rows x 208 columns]"
      ]
     },
     "execution_count": 4,
     "metadata": {},
     "output_type": "execute_result"
    }
   ],
   "source": [
    "allDescrs = []\n",
    "for _, row in df_smiles.iterrows():\n",
    "    mol = row['SMILES']\n",
    "    m = Chem.MolFromSmiles(mol)\n",
    "    descriptors = getMolDescriptors(m)\n",
    "    allDescrs.append(descriptors)\n",
    "    \n",
    "df_descr = pd.DataFrame(allDescrs)\n",
    "df_descr.head()\n"
   ]
  },
  {
   "cell_type": "markdown",
   "id": "d47ad61d",
   "metadata": {},
   "source": [
    "## Data cleaning"
   ]
  },
  {
   "cell_type": "markdown",
   "id": "8YFZO9c845Vk",
   "metadata": {
    "id": "8YFZO9c845Vk"
   },
   "source": [
    "Delete the collumns that have only one unique value, so a column where each value is the mean, and variance is 0"
   ]
  },
  {
   "cell_type": "code",
   "execution_count": 49,
   "id": "Tk1p99Fb2HjW",
   "metadata": {
    "id": "Tk1p99Fb2HjW"
   },
   "outputs": [
    {
     "name": "stdout",
     "output_type": "stream",
     "text": [
      "['NumRadicalElectrons', 'SMR_VSA8', 'SlogP_VSA9', 'EState_VSA11', 'fr_HOCCN', 'fr_azide', 'fr_benzodiazepine', 'fr_diazo', 'fr_isocyan', 'fr_isothiocyan', 'fr_phos_acid', 'fr_phos_ester', 'fr_prisulfonamd']\n"
     ]
    }
   ],
   "source": [
    "#Deletes colums with nonsense values (only the same values)\n",
    "bad_descr=[]\n",
    "for i in df_descr.columns:\n",
    "    if df_descr[i].nunique() == 1:\n",
    "        bad_descr.append(i)\n",
    "print(bad_descr)       \n",
    "df_nonzero=df_descr.drop(columns=bad_descr)  "
   ]
  },
  {
   "cell_type": "markdown",
   "id": "VsdFlqFG5IHA",
   "metadata": {
    "id": "VsdFlqFG5IHA"
   },
   "source": [
    "Remove variables so that no variables are left that have a hcorralation with another variable higher than the set threshold for corralation"
   ]
  },
  {
   "cell_type": "code",
   "execution_count": 50,
   "id": "Dml2f4GC2aga",
   "metadata": {
    "id": "Dml2f4GC2aga"
   },
   "outputs": [
    {
     "data": {
      "text/html": [
       "<div>\n",
       "<style scoped>\n",
       "    .dataframe tbody tr th:only-of-type {\n",
       "        vertical-align: middle;\n",
       "    }\n",
       "\n",
       "    .dataframe tbody tr th {\n",
       "        vertical-align: top;\n",
       "    }\n",
       "\n",
       "    .dataframe thead th {\n",
       "        text-align: right;\n",
       "    }\n",
       "</style>\n",
       "<table border=\"1\" class=\"dataframe\">\n",
       "  <thead>\n",
       "    <tr style=\"text-align: right;\">\n",
       "      <th></th>\n",
       "      <th>MaxEStateIndex</th>\n",
       "      <th>MinEStateIndex</th>\n",
       "      <th>MinAbsEStateIndex</th>\n",
       "      <th>qed</th>\n",
       "      <th>MolWt</th>\n",
       "      <th>MaxPartialCharge</th>\n",
       "      <th>MinPartialCharge</th>\n",
       "      <th>FpDensityMorgan1</th>\n",
       "      <th>BCUT2D_MWHI</th>\n",
       "      <th>BCUT2D_MWLOW</th>\n",
       "      <th>...</th>\n",
       "      <th>fr_sulfide</th>\n",
       "      <th>fr_sulfonamd</th>\n",
       "      <th>fr_sulfone</th>\n",
       "      <th>fr_term_acetylene</th>\n",
       "      <th>fr_tetrazole</th>\n",
       "      <th>fr_thiazole</th>\n",
       "      <th>fr_thiocyan</th>\n",
       "      <th>fr_thiophene</th>\n",
       "      <th>fr_unbrch_alkane</th>\n",
       "      <th>fr_urea</th>\n",
       "    </tr>\n",
       "  </thead>\n",
       "  <tbody>\n",
       "    <tr>\n",
       "      <th>0</th>\n",
       "      <td>13.083531</td>\n",
       "      <td>-0.683140</td>\n",
       "      <td>0.001173</td>\n",
       "      <td>0.520365</td>\n",
       "      <td>463.542</td>\n",
       "      <td>0.249868</td>\n",
       "      <td>-0.496477</td>\n",
       "      <td>1.088235</td>\n",
       "      <td>16.465857</td>\n",
       "      <td>10.012387</td>\n",
       "      <td>...</td>\n",
       "      <td>0</td>\n",
       "      <td>0</td>\n",
       "      <td>0</td>\n",
       "      <td>0</td>\n",
       "      <td>1</td>\n",
       "      <td>0</td>\n",
       "      <td>0</td>\n",
       "      <td>0</td>\n",
       "      <td>0</td>\n",
       "      <td>0</td>\n",
       "    </tr>\n",
       "    <tr>\n",
       "      <th>1</th>\n",
       "      <td>12.170097</td>\n",
       "      <td>-0.066966</td>\n",
       "      <td>0.066966</td>\n",
       "      <td>0.498564</td>\n",
       "      <td>378.457</td>\n",
       "      <td>0.230353</td>\n",
       "      <td>-0.467476</td>\n",
       "      <td>1.111111</td>\n",
       "      <td>32.166556</td>\n",
       "      <td>10.202245</td>\n",
       "      <td>...</td>\n",
       "      <td>1</td>\n",
       "      <td>0</td>\n",
       "      <td>0</td>\n",
       "      <td>0</td>\n",
       "      <td>0</td>\n",
       "      <td>0</td>\n",
       "      <td>0</td>\n",
       "      <td>0</td>\n",
       "      <td>0</td>\n",
       "      <td>0</td>\n",
       "    </tr>\n",
       "    <tr>\n",
       "      <th>2</th>\n",
       "      <td>10.905837</td>\n",
       "      <td>-0.016881</td>\n",
       "      <td>0.016881</td>\n",
       "      <td>0.382043</td>\n",
       "      <td>477.589</td>\n",
       "      <td>0.219930</td>\n",
       "      <td>-0.492903</td>\n",
       "      <td>1.228571</td>\n",
       "      <td>16.492058</td>\n",
       "      <td>9.989823</td>\n",
       "      <td>...</td>\n",
       "      <td>0</td>\n",
       "      <td>0</td>\n",
       "      <td>0</td>\n",
       "      <td>0</td>\n",
       "      <td>1</td>\n",
       "      <td>0</td>\n",
       "      <td>0</td>\n",
       "      <td>0</td>\n",
       "      <td>0</td>\n",
       "      <td>0</td>\n",
       "    </tr>\n",
       "    <tr>\n",
       "      <th>3</th>\n",
       "      <td>11.562446</td>\n",
       "      <td>-0.454447</td>\n",
       "      <td>0.270607</td>\n",
       "      <td>0.795948</td>\n",
       "      <td>330.609</td>\n",
       "      <td>0.351723</td>\n",
       "      <td>-0.421732</td>\n",
       "      <td>1.333333</td>\n",
       "      <td>79.918731</td>\n",
       "      <td>10.173315</td>\n",
       "      <td>...</td>\n",
       "      <td>0</td>\n",
       "      <td>0</td>\n",
       "      <td>0</td>\n",
       "      <td>0</td>\n",
       "      <td>0</td>\n",
       "      <td>0</td>\n",
       "      <td>0</td>\n",
       "      <td>0</td>\n",
       "      <td>0</td>\n",
       "      <td>0</td>\n",
       "    </tr>\n",
       "    <tr>\n",
       "      <th>4</th>\n",
       "      <td>12.108866</td>\n",
       "      <td>-3.251317</td>\n",
       "      <td>0.086947</td>\n",
       "      <td>0.687618</td>\n",
       "      <td>419.553</td>\n",
       "      <td>0.231765</td>\n",
       "      <td>-0.301646</td>\n",
       "      <td>1.296296</td>\n",
       "      <td>32.233291</td>\n",
       "      <td>10.071048</td>\n",
       "      <td>...</td>\n",
       "      <td>0</td>\n",
       "      <td>1</td>\n",
       "      <td>0</td>\n",
       "      <td>0</td>\n",
       "      <td>0</td>\n",
       "      <td>1</td>\n",
       "      <td>0</td>\n",
       "      <td>1</td>\n",
       "      <td>0</td>\n",
       "      <td>0</td>\n",
       "    </tr>\n",
       "  </tbody>\n",
       "</table>\n",
       "<p>5 rows × 160 columns</p>\n",
       "</div>"
      ],
      "text/plain": [
       "   MaxEStateIndex  MinEStateIndex  MinAbsEStateIndex       qed    MolWt  \\\n",
       "0       13.083531       -0.683140           0.001173  0.520365  463.542   \n",
       "1       12.170097       -0.066966           0.066966  0.498564  378.457   \n",
       "2       10.905837       -0.016881           0.016881  0.382043  477.589   \n",
       "3       11.562446       -0.454447           0.270607  0.795948  330.609   \n",
       "4       12.108866       -3.251317           0.086947  0.687618  419.553   \n",
       "\n",
       "   MaxPartialCharge  MinPartialCharge  FpDensityMorgan1  BCUT2D_MWHI  \\\n",
       "0          0.249868         -0.496477          1.088235    16.465857   \n",
       "1          0.230353         -0.467476          1.111111    32.166556   \n",
       "2          0.219930         -0.492903          1.228571    16.492058   \n",
       "3          0.351723         -0.421732          1.333333    79.918731   \n",
       "4          0.231765         -0.301646          1.296296    32.233291   \n",
       "\n",
       "   BCUT2D_MWLOW  ...  fr_sulfide  fr_sulfonamd  fr_sulfone  fr_term_acetylene  \\\n",
       "0     10.012387  ...           0             0           0                  0   \n",
       "1     10.202245  ...           1             0           0                  0   \n",
       "2      9.989823  ...           0             0           0                  0   \n",
       "3     10.173315  ...           0             0           0                  0   \n",
       "4     10.071048  ...           0             1           0                  0   \n",
       "\n",
       "   fr_tetrazole  fr_thiazole  fr_thiocyan  fr_thiophene  fr_unbrch_alkane  \\\n",
       "0             1            0            0             0                 0   \n",
       "1             0            0            0             0                 0   \n",
       "2             1            0            0             0                 0   \n",
       "3             0            0            0             0                 0   \n",
       "4             0            1            0             1                 0   \n",
       "\n",
       "   fr_urea  \n",
       "0        0  \n",
       "1        0  \n",
       "2        0  \n",
       "3        0  \n",
       "4        0  \n",
       "\n",
       "[5 rows x 160 columns]"
      ]
     },
     "execution_count": 50,
     "metadata": {},
     "output_type": "execute_result"
    }
   ],
   "source": [
    "corrThreshold = 0.90\n",
    "\n",
    "\n",
    "correlation_mat = df_nonzero.corr()\n",
    "upper_tri = correlation_mat.where(np.triu(np.ones(correlation_mat.shape),k=1).astype(bool)) \n",
    "to_drop = [column for column in upper_tri.columns if any(upper_tri[column].abs() > corrThreshold)] \n",
    "df_noCorr = df_nonzero.drop(columns=to_drop)\n",
    "\n",
    "\n",
    "\n",
    "df_noCorr.head()"
   ]
  },
  {
   "cell_type": "markdown",
   "id": "8cf2d25f",
   "metadata": {},
   "source": [
    "## Scale data & perform PCA"
   ]
  },
  {
   "cell_type": "code",
   "execution_count": 51,
   "id": "5458a4ab",
   "metadata": {
    "id": "5458a4ab"
   },
   "outputs": [],
   "source": [
    "scaler = MinMaxScaler()\n",
    "df_scaled = scaler.fit_transform(df_noCorr)\n",
    "\n",
    "pca = PCA(n_components=48)\n",
    "principalComponents = pca.fit_transform(df_scaled)\n",
    "principalDf = pd.DataFrame(data = principalComponents)\n",
    "exp_var_pca = pca.explained_variance_ratio_\n",
    "cum_sum_eigenvalues = np.cumsum(exp_var_pca)"
   ]
  },
  {
   "cell_type": "code",
   "execution_count": 52,
   "id": "ae81f9c2",
   "metadata": {
    "id": "ae81f9c2"
   },
   "outputs": [
    {
     "data": {
      "image/png": "[encoded data removed]",
      "text/plain": [
       "<Figure size 640x480 with 1 Axes>"
      ]
     },
     "metadata": {},
     "output_type": "display_data"
    },
    {
     "data": {
      "image/png": "[encoded data removed]",
      "text/plain": [
       "<Figure size 640x480 with 1 Axes>"
      ]
     },
     "metadata": {},
     "output_type": "display_data"
    }
   ],
   "source": [
    "plt.bar(range(1,len(cum_sum_eigenvalues)+1), cum_sum_eigenvalues, align='center',label='Cumulative explained variance');\n",
    "plt.ylabel('Cumulative variance ratio')\n",
    "plt.xlabel('Number of Components')\n",
    "plt.legend(loc='best')\n",
    "plt.tight_layout()\n",
    "plt.show()\n",
    "\n",
    "#scree plot om aantal PCA te bepalen\n",
    "plt.bar(range(1,len(exp_var_pca)+1), exp_var_pca, alpha=0.5, align='center', label='Individual explained variance');\n",
    "plt.ylabel('Explained variance ratio')\n",
    "plt.xlabel('Number of Components')\n",
    "plt.legend(loc='best')\n",
    "plt.show()"
   ]
  },
  {
   "cell_type": "code",
   "execution_count": 53,
   "id": "o8WO78DpNnLc",
   "metadata": {
    "id": "o8WO78DpNnLc"
   },
   "outputs": [
    {
     "data": {
      "text/plain": [
       "VarianceThreshold(threshold=0.15999999999999998)"
      ]
     },
     "execution_count": 53,
     "metadata": {},
     "output_type": "execute_result"
    }
   ],
   "source": [
    "#verwijderen van features die lage variance hebben\n",
    "#x is hierbij je matrix met alle features.\n",
    "\n",
    "selection = VarianceThreshold(threshold=(.8*(1-.8)))\n",
    "df_noCorr = selection.fit_transform(df_noCorr)\n",
    "selection"
   ]
  },
  {
   "cell_type": "markdown",
   "id": "c60a90f2",
   "metadata": {},
   "source": [
    "## Split data for testing"
   ]
  },
  {
   "cell_type": "code",
   "execution_count": 54,
   "id": "cf1e8750",
   "metadata": {},
   "outputs": [],
   "source": [
    "features = np.array(principalDf)\n",
    "feature_names = list(principalDf.columns)\n",
    "target = np.array(df_smiles['ALDH1_inhibition'])"
   ]
  },
  {
   "cell_type": "markdown",
   "id": "c48f1a04",
   "metadata": {},
   "source": [
    "### Training & test set"
   ]
  },
  {
   "cell_type": "code",
   "execution_count": 55,
   "id": "c5d14208",
   "metadata": {},
   "outputs": [
    {
     "name": "stdout",
     "output_type": "stream",
     "text": [
      "Training Features Shape: (1600, 48)\n",
      "Training Labels Shape: (1600,)\n",
      "Testing Features Shape: (400, 48)\n",
      "Testing Labels Shape: (400,)\n"
     ]
    }
   ],
   "source": [
    "# Split the data into training and testing sets\n",
    "train_features, test_features, train_labels, test_labels = train_test_split(features, target, test_size = 0.20, random_state = 42)\n",
    "\n",
    "#check the shapes\n",
    "print('Training Features Shape:', train_features.shape)\n",
    "print('Training Labels Shape:', train_labels.shape)\n",
    "print('Testing Features Shape:', test_features.shape)\n",
    "print('Testing Labels Shape:', test_labels.shape)"
   ]
  },
  {
   "cell_type": "markdown",
   "id": "6656e0f8",
   "metadata": {},
   "source": [
    "## Predictor models"
   ]
  },
  {
   "cell_type": "markdown",
   "id": "8ffe992a",
   "metadata": {},
   "source": [
    "### Random Forest Regressor Model"
   ]
  },
  {
   "cell_type": "code",
   "execution_count": 12,
   "id": "307ddfae",
   "metadata": {},
   "outputs": [],
   "source": [
    "# Instantiate model with 1000 decision trees\n",
    "rf = RandomForestRegressor(n_estimators = 1000, random_state = 42)\n",
    "# Train the model on training data\n",
    "rf.fit(train_features, train_labels);"
   ]
  },
  {
   "cell_type": "markdown",
   "id": "f2728caa",
   "metadata": {},
   "source": [
    "Predictions"
   ]
  },
  {
   "cell_type": "code",
   "execution_count": 13,
   "id": "7e096288",
   "metadata": {},
   "outputs": [],
   "source": [
    "# Use the forest's predict method on the test data\n",
    "predictions = rf.predict(test_features)"
   ]
  },
  {
   "cell_type": "code",
   "execution_count": 14,
   "id": "7c172d6e",
   "metadata": {},
   "outputs": [],
   "source": [
    "def get_labels(threshold, predictions):\n",
    "    \" Classify the predictions in category 1 or 0, based on the given threhold parameters\"\n",
    "    predicted_labels = []\n",
    "    for i in predictions:\n",
    "        if i>= threshold:\n",
    "            predicted_labels.append(1)\n",
    "        else:\n",
    "            predicted_labels.append(0)\n",
    "    return  predicted_labels"
   ]
  },
  {
   "cell_type": "code",
   "execution_count": 15,
   "id": "66807ab1",
   "metadata": {},
   "outputs": [],
   "source": [
    "# Get the labels from the predictions\n",
    "rf_predicted_labels = get_labels(0.5, predictions)"
   ]
  },
  {
   "cell_type": "code",
   "execution_count": 16,
   "id": "7ba8a631",
   "metadata": {},
   "outputs": [
    {
     "name": "stdout",
     "output_type": "stream",
     "text": [
      "accuracy 0.7327380952380952\n",
      "specificity 0.8571428571428571\n",
      "sensitivity 0.6083333333333333\n"
     ]
    }
   ],
   "source": [
    "# Calculate the balanced accuracy\n",
    "d={'predictions':predictions, 'predicted_labels':rf_predicted_labels, 'true_labels':test_labels}\n",
    "rf_results = pd.DataFrame(d) \n",
    "#print(rf_results)\n",
    "rf_acc = metrics.balanced_accuracy_score(rf_results['true_labels'], rf_results['predicted_labels'] )\n",
    "print(\"accuracy\", rf_acc)\n",
    "\n",
    "# Calculate metrics\n",
    "tn, fp, fn, tp = confusion_matrix(rf_results['true_labels'], rf_results['predicted_labels']).ravel()\n",
    "cm = confusion_matrix(rf_results['true_labels'], rf_results['predicted_labels'])\n",
    "specificity = tn / (tn+fp)\n",
    "sensitivity = tp / (tp+fn)\n",
    "print(\"specificity\", specificity)\n",
    "print(\"sensitivity\", sensitivity)\n",
    "\n",
    "# Make confusion matrix\n",
    "sns.heatmap(cm,annot=True, cmap=\"Blues\", fmt='g')\n",
    "plt.ylabel('Predicted label',fontsize=13)\n",
    "plt.xlabel('True label',fontsize=13)\n",
    "plt.title('RF confusion Matrix',fontsize=17)\n",
    "plt.show()"
   ]
  },
  {
   "cell_type": "code",
   "execution_count": 18,
   "id": "65d22e06",
   "metadata": {},
   "outputs": [
    {
     "data": {
      "image/png": "[encoded data removed]",
      "text/plain": [
       "<Figure size 640x480 with 1 Axes>"
      ]
     },
     "metadata": {},
     "output_type": "display_data"
    }
   ],
   "source": [
    "# Plot ROC curve\n",
    "fpr, tpr, thresholds = roc_curve(rf_results['true_labels'], rf_results['predictions'])\n",
    "plt.plot([0, 1], [0, 1], 'k--')\n",
    "plt.plot(fpr, tpr)\n",
    "plt.xlabel('False Positive Rate')\n",
    "plt.ylabel('True Positive Rate')\n",
    "plt.title('RF ROC Curve')\n",
    "plt.show()"
   ]
  },
  {
   "cell_type": "markdown",
   "id": "a99a41ba",
   "metadata": {},
   "source": [
    "### Random Forest Classifier Model"
   ]
  },
  {
   "cell_type": "code",
   "execution_count": 19,
   "id": "1ecc1e6b",
   "metadata": {},
   "outputs": [
    {
     "data": {
      "text/plain": [
       "RandomForestClassifier()"
      ]
     },
     "execution_count": 19,
     "metadata": {},
     "output_type": "execute_result"
    }
   ],
   "source": [
    "clf=RandomForestClassifier()\n",
    "clf.fit(train_features, train_labels)"
   ]
  },
  {
   "cell_type": "markdown",
   "id": "28f00e78",
   "metadata": {},
   "source": [
    "Predictions"
   ]
  },
  {
   "cell_type": "code",
   "execution_count": 20,
   "id": "a4ace218",
   "metadata": {},
   "outputs": [
    {
     "name": "stdout",
     "output_type": "stream",
     "text": [
      "accuracy of the training set 1.0\n",
      "accuracy of the test set 0.7775\n",
      "0.6767857142857143\n"
     ]
    }
   ],
   "source": [
    "preds = clf.predict(test_features)\n",
    "print (\"accuracy of the training set\",clf.score(train_features, train_labels))\n",
    "print(\"accuracy of the test set\" ,clf.score(test_features, test_labels))\n",
    "\n",
    "rf_acc = metrics.balanced_accuracy_score(test_labels, preds)\n",
    "print(rf_acc)"
   ]
  },
  {
   "cell_type": "markdown",
   "id": "83b78453",
   "metadata": {},
   "source": [
    "## Support vector machine"
   ]
  },
  {
   "cell_type": "markdown",
   "id": "9e246e4f",
   "metadata": {},
   "source": [
    "### Support vector regressor"
   ]
  },
  {
   "cell_type": "code",
   "execution_count": 21,
   "id": "51cbb650",
   "metadata": {},
   "outputs": [],
   "source": [
    "# Make a default SVR model and calculate the labels from the predictions\n",
    "SVR_model_default = SVR()\n",
    "SVR_model_default.fit(train_features, train_labels)\n",
    "y_pred_SVR_default = SVR_model_default.predict(test_features)\n",
    "svr_predicted_labels = get_labels(0.5, y_pred_SVR_default)\n",
    "#print(y_pred_SVR_default)"
   ]
  },
  {
   "cell_type": "code",
   "execution_count": 22,
   "id": "0194c69b",
   "metadata": {},
   "outputs": [
    {
     "name": "stdout",
     "output_type": "stream",
     "text": [
      "     predictions  predicted_labels  true_labels\n",
      "0       0.548571                 1            1\n",
      "1       0.097966                 0            0\n",
      "2      -0.081198                 0            0\n",
      "3       0.127078                 0            0\n",
      "4       0.022477                 0            0\n",
      "..           ...               ...          ...\n",
      "395     0.057733                 0            0\n",
      "396    -0.029154                 0            0\n",
      "397     0.885704                 1            1\n",
      "398     0.796594                 1            1\n",
      "399     0.009468                 0            0\n",
      "\n",
      "[400 rows x 3 columns]\n",
      "accuracy 0.6767857142857143\n",
      "specificity 0.8678571428571429\n",
      "sensitivity 0.6416666666666667\n"
     ]
    }
   ],
   "source": [
    "# Calculate the balanced accuracy\n",
    "d={'predictions':y_pred_SVR_default, 'predicted_labels':svr_predicted_labels, 'true_labels':test_labels}\n",
    "svr_default_results = pd.DataFrame(d) \n",
    "print(svr_default_results)\n",
    "\n",
    "svr_default_acc = metrics.balanced_accuracy_score(svr_default_results['true_labels'], svr_default_results['predicted_labels'] )\n",
    "print(\"accuracy\", rf_acc)\n",
    "\n",
    "# Calculate metrics\n",
    "tn, fp, fn, tp = confusion_matrix(svr_default_results['true_labels'], svr_default_results['predicted_labels']).ravel()\n",
    "cm = confusion_matrix(svr_default_results['true_labels'], svr_default_results['predicted_labels'])\n",
    "specificity = tn / (tn+fp)\n",
    "sensitivity = tp / (tp+fn)\n",
    "print(\"specificity\", specificity)\n",
    "print(\"sensitivity\", sensitivity)\n",
    "\n",
    "# Make confusion matrix\n",
    "sns.heatmap(cm,annot=True, cmap=\"Blues\", fmt='g')\n",
    "plt.ylabel('Predicted label',fontsize=13)\n",
    "plt.xlabel('True label',fontsize=13)\n",
    "plt.title('SVM confusion Matrix',fontsize=17)\n",
    "plt.show()"
   ]
  },
  {
   "cell_type": "code",
   "execution_count": null,
   "id": "7b75889b",
   "metadata": {},
   "outputs": [],
   "source": [
    "# Plot ROC curve\n",
    "fpr, tpr, thresholds = roc_curve(svr_default_results['true_labels'], svr_default_results['predicted_labels'] )\n",
    "plt.plot([0, 1], [0, 1], 'k--')\n",
    "plt.plot(fpr, tpr)\n",
    "plt.xlabel('False Positive Rate')\n",
    "plt.ylabel('True Positive Rate')\n",
    "plt.title('SVM ROC Curve')\n",
    "plt.show()"
   ]
  },
  {
   "cell_type": "code",
   "execution_count": 23,
   "id": "65c99884",
   "metadata": {},
   "outputs": [],
   "source": [
    "# Define the parameter values used in GridSearch for the optimized model\n",
    "estimator_SVR = SVR(gamma = 'auto')\n",
    "parameters_SVR = {\n",
    "    'C':(0.1,1, 10, 100), \n",
    "    'kernel': ('linear', 'poly', 'rbf'),\n",
    "    'coef0': (0.0, 10.0, 1.0)}   "
   ]
  },
  {
   "cell_type": "code",
   "execution_count": 24,
   "id": "c18aea22",
   "metadata": {},
   "outputs": [],
   "source": [
    "# Find the optimal parameter values\n",
    "grid_search_SVR = GridSearchCV(\n",
    "    estimator=estimator_SVR,\n",
    "    param_grid=parameters_SVR,\n",
    "    scoring = 'balanced_accuracy',\n",
    "    n_jobs = -1,\n",
    "    cv = 5\n",
    ")"
   ]
  },
  {
   "cell_type": "code",
   "execution_count": 25,
   "id": "23e9554a",
   "metadata": {},
   "outputs": [
    {
     "name": "stderr",
     "output_type": "stream",
     "text": [
      "C:\\Users\\20192059\\.conda\\envs\\adv_programming\\lib\\site-packages\\sklearn\\model_selection\\_search.py:972: UserWarning: One or more of the test scores are non-finite: [nan nan nan nan nan nan nan nan nan nan nan nan nan nan nan nan nan nan\n",
      " nan nan nan nan nan nan nan nan nan nan nan nan nan nan nan nan nan nan]\n",
      "  category=UserWarning,\n"
     ]
    }
   ],
   "source": [
    "# Fit the model\n",
    "SVR_1 = grid_search_SVR.fit(train_features, train_labels)\n",
    "y_pred_SVR1 = SVR_1.predict(test_features)\n",
    "svr1_predicted_labels = get_labels(0.5, y_pred_SVR1)"
   ]
  },
  {
   "cell_type": "code",
   "execution_count": 26,
   "id": "63e12aef",
   "metadata": {},
   "outputs": [
    {
     "name": "stdout",
     "output_type": "stream",
     "text": [
      "accuracy 0.6767857142857143\n",
      "specificity 0.8892857142857142\n",
      "sensitivity 0.48333333333333334\n"
     ]
    }
   ],
   "source": [
    "# Calculate the balanced accuracy\n",
    "d={'predictions':y_pred_SVR1, 'predicted_labels':svr1_predicted_labels, 'true_labels':test_labels}\n",
    "svr_optimized_results = pd.DataFrame(d) \n",
    "#print(svr_optimized_results)\n",
    "\n",
    "svr_optimized_acc = metrics.balanced_accuracy_score(svr_optimized_results['true_labels'], svr_optimized_results['predicted_labels'] )\n",
    "print(\"accuracy\", rf_acc)\n",
    "\n",
    "# Calculate metrics\n",
    "tn, fp, fn, tp = confusion_matrix(svr_optimized_results['true_labels'], svr_optimized_results['predicted_labels']).ravel()\n",
    "cm = confusion_matrix(svr_optimized_results['true_labels'], svr_optimized_results['predicted_labels'])\n",
    "specificity = tn / (tn+fp)\n",
    "sensitivity = tp / (tp+fn)\n",
    "print(\"specificity\", specificity)\n",
    "print(\"sensitivity\", sensitivity)\n",
    "\n",
    "# Make confusion matrix\n",
    "sns.heatmap(cm,annot=True, cmap=\"Blues\", fmt='g')\n",
    "plt.ylabel('Predicted label',fontsize=13)\n",
    "plt.xlabel('True label',fontsize=13)\n",
    "plt.title('SVM confusion Matrix',fontsize=17)\n",
    "plt.show()"
   ]
  },
  {
   "cell_type": "code",
   "execution_count": null,
   "id": "8abbdfbc",
   "metadata": {},
   "outputs": [],
   "source": [
    "# Plot ROC curve\n",
    "fpr, tpr, thresholds = roc_curve(svr_optimized_results['true_labels'], svr_optimized_results['predicted_labels'])\n",
    "plt.plot([0, 1], [0, 1], 'k--')\n",
    "plt.plot(fpr, tpr)\n",
    "plt.xlabel('False Positive Rate')\n",
    "plt.ylabel('True Positive Rate')\n",
    "plt.title('SVM ROC Curve')\n",
    "plt.show()"
   ]
  },
  {
   "cell_type": "markdown",
   "id": "987b52fd",
   "metadata": {},
   "source": [
    "### Support vector classifier"
   ]
  },
  {
   "cell_type": "markdown",
   "id": "c06ba754",
   "metadata": {},
   "source": [
    "Make SVM model without optimizing the hyperparameters"
   ]
  },
  {
   "cell_type": "code",
   "execution_count": 27,
   "id": "4f8b790f",
   "metadata": {},
   "outputs": [],
   "source": [
    "SVC_model_default = SVC()\n",
    "SVC_model_default.fit(train_features, train_labels)\n",
    "y_pred_SVC_default =SVC_model_default.predict(test_features)"
   ]
  },
  {
   "cell_type": "markdown",
   "id": "bc757d0a",
   "metadata": {},
   "source": [
    "Define the parameter values used in GridSearch"
   ]
  },
  {
   "cell_type": "code",
   "execution_count": 28,
   "id": "e074215e",
   "metadata": {},
   "outputs": [],
   "source": [
    "estimator_SVM = SVC(gamma = 'auto')\n",
    "parameters_SVM = {\n",
    "    'C':(0.1,1, 10, 100), #(0.1, 15.0, 0.1)\n",
    "    'kernel': ('linear', 'poly', 'rbf', 'sigmoid'),\n",
    "    'coef0': (0.0, 10.0, 1.0),\n",
    "    'shrinking': (True, False)}   "
   ]
  },
  {
   "cell_type": "markdown",
   "id": "bd3b0d8d",
   "metadata": {},
   "source": [
    "Find the optimal parameter values "
   ]
  },
  {
   "cell_type": "code",
   "execution_count": 29,
   "id": "eae14360",
   "metadata": {},
   "outputs": [],
   "source": [
    "grid_search_SVM = GridSearchCV(\n",
    "    estimator=estimator_SVM,\n",
    "    param_grid=parameters_SVM,\n",
    "    scoring = 'balanced_accuracy',\n",
    "    n_jobs = -1,\n",
    "    cv = 5\n",
    ")"
   ]
  },
  {
   "cell_type": "markdown",
   "id": "98b62231",
   "metadata": {},
   "source": [
    "Fit the model"
   ]
  },
  {
   "cell_type": "code",
   "execution_count": 30,
   "id": "65d33cab",
   "metadata": {},
   "outputs": [],
   "source": [
    "SVM_1 = grid_search_SVM.fit(train_features, train_labels)\n",
    "y_pred_SVM1 = SVM_1.predict(test_features)"
   ]
  },
  {
   "cell_type": "markdown",
   "id": "61a89c3c",
   "metadata": {},
   "source": [
    "Evaluate the performance"
   ]
  },
  {
   "cell_type": "code",
   "execution_count": 31,
   "id": "362dabf4",
   "metadata": {},
   "outputs": [
    {
     "name": "stdout",
     "output_type": "stream",
     "text": [
      "0.7732142857142857\n",
      "0.7619047619047619\n"
     ]
    }
   ],
   "source": [
    "default_acc = metrics.balanced_accuracy_score(test_labels, y_pred_SVC_default)\n",
    "optimized_acc = metrics.balanced_accuracy_score(test_labels, y_pred_SVM1)\n",
    "print(default_acc)\n",
    "print(optimized_acc)"
   ]
  },
  {
   "cell_type": "markdown",
   "id": "3206f3ed",
   "metadata": {},
   "source": [
    "## K-nearest Neighbor"
   ]
  },
  {
   "cell_type": "markdown",
   "id": "966a3a95",
   "metadata": {},
   "source": [
    "### K-nearest Neighbor regressor"
   ]
  },
  {
   "cell_type": "code",
   "execution_count": 56,
   "id": "b94b3dca",
   "metadata": {},
   "outputs": [
    {
     "data": {
      "text/plain": [
       "KNeighborsRegressor()"
      ]
     },
     "execution_count": 56,
     "metadata": {},
     "output_type": "execute_result"
    }
   ],
   "source": [
    "# Make the KN model and train it\n",
    "KN_reg = neighbors.KNeighborsRegressor(n_neighbors=5)\n",
    "KN_reg.fit(train_features, train_labels)"
   ]
  },
  {
   "cell_type": "code",
   "execution_count": 57,
   "id": "368cd605",
   "metadata": {},
   "outputs": [],
   "source": [
    "# Get the predictions on the test set and determine the labels of these predictions\n",
    "KN_pred = KN_reg.predict(test_features)\n",
    "KN_predicted_labels = get_labels(0.5, KN_pred)"
   ]
  },
  {
   "cell_type": "code",
   "execution_count": 58,
   "id": "a2ab88f1",
   "metadata": {},
   "outputs": [
    {
     "name": "stdout",
     "output_type": "stream",
     "text": [
      "accuracy 0.7619047619047619\n",
      "specificity 0.8571428571428571\n",
      "sensitivity 0.6666666666666666\n"
     ]
    },
    {
     "data": {
      "image/png": "[encoded data removed]",
      "text/plain": [
       "<Figure size 640x480 with 2 Axes>"
      ]
     },
     "metadata": {},
     "output_type": "display_data"
    }
   ],
   "source": [
    "# Calculate the accuracy\n",
    "d={'predictions':KN_pred, 'predicted_labels':KN_predicted_labels, 'true_labels':test_labels}\n",
    "kn_results = pd.DataFrame(d) \n",
    "#print(kn_results)\n",
    "\n",
    "kn_acc = metrics.balanced_accuracy_score(kn_results['true_labels'], kn_results['predicted_labels'] )\n",
    "print(\"accuracy\", kn_acc)\n",
    "\n",
    "# Calculate metrics\n",
    "tn, fp, fn, tp = confusion_matrix(kn_results['true_labels'], kn_results['predicted_labels']).ravel()\n",
    "cm = confusion_matrix(kn_results['true_labels'], kn_results['predicted_labels'])\n",
    "specificity = tn / (tn+fp)\n",
    "specificity = tn / (tn+fp)\n",
    "sensitivity = tp / (tp+fn)\n",
    "print(\"specificity\", specificity)\n",
    "print(\"sensitivity\", sensitivity)\n",
    "\n",
    "# Make confusion matrix\n",
    "sns.heatmap(cm,annot=True, cmap=\"Blues\", fmt='g')\n",
    "plt.ylabel('Predicted label',fontsize=13)\n",
    "plt.xlabel('True label',fontsize=13)\n",
    "plt.title('KNN confusion Matrix',fontsize=17)\n",
    "plt.show()"
   ]
  },
  {
   "cell_type": "code",
   "execution_count": null,
   "id": "b9264822",
   "metadata": {},
   "outputs": [],
   "source": [
    "# Plot ROC curve\n",
    "fpr, tpr, thresholds = roc_curve(kn_results['true_labels'], kn_results['predicted_labels'])\n",
    "plt.plot([0, 1], [0, 1], 'k--')\n",
    "plt.plot(fpr, tpr)\n",
    "plt.xlabel('False Positive Rate')\n",
    "plt.ylabel('True Positive Rate')\n",
    "plt.title('KNN ROC Curve')\n",
    "plt.show()"
   ]
  },
  {
   "cell_type": "markdown",
   "id": "1ee07e45",
   "metadata": {},
   "source": [
    "### K-nearest Neighbor classifier"
   ]
  },
  {
   "cell_type": "code",
   "execution_count": 35,
   "id": "b908f821",
   "metadata": {},
   "outputs": [
    {
     "data": {
      "text/plain": [
       "KNeighborsClassifier()"
      ]
     },
     "execution_count": 35,
     "metadata": {},
     "output_type": "execute_result"
    }
   ],
   "source": [
    "KN_clf=neighbors.KNeighborsClassifier(n_neighbors=5)\n",
    "KN_clf.fit(train_features, train_labels)"
   ]
  },
  {
   "cell_type": "markdown",
   "id": "1b4cbf18",
   "metadata": {},
   "source": [
    "Predictions"
   ]
  },
  {
   "cell_type": "code",
   "execution_count": 36,
   "id": "3ee8e932",
   "metadata": {
    "scrolled": true
   },
   "outputs": [
    {
     "name": "stdout",
     "output_type": "stream",
     "text": [
      "accuracy of the training set 0.8425\n",
      "accuracy of the test set 0.805\n",
      "Default accuracy of the test set 0.7678571428571429\n"
     ]
    }
   ],
   "source": [
    "KN_preds = KN_clf.predict(test_features)\n",
    "#print(KN_preds)\n",
    "print (\"accuracy of the training set\",KN_clf.score(train_features, train_labels))\n",
    "print(\"accuracy of the test set\" ,KN_clf.score(test_features, test_labels))\n",
    "\n",
    "default_acc = metrics.balanced_accuracy_score(test_labels, KN_preds)\n",
    "print(\"Default accuracy of the test set\",default_acc)"
   ]
  },
  {
   "cell_type": "markdown",
   "id": "7bfac0e7",
   "metadata": {},
   "source": [
    "### Results on test set"
   ]
  },
  {
   "cell_type": "markdown",
   "id": "92fd9a79",
   "metadata": {},
   "source": [
    "### Get descriptors"
   ]
  },
  {
   "cell_type": "code",
   "execution_count": 40,
   "id": "42da01b3",
   "metadata": {},
   "outputs": [],
   "source": [
    "allDescrs = []\n",
    "for _, row in df_test_smiles.iterrows():\n",
    "    mol = row['SMILES']\n",
    "    m = Chem.MolFromSmiles(mol)\n",
    "    descriptors = getMolDescriptors(m)\n",
    "    allDescrs.append(descriptors)\n",
    "    \n",
    "df_test_descr = pd.DataFrame(allDescrs)"
   ]
  },
  {
   "cell_type": "markdown",
   "id": "a9280649",
   "metadata": {},
   "source": [
    "### Clean data"
   ]
  },
  {
   "cell_type": "code",
   "execution_count": 41,
   "id": "575409d6",
   "metadata": {},
   "outputs": [],
   "source": [
    "df_test_nonzero = df_test_descr.drop(columns=bad_descr)\n",
    "df_test_noCorr = df_test_nonzero.drop(columns=to_drop)"
   ]
  },
  {
   "cell_type": "markdown",
   "id": "2c49b4ab",
   "metadata": {},
   "source": [
    "### PCA"
   ]
  },
  {
   "cell_type": "code",
   "execution_count": 59,
   "id": "5b409ac2",
   "metadata": {},
   "outputs": [
    {
     "name": "stdout",
     "output_type": "stream",
     "text": [
      "            0         1         2         3         4         5         6   \\\n",
      "0    -0.027180  0.006207 -0.018870  0.108621 -0.657436 -0.184477  0.077628   \n",
      "1     0.798532 -0.028161 -0.146570 -0.289416 -0.431090  0.414881 -0.311194   \n",
      "2     0.625495  0.081986 -0.452687  0.085414 -0.015140 -0.306461  0.053523   \n",
      "3     0.289732  0.137782 -0.369865  0.233838 -0.043964 -0.406724  0.034127   \n",
      "4     0.229678 -0.276198 -0.363784 -0.525945  0.241544  0.005570  0.449738   \n",
      "...        ...       ...       ...       ...       ...       ...       ...   \n",
      "9995 -0.320934 -0.430322 -0.182991 -0.224949  0.313749 -0.526820  0.259713   \n",
      "9996  1.198756 -0.085709 -0.422866 -0.051044  0.395642 -0.710226  0.311179   \n",
      "9997  0.609103  0.466741  0.083630 -0.418290 -0.034965  0.673064  0.179832   \n",
      "9998 -0.137764 -0.766174  0.282166  0.633671  0.510600  0.282786  0.291628   \n",
      "9999  0.794696  0.483594 -0.456958 -0.214241 -0.337018  0.330462  0.073645   \n",
      "\n",
      "            7         8         9   ...        38        39        40  \\\n",
      "0    -0.068028  0.818765  0.116544  ... -0.014787  0.044060  0.092989   \n",
      "1     0.138227 -0.135551  0.078134  ... -0.091454 -0.043170 -0.041392   \n",
      "2    -0.310673 -0.370570  0.024280  ...  0.081453  0.069727  0.088882   \n",
      "3    -0.405801  0.298402 -0.285316  ...  0.007936 -0.056336 -0.067022   \n",
      "4    -0.175630 -0.323160 -0.159199  ... -0.133912  0.036040 -0.209794   \n",
      "...        ...       ...       ...  ...       ...       ...       ...   \n",
      "9995 -0.479747  0.202242  0.352436  ...  0.054547  0.124322  0.101702   \n",
      "9996 -0.302509  0.898734  0.183082  ...  0.266870  0.103100  0.254409   \n",
      "9997 -0.073583 -0.164428  0.087566  ... -0.025591 -0.119156 -0.013783   \n",
      "9998 -0.018190  0.356666 -0.370816  ...  0.019223 -0.036891 -0.063899   \n",
      "9999 -0.139348  0.505743 -0.001622  ...  0.000947  0.136524  0.172858   \n",
      "\n",
      "            41        42        43        44        45        46        47  \n",
      "0    -0.106998  0.092558 -0.056034 -0.019834 -0.031276  0.040745 -0.046084  \n",
      "1     0.026182 -0.094470 -0.026818  0.032306  0.101582  0.020726 -0.024878  \n",
      "2    -0.130398  0.080901 -0.076276  0.023704 -0.023607 -0.013741  0.047034  \n",
      "3    -0.089689 -0.000356 -0.023843  0.041944 -0.074010 -0.072937  0.067322  \n",
      "4    -0.181256 -0.005273 -0.072003  0.024019 -0.065074 -0.011958  0.149952  \n",
      "...        ...       ...       ...       ...       ...       ...       ...  \n",
      "9995 -0.113568  0.090612  0.046656 -0.041629 -0.083645  0.070957  0.178840  \n",
      "9996  0.163746  0.155590  0.123269  0.007057 -0.119408  0.034752 -0.018630  \n",
      "9997  0.131734 -0.056699  0.103635 -0.046724 -0.036632  0.026447 -0.003708  \n",
      "9998  0.007278 -0.138651  0.199497  0.087774  0.213462  0.048453  0.081813  \n",
      "9999 -0.024963  0.023585 -0.054400  0.010340 -0.073227  0.049937  0.008806  \n",
      "\n",
      "[10000 rows x 48 columns]\n"
     ]
    }
   ],
   "source": [
    "df_test_scaled = scaler.fit_transform(df_test_noCorr)\n",
    "principalComponents = pca.fit_transform(df_test_scaled)\n",
    "principalDf_test = pd.DataFrame(data = principalComponents)\n",
    "print(principalDf_test)"
   ]
  },
  {
   "cell_type": "markdown",
   "id": "75649a2d",
   "metadata": {},
   "source": [
    "### Get predictions"
   ]
  },
  {
   "cell_type": "code",
   "execution_count": 65,
   "id": "5a6ce553",
   "metadata": {},
   "outputs": [],
   "source": [
    "test_features = np.array(principalDf_test)\n",
    "KN_pred_test = KN_reg.predict(test_features)\n",
    "test_labels = get_labels(0.5, KN_pred_test)"
   ]
  },
  {
   "cell_type": "markdown",
   "id": "38c4ca13",
   "metadata": {},
   "source": [
    "### Get 100 best molecules"
   ]
  },
  {
   "cell_type": "code",
   "execution_count": 66,
   "id": "f7e440b6",
   "metadata": {},
   "outputs": [
    {
     "name": "stdout",
     "output_type": "stream",
     "text": [
      "                                                SMILES  predictions\n",
      "1    Cc1ccc(S(=O)(=O)N2CCC(C(=O)OCC(=O)N3CCc4ccccc4...            1\n",
      "3    Cc1cc(C)cc(OCC(=O)O[NH+]=C(N)Cc2ccc([N+](=O)[O...            1\n",
      "4              NNC(=O)C=C1CCN(c2ncc(C(F)(F)F)cc2Cl)CC1            1\n",
      "5    CC1(C)CC(=O)C2=C(C1)OC([NH3+])=C(C#N)[C@@]21C(...            1\n",
      "7    O=C(c1ccc(S(=O)(=O)N2CCCCCC2)cc1)N1CCN(c2ccccn...            1\n",
      "..                                                 ...          ...\n",
      "472             O=C(COC(=O)C1(c2ccccc2F)CCCC1)N1CCOCC1            1\n",
      "473        CN(C)c1ccc(/C=C2\\NC(=S)N(Cc3ccccc3)C2=O)cc1            1\n",
      "474  COc1ccc(N(C)S(=O)(=O)c2ccc(C)cc2)c([N+](=O)[O-...            1\n",
      "482           Cc1ccc(N2C(=O)CS(=O)C(c3ccccc3)C2=O)cc1C            1\n",
      "483  O=C(NCCNC1=NS(=O)(=O)c2ccccc21)c1ccc(S(=O)(=O)...            1\n",
      "\n",
      "[100 rows x 2 columns]\n"
     ]
    },
    {
     "ename": "PermissionError",
     "evalue": "[Errno 13] Permission denied: 'best_smiles.csv'",
     "output_type": "error",
     "traceback": [
      "\u001b[1;31m---------------------------------------------------------------------------\u001b[0m",
      "\u001b[1;31mPermissionError\u001b[0m                           Traceback (most recent call last)",
      "\u001b[1;32m~\\AppData\\Local\\Temp\\ipykernel_21332\\4008102533.py\u001b[0m in \u001b[0;36m<module>\u001b[1;34m\u001b[0m\n\u001b[0;32m      4\u001b[0m \u001b[0mbest_scores\u001b[0m \u001b[1;33m=\u001b[0m \u001b[0mpd\u001b[0m\u001b[1;33m.\u001b[0m\u001b[0mDataFrame\u001b[0m\u001b[1;33m(\u001b[0m\u001b[0md\u001b[0m\u001b[1;33m)\u001b[0m\u001b[1;33m.\u001b[0m\u001b[0mnlargest\u001b[0m\u001b[1;33m(\u001b[0m\u001b[0mto_be_predicted\u001b[0m\u001b[1;33m,\u001b[0m\u001b[0mcolumns\u001b[0m\u001b[1;33m=\u001b[0m\u001b[1;34m'predictions'\u001b[0m\u001b[1;33m)\u001b[0m\u001b[1;33m\u001b[0m\u001b[1;33m\u001b[0m\u001b[0m\n\u001b[0;32m      5\u001b[0m \u001b[0mprint\u001b[0m\u001b[1;33m(\u001b[0m\u001b[0mbest_scores\u001b[0m\u001b[1;33m)\u001b[0m\u001b[1;33m\u001b[0m\u001b[1;33m\u001b[0m\u001b[0m\n\u001b[1;32m----> 6\u001b[1;33m \u001b[0mbest_scores\u001b[0m\u001b[1;33m.\u001b[0m\u001b[0mto_csv\u001b[0m\u001b[1;33m(\u001b[0m\u001b[1;34m'best_smiles.csv'\u001b[0m\u001b[1;33m)\u001b[0m\u001b[1;33m\u001b[0m\u001b[1;33m\u001b[0m\u001b[0m\n\u001b[0m",
      "\u001b[1;32m~\\.conda\\envs\\adv_programming\\lib\\site-packages\\pandas\\core\\generic.py\u001b[0m in \u001b[0;36mto_csv\u001b[1;34m(self, path_or_buf, sep, na_rep, float_format, columns, header, index, index_label, mode, encoding, compression, quoting, quotechar, line_terminator, chunksize, date_format, doublequote, escapechar, decimal, errors, storage_options)\u001b[0m\n\u001b[0;32m   3480\u001b[0m             \u001b[0mdoublequote\u001b[0m\u001b[1;33m=\u001b[0m\u001b[0mdoublequote\u001b[0m\u001b[1;33m,\u001b[0m\u001b[1;33m\u001b[0m\u001b[1;33m\u001b[0m\u001b[0m\n\u001b[0;32m   3481\u001b[0m             \u001b[0mescapechar\u001b[0m\u001b[1;33m=\u001b[0m\u001b[0mescapechar\u001b[0m\u001b[1;33m,\u001b[0m\u001b[1;33m\u001b[0m\u001b[1;33m\u001b[0m\u001b[0m\n\u001b[1;32m-> 3482\u001b[1;33m             \u001b[0mstorage_options\u001b[0m\u001b[1;33m=\u001b[0m\u001b[0mstorage_options\u001b[0m\u001b[1;33m,\u001b[0m\u001b[1;33m\u001b[0m\u001b[1;33m\u001b[0m\u001b[0m\n\u001b[0m\u001b[0;32m   3483\u001b[0m         )\n\u001b[0;32m   3484\u001b[0m \u001b[1;33m\u001b[0m\u001b[0m\n",
      "\u001b[1;32m~\\.conda\\envs\\adv_programming\\lib\\site-packages\\pandas\\io\\formats\\format.py\u001b[0m in \u001b[0;36mto_csv\u001b[1;34m(self, path_or_buf, encoding, sep, columns, index_label, mode, compression, quoting, quotechar, line_terminator, chunksize, date_format, doublequote, escapechar, errors, storage_options)\u001b[0m\n\u001b[0;32m   1103\u001b[0m             \u001b[0mformatter\u001b[0m\u001b[1;33m=\u001b[0m\u001b[0mself\u001b[0m\u001b[1;33m.\u001b[0m\u001b[0mfmt\u001b[0m\u001b[1;33m,\u001b[0m\u001b[1;33m\u001b[0m\u001b[1;33m\u001b[0m\u001b[0m\n\u001b[0;32m   1104\u001b[0m         )\n\u001b[1;32m-> 1105\u001b[1;33m         \u001b[0mcsv_formatter\u001b[0m\u001b[1;33m.\u001b[0m\u001b[0msave\u001b[0m\u001b[1;33m(\u001b[0m\u001b[1;33m)\u001b[0m\u001b[1;33m\u001b[0m\u001b[1;33m\u001b[0m\u001b[0m\n\u001b[0m\u001b[0;32m   1106\u001b[0m \u001b[1;33m\u001b[0m\u001b[0m\n\u001b[0;32m   1107\u001b[0m         \u001b[1;32mif\u001b[0m \u001b[0mcreated_buffer\u001b[0m\u001b[1;33m:\u001b[0m\u001b[1;33m\u001b[0m\u001b[1;33m\u001b[0m\u001b[0m\n",
      "\u001b[1;32m~\\.conda\\envs\\adv_programming\\lib\\site-packages\\pandas\\io\\formats\\csvs.py\u001b[0m in \u001b[0;36msave\u001b[1;34m(self)\u001b[0m\n\u001b[0;32m    241\u001b[0m             \u001b[0merrors\u001b[0m\u001b[1;33m=\u001b[0m\u001b[0mself\u001b[0m\u001b[1;33m.\u001b[0m\u001b[0merrors\u001b[0m\u001b[1;33m,\u001b[0m\u001b[1;33m\u001b[0m\u001b[1;33m\u001b[0m\u001b[0m\n\u001b[0;32m    242\u001b[0m             \u001b[0mcompression\u001b[0m\u001b[1;33m=\u001b[0m\u001b[0mself\u001b[0m\u001b[1;33m.\u001b[0m\u001b[0mcompression\u001b[0m\u001b[1;33m,\u001b[0m\u001b[1;33m\u001b[0m\u001b[1;33m\u001b[0m\u001b[0m\n\u001b[1;32m--> 243\u001b[1;33m             \u001b[0mstorage_options\u001b[0m\u001b[1;33m=\u001b[0m\u001b[0mself\u001b[0m\u001b[1;33m.\u001b[0m\u001b[0mstorage_options\u001b[0m\u001b[1;33m,\u001b[0m\u001b[1;33m\u001b[0m\u001b[1;33m\u001b[0m\u001b[0m\n\u001b[0m\u001b[0;32m    244\u001b[0m         ) as handles:\n\u001b[0;32m    245\u001b[0m \u001b[1;33m\u001b[0m\u001b[0m\n",
      "\u001b[1;32m~\\.conda\\envs\\adv_programming\\lib\\site-packages\\pandas\\io\\common.py\u001b[0m in \u001b[0;36mget_handle\u001b[1;34m(path_or_buf, mode, encoding, compression, memory_map, is_text, errors, storage_options)\u001b[0m\n\u001b[0;32m    705\u001b[0m                 \u001b[0mencoding\u001b[0m\u001b[1;33m=\u001b[0m\u001b[0mioargs\u001b[0m\u001b[1;33m.\u001b[0m\u001b[0mencoding\u001b[0m\u001b[1;33m,\u001b[0m\u001b[1;33m\u001b[0m\u001b[1;33m\u001b[0m\u001b[0m\n\u001b[0;32m    706\u001b[0m                 \u001b[0merrors\u001b[0m\u001b[1;33m=\u001b[0m\u001b[0merrors\u001b[0m\u001b[1;33m,\u001b[0m\u001b[1;33m\u001b[0m\u001b[1;33m\u001b[0m\u001b[0m\n\u001b[1;32m--> 707\u001b[1;33m                 \u001b[0mnewline\u001b[0m\u001b[1;33m=\u001b[0m\u001b[1;34m\"\"\u001b[0m\u001b[1;33m,\u001b[0m\u001b[1;33m\u001b[0m\u001b[1;33m\u001b[0m\u001b[0m\n\u001b[0m\u001b[0;32m    708\u001b[0m             )\n\u001b[0;32m    709\u001b[0m         \u001b[1;32melse\u001b[0m\u001b[1;33m:\u001b[0m\u001b[1;33m\u001b[0m\u001b[1;33m\u001b[0m\u001b[0m\n",
      "\u001b[1;31mPermissionError\u001b[0m: [Errno 13] Permission denied: 'best_smiles.csv'"
     ]
    }
   ],
   "source": [
    "to_be_predicted = 100 #test_labels.sum() #100 in geval van assignment\n",
    "\n",
    "d={'SMILES':df_test_smiles['SMILES'],'predictions':test_labels}\n",
    "best_scores = pd.DataFrame(d).nlargest(to_be_predicted,columns='predictions')\n",
    "print(best_scores)\n",
    "best_scores.to_csv('best_smiles.csv')"
   ]
  },
  {
   "cell_type": "code",
   "execution_count": null,
   "id": "796c44dd",
   "metadata": {},
   "outputs": [],
   "source": []
  }
 ],
 "metadata": {
  "colab": {
   "provenance": []
  },
  "kernelspec": {
   "display_name": "Python 3 (ipykernel)",
   "language": "python",
   "name": "python3"
  },
  "language_info": {
   "codemirror_mode": {
    "name": "ipython",
    "version": 3
   },
   "file_extension": ".py",
   "mimetype": "text/x-python",
   "name": "python",
   "nbconvert_exporter": "python",
   "pygments_lexer": "ipython3",
   "version": "3.7.16"
  }
 },
 "nbformat": 4,
 "nbformat_minor": 5
}
