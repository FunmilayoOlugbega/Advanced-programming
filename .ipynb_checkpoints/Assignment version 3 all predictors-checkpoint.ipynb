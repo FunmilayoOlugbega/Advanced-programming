{
 "cells": [
  {
   "cell_type": "markdown",
   "id": "28ad562a",
   "metadata": {},
   "source": [
    "## Import Packages"
   ]
  },
  {
   "cell_type": "code",
   "execution_count": 1,
   "id": "6f6a2e96",
   "metadata": {
    "colab": {
     "base_uri": "https://localhost:8080/",
     "height": 35
    },
    "id": "6f6a2e96",
    "outputId": "71f2e689-79dc-41b6-8bff-e5faf54ccbe2"
   },
   "outputs": [],
   "source": [
    "import rdkit\n",
    "import pandas as pd\n",
    "import seaborn as sns\n",
    "import numpy as np\n",
    "import matplotlib.pyplot as plt\n",
    "\n",
    "from rdkit import Chem\n",
    "from rdkit.Chem import AllChem, Draw, Descriptors\n",
    "from rdkit.Chem.Draw import IPythonConsole\n",
    "\n",
    "from sklearn.preprocessing import MinMaxScaler\n",
    "from sklearn.decomposition import PCA\n",
    "from sklearn.ensemble import RandomForestRegressor, RandomForestClassifier  \n",
    "from sklearn.neighbors import KNeighborsClassifier\n",
    "from sklearn.model_selection import train_test_split, KFold, cross_val_score, GridSearchCV\n",
    "from sklearn.svm import SVC, LinearSVC\n",
    "from sklearn.feature_selection import VarianceThreshold\n",
    "from sklearn import metrics "
   ]
  },
  {
   "cell_type": "markdown",
   "id": "d4758456",
   "metadata": {},
   "source": [
    "## Read files and create dataframe with Smiles"
   ]
  },
  {
   "cell_type": "code",
   "execution_count": 2,
   "id": "db3dba86",
   "metadata": {
    "colab": {
     "base_uri": "https://localhost:8080/",
     "height": 345
    },
    "id": "db3dba86",
    "outputId": "0dc75e2c-791d-4a82-ff1f-d34f3fbaa0a5"
   },
   "outputs": [
    {
     "name": "stdout",
     "output_type": "stream",
     "text": [
      "                                                 SMILES  ALDH1_inhibition\n",
      "0     COc1ccccc1CC(NC(C)=O)C(=O)NC1CCN(c2nnnn2-c2ccc...                 1\n",
      "1                O=C(CSc1nc2cccnc2n1Cc1ccccc1)NCc1ccco1                 1\n",
      "2     Cc1cccc2cc(C[NH+](CC3CCCO3)C(c3nnnn3Cc3ccco3)C...                 1\n",
      "3                     CCN(CC)c1ccc2c(Cl)c(Br)c(=O)oc2c1                 1\n",
      "4     CS(=O)(=O)N1CCc2cc(-c3csc(NC(=O)Cc4cccs4)n3)ccc21                 1\n",
      "...                                                 ...               ...\n",
      "1995                    C/C(=N\\NC(=S)Nc1ccc(F)cc1)C1CC1                 1\n",
      "1996                     COC(=O)c1c(NC(C)=O)sc2c1CCCCC2                 1\n",
      "1997                            O=C(CCl)NC1CCCc2ccccc21                 1\n",
      "1998    COc1ccc(-n2c(SCC(=O)N3CCCCC3C)nnc2-c2cccnc2)cc1                 1\n",
      "1999  COc1ccc(NC(=O)C2CCC(N3C(=O)C4C5C=CC(C5)C4C3=O)...                 1\n",
      "\n",
      "[2000 rows x 2 columns]\n"
     ]
    }
   ],
   "source": [
    "df_smiles1 = pd.read_csv('tested_molecules-1.csv')\n",
    "df_smiles2 = pd.read_csv('tested_molecules_v2.csv')\n",
    "df_smiles = pd.concat([df_smiles1, df_smiles2], ignore_index=True)\n",
    "print(df_smiles)"
   ]
  },
  {
   "cell_type": "markdown",
   "id": "21b2051d",
   "metadata": {},
   "source": [
    "## Check descriptor values for all Smiles"
   ]
  },
  {
   "cell_type": "code",
   "execution_count": 3,
   "id": "0118c6b1",
   "metadata": {
    "id": "0118c6b1"
   },
   "outputs": [],
   "source": [
    "def getMolDescriptors(mol, missingVal=None):\n",
    "    ''' calculate the full list of descriptors for a molecule\n",
    "    \n",
    "        missingVal is used if the descriptor cannot be calculated\n",
    "    '''\n",
    "    res = {}\n",
    "    for nm,fn in Descriptors._descList:\n",
    "        # some of the descriptor fucntions can throw errors if they fail, catch those here:\n",
    "        try:\n",
    "            val = fn(mol)\n",
    "        except:\n",
    "            # print the error message:\n",
    "            import traceback\n",
    "            traceback.print_exc()\n",
    "            # and set the descriptor value to whatever missingVal is\n",
    "            val = missingVal\n",
    "        res[nm] = val\n",
    "    return res"
   ]
  },
  {
   "cell_type": "code",
   "execution_count": 4,
   "id": "f0350a80",
   "metadata": {},
   "outputs": [
    {
     "data": {
      "text/html": [
       "<div>\n",
       "<style scoped>\n",
       "    .dataframe tbody tr th:only-of-type {\n",
       "        vertical-align: middle;\n",
       "    }\n",
       "\n",
       "    .dataframe tbody tr th {\n",
       "        vertical-align: top;\n",
       "    }\n",
       "\n",
       "    .dataframe thead th {\n",
       "        text-align: right;\n",
       "    }\n",
       "</style>\n",
       "<table border=\"1\" class=\"dataframe\">\n",
       "  <thead>\n",
       "    <tr style=\"text-align: right;\">\n",
       "      <th></th>\n",
       "      <th>MaxAbsEStateIndex</th>\n",
       "      <th>MaxEStateIndex</th>\n",
       "      <th>MinAbsEStateIndex</th>\n",
       "      <th>MinEStateIndex</th>\n",
       "      <th>qed</th>\n",
       "      <th>MolWt</th>\n",
       "      <th>HeavyAtomMolWt</th>\n",
       "      <th>ExactMolWt</th>\n",
       "      <th>NumValenceElectrons</th>\n",
       "      <th>NumRadicalElectrons</th>\n",
       "      <th>...</th>\n",
       "      <th>fr_sulfide</th>\n",
       "      <th>fr_sulfonamd</th>\n",
       "      <th>fr_sulfone</th>\n",
       "      <th>fr_term_acetylene</th>\n",
       "      <th>fr_tetrazole</th>\n",
       "      <th>fr_thiazole</th>\n",
       "      <th>fr_thiocyan</th>\n",
       "      <th>fr_thiophene</th>\n",
       "      <th>fr_unbrch_alkane</th>\n",
       "      <th>fr_urea</th>\n",
       "    </tr>\n",
       "  </thead>\n",
       "  <tbody>\n",
       "    <tr>\n",
       "      <th>0</th>\n",
       "      <td>13.083531</td>\n",
       "      <td>13.083531</td>\n",
       "      <td>0.001173</td>\n",
       "      <td>-0.683140</td>\n",
       "      <td>0.520365</td>\n",
       "      <td>463.542</td>\n",
       "      <td>434.310</td>\n",
       "      <td>463.233188</td>\n",
       "      <td>178</td>\n",
       "      <td>0</td>\n",
       "      <td>...</td>\n",
       "      <td>0</td>\n",
       "      <td>0</td>\n",
       "      <td>0</td>\n",
       "      <td>0</td>\n",
       "      <td>1</td>\n",
       "      <td>0</td>\n",
       "      <td>0</td>\n",
       "      <td>0</td>\n",
       "      <td>0</td>\n",
       "      <td>0</td>\n",
       "    </tr>\n",
       "    <tr>\n",
       "      <th>1</th>\n",
       "      <td>12.170097</td>\n",
       "      <td>12.170097</td>\n",
       "      <td>0.066966</td>\n",
       "      <td>-0.066966</td>\n",
       "      <td>0.498564</td>\n",
       "      <td>378.457</td>\n",
       "      <td>360.313</td>\n",
       "      <td>378.115047</td>\n",
       "      <td>136</td>\n",
       "      <td>0</td>\n",
       "      <td>...</td>\n",
       "      <td>1</td>\n",
       "      <td>0</td>\n",
       "      <td>0</td>\n",
       "      <td>0</td>\n",
       "      <td>0</td>\n",
       "      <td>0</td>\n",
       "      <td>0</td>\n",
       "      <td>0</td>\n",
       "      <td>0</td>\n",
       "      <td>0</td>\n",
       "    </tr>\n",
       "    <tr>\n",
       "      <th>2</th>\n",
       "      <td>10.905837</td>\n",
       "      <td>10.905837</td>\n",
       "      <td>0.016881</td>\n",
       "      <td>-0.016881</td>\n",
       "      <td>0.382043</td>\n",
       "      <td>477.589</td>\n",
       "      <td>444.325</td>\n",
       "      <td>477.260865</td>\n",
       "      <td>184</td>\n",
       "      <td>0</td>\n",
       "      <td>...</td>\n",
       "      <td>0</td>\n",
       "      <td>0</td>\n",
       "      <td>0</td>\n",
       "      <td>0</td>\n",
       "      <td>1</td>\n",
       "      <td>0</td>\n",
       "      <td>0</td>\n",
       "      <td>0</td>\n",
       "      <td>0</td>\n",
       "      <td>0</td>\n",
       "    </tr>\n",
       "    <tr>\n",
       "      <th>3</th>\n",
       "      <td>11.562446</td>\n",
       "      <td>11.562446</td>\n",
       "      <td>0.270607</td>\n",
       "      <td>-0.454447</td>\n",
       "      <td>0.795948</td>\n",
       "      <td>330.609</td>\n",
       "      <td>317.505</td>\n",
       "      <td>328.981818</td>\n",
       "      <td>96</td>\n",
       "      <td>0</td>\n",
       "      <td>...</td>\n",
       "      <td>0</td>\n",
       "      <td>0</td>\n",
       "      <td>0</td>\n",
       "      <td>0</td>\n",
       "      <td>0</td>\n",
       "      <td>0</td>\n",
       "      <td>0</td>\n",
       "      <td>0</td>\n",
       "      <td>0</td>\n",
       "      <td>0</td>\n",
       "    </tr>\n",
       "    <tr>\n",
       "      <th>4</th>\n",
       "      <td>12.108866</td>\n",
       "      <td>12.108866</td>\n",
       "      <td>0.086947</td>\n",
       "      <td>-3.251317</td>\n",
       "      <td>0.687618</td>\n",
       "      <td>419.553</td>\n",
       "      <td>402.417</td>\n",
       "      <td>419.043204</td>\n",
       "      <td>140</td>\n",
       "      <td>0</td>\n",
       "      <td>...</td>\n",
       "      <td>0</td>\n",
       "      <td>1</td>\n",
       "      <td>0</td>\n",
       "      <td>0</td>\n",
       "      <td>0</td>\n",
       "      <td>1</td>\n",
       "      <td>0</td>\n",
       "      <td>1</td>\n",
       "      <td>0</td>\n",
       "      <td>0</td>\n",
       "    </tr>\n",
       "  </tbody>\n",
       "</table>\n",
       "<p>5 rows × 209 columns</p>\n",
       "</div>"
      ],
      "text/plain": [
       "   MaxAbsEStateIndex  MaxEStateIndex  MinAbsEStateIndex  MinEStateIndex   \n",
       "0          13.083531       13.083531           0.001173       -0.683140  \\\n",
       "1          12.170097       12.170097           0.066966       -0.066966   \n",
       "2          10.905837       10.905837           0.016881       -0.016881   \n",
       "3          11.562446       11.562446           0.270607       -0.454447   \n",
       "4          12.108866       12.108866           0.086947       -3.251317   \n",
       "\n",
       "        qed    MolWt  HeavyAtomMolWt  ExactMolWt  NumValenceElectrons   \n",
       "0  0.520365  463.542         434.310  463.233188                  178  \\\n",
       "1  0.498564  378.457         360.313  378.115047                  136   \n",
       "2  0.382043  477.589         444.325  477.260865                  184   \n",
       "3  0.795948  330.609         317.505  328.981818                   96   \n",
       "4  0.687618  419.553         402.417  419.043204                  140   \n",
       "\n",
       "   NumRadicalElectrons  ...  fr_sulfide  fr_sulfonamd  fr_sulfone   \n",
       "0                    0  ...           0             0           0  \\\n",
       "1                    0  ...           1             0           0   \n",
       "2                    0  ...           0             0           0   \n",
       "3                    0  ...           0             0           0   \n",
       "4                    0  ...           0             1           0   \n",
       "\n",
       "   fr_term_acetylene  fr_tetrazole  fr_thiazole  fr_thiocyan  fr_thiophene   \n",
       "0                  0             1            0            0             0  \\\n",
       "1                  0             0            0            0             0   \n",
       "2                  0             1            0            0             0   \n",
       "3                  0             0            0            0             0   \n",
       "4                  0             0            1            0             1   \n",
       "\n",
       "   fr_unbrch_alkane  fr_urea  \n",
       "0                 0        0  \n",
       "1                 0        0  \n",
       "2                 0        0  \n",
       "3                 0        0  \n",
       "4                 0        0  \n",
       "\n",
       "[5 rows x 209 columns]"
      ]
     },
     "execution_count": 4,
     "metadata": {},
     "output_type": "execute_result"
    }
   ],
   "source": [
    "allDescrs = []\n",
    "for _, row in df_smiles.iterrows():\n",
    "    mol = row['SMILES']\n",
    "    m = Chem.MolFromSmiles(mol)\n",
    "    descriptors = getMolDescriptors(m)\n",
    "    allDescrs.append(descriptors)\n",
    "    \n",
    "df_descr = pd.DataFrame(allDescrs)\n",
    "df_descr.head()"
   ]
  },
  {
   "cell_type": "markdown",
   "id": "d47ad61d",
   "metadata": {},
   "source": [
    "## Data cleaning"
   ]
  },
  {
   "cell_type": "markdown",
   "id": "8YFZO9c845Vk",
   "metadata": {
    "id": "8YFZO9c845Vk"
   },
   "source": [
    "Delete the collumns that have only one unique value, so a column where each value is the mean, and variance is 0"
   ]
  },
  {
   "cell_type": "code",
   "execution_count": 6,
   "id": "Tk1p99Fb2HjW",
   "metadata": {
    "id": "Tk1p99Fb2HjW"
   },
   "outputs": [
    {
     "name": "stdout",
     "output_type": "stream",
     "text": [
      "['NumRadicalElectrons', 'SMR_VSA8', 'SlogP_VSA9', 'EState_VSA11', 'fr_HOCCN', 'fr_azide', 'fr_benzodiazepine', 'fr_diazo', 'fr_isocyan', 'fr_isothiocyan', 'fr_phos_acid', 'fr_phos_ester', 'fr_prisulfonamd']\n"
     ]
    }
   ],
   "source": [
    "#Deletes colums with nonsense values (only the same values)\n",
    "bad_descr=[]\n",
    "for i in df_descr.columns:\n",
    "    if df_descr[i].nunique() == 1:\n",
    "        bad_descr.append(i)\n",
    "print(bad_descr)       \n",
    "df_nonzero=df_descr.drop(columns=bad_descr)  "
   ]
  },
  {
   "cell_type": "markdown",
   "id": "VsdFlqFG5IHA",
   "metadata": {
    "id": "VsdFlqFG5IHA"
   },
   "source": [
    "Remove variables so that no variables are left that have a hcorralation with another variable higher than the set threshold for corralation"
   ]
  },
  {
   "cell_type": "code",
   "execution_count": 7,
   "id": "Dml2f4GC2aga",
   "metadata": {
    "id": "Dml2f4GC2aga"
   },
   "outputs": [
    {
     "data": {
      "text/html": [
       "<div>\n",
       "<style scoped>\n",
       "    .dataframe tbody tr th:only-of-type {\n",
       "        vertical-align: middle;\n",
       "    }\n",
       "\n",
       "    .dataframe tbody tr th {\n",
       "        vertical-align: top;\n",
       "    }\n",
       "\n",
       "    .dataframe thead th {\n",
       "        text-align: right;\n",
       "    }\n",
       "</style>\n",
       "<table border=\"1\" class=\"dataframe\">\n",
       "  <thead>\n",
       "    <tr style=\"text-align: right;\">\n",
       "      <th></th>\n",
       "      <th>MaxAbsEStateIndex</th>\n",
       "      <th>MinAbsEStateIndex</th>\n",
       "      <th>MinEStateIndex</th>\n",
       "      <th>qed</th>\n",
       "      <th>MolWt</th>\n",
       "      <th>MaxPartialCharge</th>\n",
       "      <th>MinPartialCharge</th>\n",
       "      <th>FpDensityMorgan1</th>\n",
       "      <th>BCUT2D_MWHI</th>\n",
       "      <th>BCUT2D_MWLOW</th>\n",
       "      <th>...</th>\n",
       "      <th>fr_sulfide</th>\n",
       "      <th>fr_sulfonamd</th>\n",
       "      <th>fr_sulfone</th>\n",
       "      <th>fr_term_acetylene</th>\n",
       "      <th>fr_tetrazole</th>\n",
       "      <th>fr_thiazole</th>\n",
       "      <th>fr_thiocyan</th>\n",
       "      <th>fr_thiophene</th>\n",
       "      <th>fr_unbrch_alkane</th>\n",
       "      <th>fr_urea</th>\n",
       "    </tr>\n",
       "  </thead>\n",
       "  <tbody>\n",
       "    <tr>\n",
       "      <th>0</th>\n",
       "      <td>13.083531</td>\n",
       "      <td>0.001173</td>\n",
       "      <td>-0.683140</td>\n",
       "      <td>0.520365</td>\n",
       "      <td>463.542</td>\n",
       "      <td>0.249868</td>\n",
       "      <td>-0.496477</td>\n",
       "      <td>1.088235</td>\n",
       "      <td>16.465857</td>\n",
       "      <td>10.012387</td>\n",
       "      <td>...</td>\n",
       "      <td>0</td>\n",
       "      <td>0</td>\n",
       "      <td>0</td>\n",
       "      <td>0</td>\n",
       "      <td>1</td>\n",
       "      <td>0</td>\n",
       "      <td>0</td>\n",
       "      <td>0</td>\n",
       "      <td>0</td>\n",
       "      <td>0</td>\n",
       "    </tr>\n",
       "    <tr>\n",
       "      <th>1</th>\n",
       "      <td>12.170097</td>\n",
       "      <td>0.066966</td>\n",
       "      <td>-0.066966</td>\n",
       "      <td>0.498564</td>\n",
       "      <td>378.457</td>\n",
       "      <td>0.230353</td>\n",
       "      <td>-0.467476</td>\n",
       "      <td>1.111111</td>\n",
       "      <td>32.166556</td>\n",
       "      <td>10.202245</td>\n",
       "      <td>...</td>\n",
       "      <td>1</td>\n",
       "      <td>0</td>\n",
       "      <td>0</td>\n",
       "      <td>0</td>\n",
       "      <td>0</td>\n",
       "      <td>0</td>\n",
       "      <td>0</td>\n",
       "      <td>0</td>\n",
       "      <td>0</td>\n",
       "      <td>0</td>\n",
       "    </tr>\n",
       "    <tr>\n",
       "      <th>2</th>\n",
       "      <td>10.905837</td>\n",
       "      <td>0.016881</td>\n",
       "      <td>-0.016881</td>\n",
       "      <td>0.382043</td>\n",
       "      <td>477.589</td>\n",
       "      <td>0.219930</td>\n",
       "      <td>-0.492903</td>\n",
       "      <td>1.228571</td>\n",
       "      <td>16.492058</td>\n",
       "      <td>9.989823</td>\n",
       "      <td>...</td>\n",
       "      <td>0</td>\n",
       "      <td>0</td>\n",
       "      <td>0</td>\n",
       "      <td>0</td>\n",
       "      <td>1</td>\n",
       "      <td>0</td>\n",
       "      <td>0</td>\n",
       "      <td>0</td>\n",
       "      <td>0</td>\n",
       "      <td>0</td>\n",
       "    </tr>\n",
       "    <tr>\n",
       "      <th>3</th>\n",
       "      <td>11.562446</td>\n",
       "      <td>0.270607</td>\n",
       "      <td>-0.454447</td>\n",
       "      <td>0.795948</td>\n",
       "      <td>330.609</td>\n",
       "      <td>0.351723</td>\n",
       "      <td>-0.421732</td>\n",
       "      <td>1.333333</td>\n",
       "      <td>79.918731</td>\n",
       "      <td>10.173315</td>\n",
       "      <td>...</td>\n",
       "      <td>0</td>\n",
       "      <td>0</td>\n",
       "      <td>0</td>\n",
       "      <td>0</td>\n",
       "      <td>0</td>\n",
       "      <td>0</td>\n",
       "      <td>0</td>\n",
       "      <td>0</td>\n",
       "      <td>0</td>\n",
       "      <td>0</td>\n",
       "    </tr>\n",
       "    <tr>\n",
       "      <th>4</th>\n",
       "      <td>12.108866</td>\n",
       "      <td>0.086947</td>\n",
       "      <td>-3.251317</td>\n",
       "      <td>0.687618</td>\n",
       "      <td>419.553</td>\n",
       "      <td>0.231765</td>\n",
       "      <td>-0.301646</td>\n",
       "      <td>1.296296</td>\n",
       "      <td>32.233291</td>\n",
       "      <td>10.071048</td>\n",
       "      <td>...</td>\n",
       "      <td>0</td>\n",
       "      <td>1</td>\n",
       "      <td>0</td>\n",
       "      <td>0</td>\n",
       "      <td>0</td>\n",
       "      <td>1</td>\n",
       "      <td>0</td>\n",
       "      <td>1</td>\n",
       "      <td>0</td>\n",
       "      <td>0</td>\n",
       "    </tr>\n",
       "  </tbody>\n",
       "</table>\n",
       "<p>5 rows × 161 columns</p>\n",
       "</div>"
      ],
      "text/plain": [
       "   MaxAbsEStateIndex  MinAbsEStateIndex  MinEStateIndex       qed    MolWt   \n",
       "0          13.083531           0.001173       -0.683140  0.520365  463.542  \\\n",
       "1          12.170097           0.066966       -0.066966  0.498564  378.457   \n",
       "2          10.905837           0.016881       -0.016881  0.382043  477.589   \n",
       "3          11.562446           0.270607       -0.454447  0.795948  330.609   \n",
       "4          12.108866           0.086947       -3.251317  0.687618  419.553   \n",
       "\n",
       "   MaxPartialCharge  MinPartialCharge  FpDensityMorgan1  BCUT2D_MWHI   \n",
       "0          0.249868         -0.496477          1.088235    16.465857  \\\n",
       "1          0.230353         -0.467476          1.111111    32.166556   \n",
       "2          0.219930         -0.492903          1.228571    16.492058   \n",
       "3          0.351723         -0.421732          1.333333    79.918731   \n",
       "4          0.231765         -0.301646          1.296296    32.233291   \n",
       "\n",
       "   BCUT2D_MWLOW  ...  fr_sulfide  fr_sulfonamd  fr_sulfone  fr_term_acetylene   \n",
       "0     10.012387  ...           0             0           0                  0  \\\n",
       "1     10.202245  ...           1             0           0                  0   \n",
       "2      9.989823  ...           0             0           0                  0   \n",
       "3     10.173315  ...           0             0           0                  0   \n",
       "4     10.071048  ...           0             1           0                  0   \n",
       "\n",
       "   fr_tetrazole  fr_thiazole  fr_thiocyan  fr_thiophene  fr_unbrch_alkane   \n",
       "0             1            0            0             0                 0  \\\n",
       "1             0            0            0             0                 0   \n",
       "2             1            0            0             0                 0   \n",
       "3             0            0            0             0                 0   \n",
       "4             0            1            0             1                 0   \n",
       "\n",
       "   fr_urea  \n",
       "0        0  \n",
       "1        0  \n",
       "2        0  \n",
       "3        0  \n",
       "4        0  \n",
       "\n",
       "[5 rows x 161 columns]"
      ]
     },
     "execution_count": 7,
     "metadata": {},
     "output_type": "execute_result"
    }
   ],
   "source": [
    "corrThreshold = 0.90\n",
    "\n",
    "\n",
    "correlation_mat = df_nonzero.corr()\n",
    "upper_tri = correlation_mat.where(np.triu(np.ones(correlation_mat.shape),k=1).astype(bool)) \n",
    "to_drop = [column for column in upper_tri.columns if any(upper_tri[column].abs() > corrThreshold)] \n",
    "df_noCorr = df_nonzero.drop(columns=to_drop)\n",
    "\n",
    "\n",
    "\n",
    "df_noCorr.head()"
   ]
  },
  {
   "cell_type": "markdown",
   "id": "8cf2d25f",
   "metadata": {},
   "source": [
    "## Scale data & perform PCA"
   ]
  },
  {
   "cell_type": "code",
   "execution_count": 8,
   "id": "5458a4ab",
   "metadata": {
    "id": "5458a4ab"
   },
   "outputs": [],
   "source": [
    "scaler = MinMaxScaler()\n",
    "df_scaled = scaler.fit_transform(df_noCorr)\n",
    "\n",
    "pca = PCA(n_components=150)\n",
    "principalComponents = pca.fit_transform(df_scaled)\n",
    "principalDf = pd.DataFrame(data = principalComponents)\n",
    "exp_var_pca = pca.explained_variance_ratio_\n",
    "cum_sum_eigenvalues = np.cumsum(exp_var_pca)"
   ]
  },
  {
   "cell_type": "code",
   "execution_count": 8,
   "id": "ae81f9c2",
   "metadata": {
    "id": "ae81f9c2"
   },
   "outputs": [
    {
     "data": {
      "image/png": "[encoded data removed]",
      "text/plain": [
       "<Figure size 640x480 with 1 Axes>"
      ]
     },
     "metadata": {},
     "output_type": "display_data"
    },
    {
     "data": {
      "image/png": "[encoded data removed]",
      "text/plain": [
       "<Figure size 640x480 with 1 Axes>"
      ]
     },
     "metadata": {},
     "output_type": "display_data"
    }
   ],
   "source": [
    "plt.bar(range(1,len(cum_sum_eigenvalues)+1), cum_sum_eigenvalues, align='center',label='Cumulative explained variance');\n",
    "plt.ylabel('Cumulative variance ratio')\n",
    "plt.xlabel('Number of Components')\n",
    "plt.legend(loc='best')\n",
    "plt.tight_layout()\n",
    "plt.show()\n",
    "\n",
    "#scree plot om aantal PCA te bepalen\n",
    "plt.bar(range(1,len(exp_var_pca)+1), exp_var_pca, alpha=0.5, align='center', label='Individual explained variance');\n",
    "plt.ylabel('Explained variance ratio')\n",
    "plt.xlabel('Number of Components')\n",
    "plt.legend(loc='best')\n",
    "plt.show()"
   ]
  },
  {
   "cell_type": "code",
   "execution_count": 9,
   "id": "o8WO78DpNnLc",
   "metadata": {
    "id": "o8WO78DpNnLc"
   },
   "outputs": [
    {
     "data": {
      "text/html": [
       "<style>#sk-container-id-1 {color: black;background-color: white;}#sk-container-id-1 pre{padding: 0;}#sk-container-id-1 div.sk-toggleable {background-color: white;}#sk-container-id-1 label.sk-toggleable__label {cursor: pointer;display: block;width: 100%;margin-bottom: 0;padding: 0.3em;box-sizing: border-box;text-align: center;}#sk-container-id-1 label.sk-toggleable__label-arrow:before {content: \"▸\";float: left;margin-right: 0.25em;color: #696969;}#sk-container-id-1 label.sk-toggleable__label-arrow:hover:before {color: black;}#sk-container-id-1 div.sk-estimator:hover label.sk-toggleable__label-arrow:before {color: black;}#sk-container-id-1 div.sk-toggleable__content {max-height: 0;max-width: 0;overflow: hidden;text-align: left;background-color: #f0f8ff;}#sk-container-id-1 div.sk-toggleable__content pre {margin: 0.2em;color: black;border-radius: 0.25em;background-color: #f0f8ff;}#sk-container-id-1 input.sk-toggleable__control:checked~div.sk-toggleable__content {max-height: 200px;max-width: 100%;overflow: auto;}#sk-container-id-1 input.sk-toggleable__control:checked~label.sk-toggleable__label-arrow:before {content: \"▾\";}#sk-container-id-1 div.sk-estimator input.sk-toggleable__control:checked~label.sk-toggleable__label {background-color: #d4ebff;}#sk-container-id-1 div.sk-label input.sk-toggleable__control:checked~label.sk-toggleable__label {background-color: #d4ebff;}#sk-container-id-1 input.sk-hidden--visually {border: 0;clip: rect(1px 1px 1px 1px);clip: rect(1px, 1px, 1px, 1px);height: 1px;margin: -1px;overflow: hidden;padding: 0;position: absolute;width: 1px;}#sk-container-id-1 div.sk-estimator {font-family: monospace;background-color: #f0f8ff;border: 1px dotted black;border-radius: 0.25em;box-sizing: border-box;margin-bottom: 0.5em;}#sk-container-id-1 div.sk-estimator:hover {background-color: #d4ebff;}#sk-container-id-1 div.sk-parallel-item::after {content: \"\";width: 100%;border-bottom: 1px solid gray;flex-grow: 1;}#sk-container-id-1 div.sk-label:hover label.sk-toggleable__label {background-color: #d4ebff;}#sk-container-id-1 div.sk-serial::before {content: \"\";position: absolute;border-left: 1px solid gray;box-sizing: border-box;top: 0;bottom: 0;left: 50%;z-index: 0;}#sk-container-id-1 div.sk-serial {display: flex;flex-direction: column;align-items: center;background-color: white;padding-right: 0.2em;padding-left: 0.2em;position: relative;}#sk-container-id-1 div.sk-item {position: relative;z-index: 1;}#sk-container-id-1 div.sk-parallel {display: flex;align-items: stretch;justify-content: center;background-color: white;position: relative;}#sk-container-id-1 div.sk-item::before, #sk-container-id-1 div.sk-parallel-item::before {content: \"\";position: absolute;border-left: 1px solid gray;box-sizing: border-box;top: 0;bottom: 0;left: 50%;z-index: -1;}#sk-container-id-1 div.sk-parallel-item {display: flex;flex-direction: column;z-index: 1;position: relative;background-color: white;}#sk-container-id-1 div.sk-parallel-item:first-child::after {align-self: flex-end;width: 50%;}#sk-container-id-1 div.sk-parallel-item:last-child::after {align-self: flex-start;width: 50%;}#sk-container-id-1 div.sk-parallel-item:only-child::after {width: 0;}#sk-container-id-1 div.sk-dashed-wrapped {border: 1px dashed gray;margin: 0 0.4em 0.5em 0.4em;box-sizing: border-box;padding-bottom: 0.4em;background-color: white;}#sk-container-id-1 div.sk-label label {font-family: monospace;font-weight: bold;display: inline-block;line-height: 1.2em;}#sk-container-id-1 div.sk-label-container {text-align: center;}#sk-container-id-1 div.sk-container {/* jupyter's `normalize.less` sets `[hidden] { display: none; }` but bootstrap.min.css set `[hidden] { display: none !important; }` so we also need the `!important` here to be able to override the default hidden behavior on the sphinx rendered scikit-learn.org. See: https://github.com/scikit-learn/scikit-learn/issues/21755 */display: inline-block !important;position: relative;}#sk-container-id-1 div.sk-text-repr-fallback {display: none;}</style><div id=\"sk-container-id-1\" class=\"sk-top-container\"><div class=\"sk-text-repr-fallback\"><pre>VarianceThreshold(threshold=0.15999999999999998)</pre><b>In a Jupyter environment, please rerun this cell to show the HTML representation or trust the notebook. <br />On GitHub, the HTML representation is unable to render, please try loading this page with nbviewer.org.</b></div><div class=\"sk-container\" hidden><div class=\"sk-item\"><div class=\"sk-estimator sk-toggleable\"><input class=\"sk-toggleable__control sk-hidden--visually\" id=\"sk-estimator-id-1\" type=\"checkbox\" checked><label for=\"sk-estimator-id-1\" class=\"sk-toggleable__label sk-toggleable__label-arrow\">VarianceThreshold</label><div class=\"sk-toggleable__content\"><pre>VarianceThreshold(threshold=0.15999999999999998)</pre></div></div></div></div></div>"
      ],
      "text/plain": [
       "VarianceThreshold(threshold=0.15999999999999998)"
      ]
     },
     "execution_count": 9,
     "metadata": {},
     "output_type": "execute_result"
    }
   ],
   "source": [
    "#verwijderen van features die lage variance hebben\n",
    "#x is hierbij je matrix met alle features.\n",
    "\n",
    "selection = VarianceThreshold(threshold=(.8*(1-.8)))\n",
    "df_noCorr = selection.fit_transform(df_noCorr)\n",
    "selection"
   ]
  },
  {
   "cell_type": "code",
   "execution_count": 14,
   "id": "475a9849",
   "metadata": {},
   "outputs": [
    {
     "data": {
      "text/html": [
       "<div>\n",
       "<style scoped>\n",
       "    .dataframe tbody tr th:only-of-type {\n",
       "        vertical-align: middle;\n",
       "    }\n",
       "\n",
       "    .dataframe tbody tr th {\n",
       "        vertical-align: top;\n",
       "    }\n",
       "\n",
       "    .dataframe thead th {\n",
       "        text-align: right;\n",
       "    }\n",
       "</style>\n",
       "<table border=\"1\" class=\"dataframe\">\n",
       "  <thead>\n",
       "    <tr style=\"text-align: right;\">\n",
       "      <th></th>\n",
       "      <th>0</th>\n",
       "      <th>1</th>\n",
       "      <th>2</th>\n",
       "      <th>3</th>\n",
       "      <th>4</th>\n",
       "      <th>5</th>\n",
       "      <th>6</th>\n",
       "      <th>7</th>\n",
       "      <th>8</th>\n",
       "      <th>9</th>\n",
       "      <th>...</th>\n",
       "      <th>140</th>\n",
       "      <th>141</th>\n",
       "      <th>142</th>\n",
       "      <th>143</th>\n",
       "      <th>144</th>\n",
       "      <th>145</th>\n",
       "      <th>146</th>\n",
       "      <th>147</th>\n",
       "      <th>148</th>\n",
       "      <th>149</th>\n",
       "    </tr>\n",
       "  </thead>\n",
       "  <tbody>\n",
       "    <tr>\n",
       "      <th>0</th>\n",
       "      <td>0.809517</td>\n",
       "      <td>0.921461</td>\n",
       "      <td>-0.489400</td>\n",
       "      <td>0.292709</td>\n",
       "      <td>0.448738</td>\n",
       "      <td>-0.081541</td>\n",
       "      <td>0.094377</td>\n",
       "      <td>0.106962</td>\n",
       "      <td>-0.111215</td>\n",
       "      <td>0.070519</td>\n",
       "      <td>...</td>\n",
       "      <td>0.000390</td>\n",
       "      <td>-0.014888</td>\n",
       "      <td>-0.019613</td>\n",
       "      <td>-0.003567</td>\n",
       "      <td>0.005145</td>\n",
       "      <td>-0.002765</td>\n",
       "      <td>0.008190</td>\n",
       "      <td>0.003263</td>\n",
       "      <td>-0.002547</td>\n",
       "      <td>-0.011560</td>\n",
       "    </tr>\n",
       "    <tr>\n",
       "      <th>1</th>\n",
       "      <td>-0.157487</td>\n",
       "      <td>0.817888</td>\n",
       "      <td>-0.090765</td>\n",
       "      <td>0.457534</td>\n",
       "      <td>-0.090573</td>\n",
       "      <td>0.145824</td>\n",
       "      <td>-0.135753</td>\n",
       "      <td>-0.008894</td>\n",
       "      <td>-0.182496</td>\n",
       "      <td>0.113882</td>\n",
       "      <td>...</td>\n",
       "      <td>0.002919</td>\n",
       "      <td>-0.006268</td>\n",
       "      <td>0.001770</td>\n",
       "      <td>0.004327</td>\n",
       "      <td>0.000159</td>\n",
       "      <td>-0.004631</td>\n",
       "      <td>0.005712</td>\n",
       "      <td>0.000499</td>\n",
       "      <td>-0.004041</td>\n",
       "      <td>0.000649</td>\n",
       "    </tr>\n",
       "    <tr>\n",
       "      <th>2</th>\n",
       "      <td>0.541101</td>\n",
       "      <td>0.907114</td>\n",
       "      <td>-0.637914</td>\n",
       "      <td>0.921727</td>\n",
       "      <td>0.121477</td>\n",
       "      <td>-0.544249</td>\n",
       "      <td>0.061226</td>\n",
       "      <td>0.077486</td>\n",
       "      <td>-0.425661</td>\n",
       "      <td>0.288546</td>\n",
       "      <td>...</td>\n",
       "      <td>0.002932</td>\n",
       "      <td>0.004212</td>\n",
       "      <td>-0.008670</td>\n",
       "      <td>-0.002777</td>\n",
       "      <td>0.003196</td>\n",
       "      <td>-0.007872</td>\n",
       "      <td>0.003872</td>\n",
       "      <td>-0.002255</td>\n",
       "      <td>-0.001859</td>\n",
       "      <td>0.004628</td>\n",
       "    </tr>\n",
       "    <tr>\n",
       "      <th>3</th>\n",
       "      <td>-0.260104</td>\n",
       "      <td>-0.436326</td>\n",
       "      <td>0.215931</td>\n",
       "      <td>-0.024148</td>\n",
       "      <td>-0.151964</td>\n",
       "      <td>0.396031</td>\n",
       "      <td>0.330967</td>\n",
       "      <td>-0.225872</td>\n",
       "      <td>0.051291</td>\n",
       "      <td>-0.287740</td>\n",
       "      <td>...</td>\n",
       "      <td>-0.014285</td>\n",
       "      <td>-0.002878</td>\n",
       "      <td>-0.001448</td>\n",
       "      <td>0.003551</td>\n",
       "      <td>-0.008865</td>\n",
       "      <td>-0.013552</td>\n",
       "      <td>-0.016158</td>\n",
       "      <td>-0.006918</td>\n",
       "      <td>-0.002991</td>\n",
       "      <td>-0.002218</td>\n",
       "    </tr>\n",
       "    <tr>\n",
       "      <th>4</th>\n",
       "      <td>0.385296</td>\n",
       "      <td>0.500598</td>\n",
       "      <td>0.335246</td>\n",
       "      <td>0.304721</td>\n",
       "      <td>-0.160512</td>\n",
       "      <td>0.416219</td>\n",
       "      <td>0.421217</td>\n",
       "      <td>-0.098116</td>\n",
       "      <td>-0.360286</td>\n",
       "      <td>0.005420</td>\n",
       "      <td>...</td>\n",
       "      <td>0.014645</td>\n",
       "      <td>0.012815</td>\n",
       "      <td>-0.023741</td>\n",
       "      <td>-0.011500</td>\n",
       "      <td>0.009003</td>\n",
       "      <td>0.000592</td>\n",
       "      <td>0.000430</td>\n",
       "      <td>0.002693</td>\n",
       "      <td>-0.005433</td>\n",
       "      <td>0.002112</td>\n",
       "    </tr>\n",
       "    <tr>\n",
       "      <th>...</th>\n",
       "      <td>...</td>\n",
       "      <td>...</td>\n",
       "      <td>...</td>\n",
       "      <td>...</td>\n",
       "      <td>...</td>\n",
       "      <td>...</td>\n",
       "      <td>...</td>\n",
       "      <td>...</td>\n",
       "      <td>...</td>\n",
       "      <td>...</td>\n",
       "      <td>...</td>\n",
       "      <td>...</td>\n",
       "      <td>...</td>\n",
       "      <td>...</td>\n",
       "      <td>...</td>\n",
       "      <td>...</td>\n",
       "      <td>...</td>\n",
       "      <td>...</td>\n",
       "      <td>...</td>\n",
       "      <td>...</td>\n",
       "      <td>...</td>\n",
       "    </tr>\n",
       "    <tr>\n",
       "      <th>1995</th>\n",
       "      <td>-0.104673</td>\n",
       "      <td>-0.633712</td>\n",
       "      <td>0.083701</td>\n",
       "      <td>-0.104989</td>\n",
       "      <td>0.083351</td>\n",
       "      <td>0.350407</td>\n",
       "      <td>-0.141449</td>\n",
       "      <td>0.152759</td>\n",
       "      <td>-0.069080</td>\n",
       "      <td>0.013158</td>\n",
       "      <td>...</td>\n",
       "      <td>0.012481</td>\n",
       "      <td>0.004349</td>\n",
       "      <td>0.021107</td>\n",
       "      <td>-0.009994</td>\n",
       "      <td>-0.001476</td>\n",
       "      <td>0.020358</td>\n",
       "      <td>-0.001023</td>\n",
       "      <td>-0.000102</td>\n",
       "      <td>0.004396</td>\n",
       "      <td>0.005848</td>\n",
       "    </tr>\n",
       "    <tr>\n",
       "      <th>1996</th>\n",
       "      <td>0.386967</td>\n",
       "      <td>-0.732915</td>\n",
       "      <td>0.153395</td>\n",
       "      <td>0.237307</td>\n",
       "      <td>-0.199265</td>\n",
       "      <td>0.020132</td>\n",
       "      <td>-0.329638</td>\n",
       "      <td>-0.173335</td>\n",
       "      <td>-0.314659</td>\n",
       "      <td>-0.050656</td>\n",
       "      <td>...</td>\n",
       "      <td>-0.016464</td>\n",
       "      <td>-0.003398</td>\n",
       "      <td>-0.013637</td>\n",
       "      <td>0.004828</td>\n",
       "      <td>-0.009258</td>\n",
       "      <td>-0.000955</td>\n",
       "      <td>-0.001222</td>\n",
       "      <td>0.002506</td>\n",
       "      <td>-0.004584</td>\n",
       "      <td>-0.001958</td>\n",
       "    </tr>\n",
       "    <tr>\n",
       "      <th>1997</th>\n",
       "      <td>-0.108952</td>\n",
       "      <td>-0.867157</td>\n",
       "      <td>-0.134375</td>\n",
       "      <td>-0.110511</td>\n",
       "      <td>-0.278264</td>\n",
       "      <td>0.150603</td>\n",
       "      <td>-0.113381</td>\n",
       "      <td>0.036652</td>\n",
       "      <td>-0.211240</td>\n",
       "      <td>-0.056020</td>\n",
       "      <td>...</td>\n",
       "      <td>-0.004450</td>\n",
       "      <td>-0.005237</td>\n",
       "      <td>-0.003654</td>\n",
       "      <td>0.008544</td>\n",
       "      <td>-0.007741</td>\n",
       "      <td>0.007349</td>\n",
       "      <td>0.003562</td>\n",
       "      <td>0.000272</td>\n",
       "      <td>0.003921</td>\n",
       "      <td>-0.008389</td>\n",
       "    </tr>\n",
       "    <tr>\n",
       "      <th>1998</th>\n",
       "      <td>0.267058</td>\n",
       "      <td>0.699473</td>\n",
       "      <td>-0.356152</td>\n",
       "      <td>0.715609</td>\n",
       "      <td>-0.185168</td>\n",
       "      <td>-0.335092</td>\n",
       "      <td>0.170858</td>\n",
       "      <td>-0.478773</td>\n",
       "      <td>0.302104</td>\n",
       "      <td>-0.058518</td>\n",
       "      <td>...</td>\n",
       "      <td>0.005329</td>\n",
       "      <td>0.000739</td>\n",
       "      <td>0.001673</td>\n",
       "      <td>0.005672</td>\n",
       "      <td>0.002297</td>\n",
       "      <td>0.006266</td>\n",
       "      <td>-0.001675</td>\n",
       "      <td>0.002222</td>\n",
       "      <td>-0.005372</td>\n",
       "      <td>0.000830</td>\n",
       "    </tr>\n",
       "    <tr>\n",
       "      <th>1999</th>\n",
       "      <td>1.206394</td>\n",
       "      <td>-0.098701</td>\n",
       "      <td>-0.593570</td>\n",
       "      <td>0.118925</td>\n",
       "      <td>-0.387079</td>\n",
       "      <td>0.011231</td>\n",
       "      <td>-0.418958</td>\n",
       "      <td>-0.081875</td>\n",
       "      <td>-0.140017</td>\n",
       "      <td>-0.685264</td>\n",
       "      <td>...</td>\n",
       "      <td>-0.002934</td>\n",
       "      <td>-0.000016</td>\n",
       "      <td>-0.008843</td>\n",
       "      <td>0.005964</td>\n",
       "      <td>0.005569</td>\n",
       "      <td>0.009546</td>\n",
       "      <td>-0.001523</td>\n",
       "      <td>0.003046</td>\n",
       "      <td>0.006913</td>\n",
       "      <td>-0.003810</td>\n",
       "    </tr>\n",
       "  </tbody>\n",
       "</table>\n",
       "<p>2000 rows × 150 columns</p>\n",
       "</div>"
      ],
      "text/plain": [
       "           0         1         2         3         4         5         6     \n",
       "0     0.809517  0.921461 -0.489400  0.292709  0.448738 -0.081541  0.094377  \\\n",
       "1    -0.157487  0.817888 -0.090765  0.457534 -0.090573  0.145824 -0.135753   \n",
       "2     0.541101  0.907114 -0.637914  0.921727  0.121477 -0.544249  0.061226   \n",
       "3    -0.260104 -0.436326  0.215931 -0.024148 -0.151964  0.396031  0.330967   \n",
       "4     0.385296  0.500598  0.335246  0.304721 -0.160512  0.416219  0.421217   \n",
       "...        ...       ...       ...       ...       ...       ...       ...   \n",
       "1995 -0.104673 -0.633712  0.083701 -0.104989  0.083351  0.350407 -0.141449   \n",
       "1996  0.386967 -0.732915  0.153395  0.237307 -0.199265  0.020132 -0.329638   \n",
       "1997 -0.108952 -0.867157 -0.134375 -0.110511 -0.278264  0.150603 -0.113381   \n",
       "1998  0.267058  0.699473 -0.356152  0.715609 -0.185168 -0.335092  0.170858   \n",
       "1999  1.206394 -0.098701 -0.593570  0.118925 -0.387079  0.011231 -0.418958   \n",
       "\n",
       "           7         8         9    ...       140       141       142   \n",
       "0     0.106962 -0.111215  0.070519  ...  0.000390 -0.014888 -0.019613  \\\n",
       "1    -0.008894 -0.182496  0.113882  ...  0.002919 -0.006268  0.001770   \n",
       "2     0.077486 -0.425661  0.288546  ...  0.002932  0.004212 -0.008670   \n",
       "3    -0.225872  0.051291 -0.287740  ... -0.014285 -0.002878 -0.001448   \n",
       "4    -0.098116 -0.360286  0.005420  ...  0.014645  0.012815 -0.023741   \n",
       "...        ...       ...       ...  ...       ...       ...       ...   \n",
       "1995  0.152759 -0.069080  0.013158  ...  0.012481  0.004349  0.021107   \n",
       "1996 -0.173335 -0.314659 -0.050656  ... -0.016464 -0.003398 -0.013637   \n",
       "1997  0.036652 -0.211240 -0.056020  ... -0.004450 -0.005237 -0.003654   \n",
       "1998 -0.478773  0.302104 -0.058518  ...  0.005329  0.000739  0.001673   \n",
       "1999 -0.081875 -0.140017 -0.685264  ... -0.002934 -0.000016 -0.008843   \n",
       "\n",
       "           143       144       145       146       147       148       149  \n",
       "0    -0.003567  0.005145 -0.002765  0.008190  0.003263 -0.002547 -0.011560  \n",
       "1     0.004327  0.000159 -0.004631  0.005712  0.000499 -0.004041  0.000649  \n",
       "2    -0.002777  0.003196 -0.007872  0.003872 -0.002255 -0.001859  0.004628  \n",
       "3     0.003551 -0.008865 -0.013552 -0.016158 -0.006918 -0.002991 -0.002218  \n",
       "4    -0.011500  0.009003  0.000592  0.000430  0.002693 -0.005433  0.002112  \n",
       "...        ...       ...       ...       ...       ...       ...       ...  \n",
       "1995 -0.009994 -0.001476  0.020358 -0.001023 -0.000102  0.004396  0.005848  \n",
       "1996  0.004828 -0.009258 -0.000955 -0.001222  0.002506 -0.004584 -0.001958  \n",
       "1997  0.008544 -0.007741  0.007349  0.003562  0.000272  0.003921 -0.008389  \n",
       "1998  0.005672  0.002297  0.006266 -0.001675  0.002222 -0.005372  0.000830  \n",
       "1999  0.005964  0.005569  0.009546 -0.001523  0.003046  0.006913 -0.003810  \n",
       "\n",
       "[2000 rows x 150 columns]"
      ]
     },
     "execution_count": 14,
     "metadata": {},
     "output_type": "execute_result"
    }
   ],
   "source": [
    "principalDf"
   ]
  },
  {
   "cell_type": "markdown",
   "id": "c60a90f2",
   "metadata": {},
   "source": [
    "## Split data for testing"
   ]
  },
  {
   "cell_type": "code",
   "execution_count": 16,
   "id": "cf1e8750",
   "metadata": {},
   "outputs": [],
   "source": [
    "features = np.array(principalDf)\n",
    "feature_names = list(principalDf.columns)\n",
    "target = np.array(df_smiles['ALDH1_inhibition'])"
   ]
  },
  {
   "cell_type": "markdown",
   "id": "c48f1a04",
   "metadata": {},
   "source": [
    "### Training & test set"
   ]
  },
  {
   "cell_type": "code",
   "execution_count": 17,
   "id": "c5d14208",
   "metadata": {},
   "outputs": [
    {
     "name": "stdout",
     "output_type": "stream",
     "text": [
      "Training Features Shape: (1600, 150)\n",
      "Training Labels Shape: (1600,)\n",
      "Testing Features Shape: (400, 150)\n",
      "Testing Labels Shape: (400,)\n"
     ]
    }
   ],
   "source": [
    "# Split the data into training and testing sets\n",
    "train_features, test_features, train_labels, test_labels = train_test_split(features, target, test_size = 0.20, random_state = 42)\n",
    "\n",
    "#check the shapes\n",
    "print('Training Features Shape:', train_features.shape)\n",
    "print('Training Labels Shape:', train_labels.shape)\n",
    "print('Testing Features Shape:', test_features.shape)\n",
    "print('Testing Labels Shape:', test_labels.shape)"
   ]
  },
  {
   "cell_type": "markdown",
   "id": "6656e0f8",
   "metadata": {},
   "source": [
    "## Predictor models"
   ]
  },
  {
   "cell_type": "markdown",
   "id": "8ffe992a",
   "metadata": {},
   "source": [
    "### Random Forest Regressor Model"
   ]
  },
  {
   "cell_type": "code",
   "execution_count": 18,
   "id": "307ddfae",
   "metadata": {},
   "outputs": [],
   "source": [
    "# Instantiate model with 1000 decision trees\n",
    "rf = RandomForestRegressor(n_estimators = 100, random_state = 42)\n",
    "# Train the model on training data\n",
    "rf.fit(train_features, train_labels);"
   ]
  },
  {
   "cell_type": "markdown",
   "id": "f2728caa",
   "metadata": {},
   "source": [
    "Predictions"
   ]
  },
  {
   "cell_type": "code",
   "execution_count": 21,
   "id": "7e096288",
   "metadata": {},
   "outputs": [
    {
     "data": {
      "text/plain": [
       "array([0.56, 0.05, 0.  , 0.46, 0.1 , 0.08, 0.41, 0.61, 0.24, 0.05, 0.61,\n",
       "       0.  , 0.01, 0.61, 0.61, 0.43, 0.  , 0.19, 0.  , 0.52, 0.29, 0.18,\n",
       "       0.53, 0.  , 0.74, 0.51, 0.  , 0.46, 0.35, 0.49, 0.04, 0.44, 0.28,\n",
       "       0.66, 0.  , 0.21, 0.03, 0.  , 0.  , 0.07, 0.35, 0.38, 0.52, 0.38,\n",
       "       0.02, 0.43, 0.17, 0.43, 0.72, 0.07, 0.  , 0.32, 0.01, 0.66, 0.5 ,\n",
       "       0.73, 0.  , 0.44, 0.  , 0.42, 0.06, 0.42, 0.  , 0.  , 0.83, 0.53,\n",
       "       0.43, 0.01, 0.18, 0.38, 0.06, 0.42, 0.01, 0.  , 0.38, 0.42, 0.03,\n",
       "       0.48, 0.31, 0.61, 0.49, 0.38, 0.06, 0.33, 0.03, 0.  , 0.54, 0.44,\n",
       "       0.53, 0.  , 0.  , 0.71, 0.5 , 0.46, 0.59, 0.89, 0.42, 0.02, 0.  ,\n",
       "       0.55, 0.51, 0.4 , 0.43, 0.  , 0.24, 0.41, 0.45, 0.17, 0.58, 0.16,\n",
       "       0.34, 0.  , 0.04, 0.55, 0.31, 0.21, 0.12, 0.33, 0.44, 0.  , 0.4 ,\n",
       "       0.23, 0.02, 0.58, 0.5 , 0.  , 0.11, 0.53, 0.02, 0.57, 0.47, 0.66,\n",
       "       0.16, 0.5 , 0.5 , 0.  , 0.42, 0.53, 0.03, 0.06, 0.02, 0.59, 0.  ,\n",
       "       0.39, 0.  , 0.45, 0.49, 0.23, 0.56, 0.58, 0.01, 0.57, 0.62, 0.1 ,\n",
       "       0.49, 0.04, 0.44, 0.15, 0.57, 0.03, 0.46, 0.15, 0.52, 0.27, 0.43,\n",
       "       0.  , 0.57, 0.01, 0.48, 0.65, 0.  , 0.4 , 0.5 , 0.61, 0.47, 0.16,\n",
       "       0.46, 0.05, 0.01, 0.09, 0.17, 0.41, 0.25, 0.  , 0.41, 0.04, 0.43,\n",
       "       0.1 , 0.  , 0.  , 0.14, 0.49, 0.2 , 0.54, 0.18, 0.49, 0.06, 0.48,\n",
       "       0.28, 0.07, 0.59, 0.13, 0.5 , 0.52, 0.51, 0.8 , 0.  , 0.  , 0.  ,\n",
       "       0.1 , 0.6 , 0.31, 0.48, 0.45, 0.72, 0.68, 0.04, 0.51, 0.41, 0.1 ,\n",
       "       0.41, 0.29, 0.29, 0.03, 0.18, 0.55, 0.42, 0.49, 0.14, 0.5 , 0.63,\n",
       "       0.58, 0.16, 0.  , 0.67, 0.36, 0.  , 0.34, 0.14, 0.41, 0.39, 0.1 ,\n",
       "       0.46, 0.39, 0.  , 0.49, 0.46, 0.42, 0.46, 0.01, 0.51, 0.29, 0.  ,\n",
       "       0.56, 0.  , 0.  , 0.04, 0.67, 0.71, 0.  , 0.71, 0.48, 0.48, 0.  ,\n",
       "       0.03, 0.28, 0.41, 0.55, 0.53, 0.  , 0.  , 0.6 , 0.5 , 0.  , 0.49,\n",
       "       0.58, 0.66, 0.28, 0.  , 0.35, 0.5 , 0.  , 0.36, 0.18, 0.02, 0.66,\n",
       "       0.46, 0.55, 0.44, 0.41, 0.07, 0.03, 0.19, 0.  , 0.53, 0.1 , 0.55,\n",
       "       0.48, 0.47, 0.28, 0.11, 0.52, 0.83, 0.01, 0.57, 0.47, 0.  , 0.  ,\n",
       "       0.34, 0.52, 0.  , 0.  , 0.1 , 0.46, 0.04, 0.19, 0.  , 0.  , 0.5 ,\n",
       "       0.03, 0.52, 0.31, 0.53, 0.5 , 0.62, 0.32, 0.53, 0.56, 0.09, 0.45,\n",
       "       0.05, 0.53, 0.07, 0.37, 0.37, 0.48, 0.4 , 0.34, 0.  , 0.52, 0.01,\n",
       "       0.67, 0.48, 0.25, 0.02, 0.28, 0.44, 0.38, 0.  , 0.53, 0.4 , 0.44,\n",
       "       0.  , 0.02, 0.5 , 0.65, 0.73, 0.41, 0.  , 0.01, 0.3 , 0.39, 0.5 ,\n",
       "       0.45, 0.47, 0.25, 0.9 , 0.38, 0.04, 0.44, 0.  , 0.46, 0.41, 0.59,\n",
       "       0.  , 0.  , 0.  , 0.46, 0.62, 0.03, 0.  , 0.54, 0.35, 0.13, 0.04,\n",
       "       0.42, 0.08, 0.  , 0.49, 0.  , 0.54, 0.4 , 0.31, 0.07, 0.29, 0.02,\n",
       "       0.17, 0.8 , 0.51, 0.46])"
      ]
     },
     "execution_count": 21,
     "metadata": {},
     "output_type": "execute_result"
    }
   ],
   "source": [
    "# Use the forest's predict method on the test data\n",
    "predictions = rf.predict(test_features)\n",
    "# Calculate the absolute errors\n",
    "errors = abs(predictions - test_labels)\n",
    "\n",
    "predictions\n",
    "#Print out the mean absolute error (mae)\n",
    "#print('Mean Absolute Error:', round(np.mean(errors), 2), 'degrees.')"
   ]
  },
  {
   "cell_type": "markdown",
   "id": "7bc4c49e",
   "metadata": {},
   "source": [
    "Test wheter the highest x predictions are accurate"
   ]
  },
  {
   "cell_type": "code",
   "execution_count": 22,
   "id": "7ba8a631",
   "metadata": {},
   "outputs": [
    {
     "name": "stdout",
     "output_type": "stream",
     "text": [
      "0.6416666666666667\n"
     ]
    }
   ],
   "source": [
    "to_be_predicted = 120 #test_labels.sum() #100 in geval van assignment\n",
    "\n",
    "d={'predictions':predictions, 'labels':test_labels}\n",
    "best_scores = pd.DataFrame(d).nlargest(to_be_predicted,columns='predictions')\n",
    "\n",
    "accuracy = sum(best_scores['labels'])/to_be_predicted\n",
    "print(accuracy)"
   ]
  },
  {
   "cell_type": "code",
   "execution_count": 23,
   "id": "50a8037a",
   "metadata": {},
   "outputs": [],
   "source": [
    "#Eerst antwoorden veranderen naar binary waardes en hiermee accuracy van model bepalen.\n",
    "#default_acc = metrics.balanced_accuracy_score(test_labels, predictions)\n",
    "#optimized_acc = metrics.balanced_accuracy_score(test_labels, y_pred_SVM1)\n",
    "#print(default_acc)\n",
    "#print(optimized_acc)"
   ]
  },
  {
   "cell_type": "markdown",
   "id": "a99a41ba",
   "metadata": {},
   "source": [
    "### Random Forest Classifier Model"
   ]
  },
  {
   "cell_type": "code",
   "execution_count": 24,
   "id": "1ecc1e6b",
   "metadata": {},
   "outputs": [
    {
     "data": {
      "text/html": [
       "<style>#sk-container-id-2 {color: black;background-color: white;}#sk-container-id-2 pre{padding: 0;}#sk-container-id-2 div.sk-toggleable {background-color: white;}#sk-container-id-2 label.sk-toggleable__label {cursor: pointer;display: block;width: 100%;margin-bottom: 0;padding: 0.3em;box-sizing: border-box;text-align: center;}#sk-container-id-2 label.sk-toggleable__label-arrow:before {content: \"▸\";float: left;margin-right: 0.25em;color: #696969;}#sk-container-id-2 label.sk-toggleable__label-arrow:hover:before {color: black;}#sk-container-id-2 div.sk-estimator:hover label.sk-toggleable__label-arrow:before {color: black;}#sk-container-id-2 div.sk-toggleable__content {max-height: 0;max-width: 0;overflow: hidden;text-align: left;background-color: #f0f8ff;}#sk-container-id-2 div.sk-toggleable__content pre {margin: 0.2em;color: black;border-radius: 0.25em;background-color: #f0f8ff;}#sk-container-id-2 input.sk-toggleable__control:checked~div.sk-toggleable__content {max-height: 200px;max-width: 100%;overflow: auto;}#sk-container-id-2 input.sk-toggleable__control:checked~label.sk-toggleable__label-arrow:before {content: \"▾\";}#sk-container-id-2 div.sk-estimator input.sk-toggleable__control:checked~label.sk-toggleable__label {background-color: #d4ebff;}#sk-container-id-2 div.sk-label input.sk-toggleable__control:checked~label.sk-toggleable__label {background-color: #d4ebff;}#sk-container-id-2 input.sk-hidden--visually {border: 0;clip: rect(1px 1px 1px 1px);clip: rect(1px, 1px, 1px, 1px);height: 1px;margin: -1px;overflow: hidden;padding: 0;position: absolute;width: 1px;}#sk-container-id-2 div.sk-estimator {font-family: monospace;background-color: #f0f8ff;border: 1px dotted black;border-radius: 0.25em;box-sizing: border-box;margin-bottom: 0.5em;}#sk-container-id-2 div.sk-estimator:hover {background-color: #d4ebff;}#sk-container-id-2 div.sk-parallel-item::after {content: \"\";width: 100%;border-bottom: 1px solid gray;flex-grow: 1;}#sk-container-id-2 div.sk-label:hover label.sk-toggleable__label {background-color: #d4ebff;}#sk-container-id-2 div.sk-serial::before {content: \"\";position: absolute;border-left: 1px solid gray;box-sizing: border-box;top: 0;bottom: 0;left: 50%;z-index: 0;}#sk-container-id-2 div.sk-serial {display: flex;flex-direction: column;align-items: center;background-color: white;padding-right: 0.2em;padding-left: 0.2em;position: relative;}#sk-container-id-2 div.sk-item {position: relative;z-index: 1;}#sk-container-id-2 div.sk-parallel {display: flex;align-items: stretch;justify-content: center;background-color: white;position: relative;}#sk-container-id-2 div.sk-item::before, #sk-container-id-2 div.sk-parallel-item::before {content: \"\";position: absolute;border-left: 1px solid gray;box-sizing: border-box;top: 0;bottom: 0;left: 50%;z-index: -1;}#sk-container-id-2 div.sk-parallel-item {display: flex;flex-direction: column;z-index: 1;position: relative;background-color: white;}#sk-container-id-2 div.sk-parallel-item:first-child::after {align-self: flex-end;width: 50%;}#sk-container-id-2 div.sk-parallel-item:last-child::after {align-self: flex-start;width: 50%;}#sk-container-id-2 div.sk-parallel-item:only-child::after {width: 0;}#sk-container-id-2 div.sk-dashed-wrapped {border: 1px dashed gray;margin: 0 0.4em 0.5em 0.4em;box-sizing: border-box;padding-bottom: 0.4em;background-color: white;}#sk-container-id-2 div.sk-label label {font-family: monospace;font-weight: bold;display: inline-block;line-height: 1.2em;}#sk-container-id-2 div.sk-label-container {text-align: center;}#sk-container-id-2 div.sk-container {/* jupyter's `normalize.less` sets `[hidden] { display: none; }` but bootstrap.min.css set `[hidden] { display: none !important; }` so we also need the `!important` here to be able to override the default hidden behavior on the sphinx rendered scikit-learn.org. See: https://github.com/scikit-learn/scikit-learn/issues/21755 */display: inline-block !important;position: relative;}#sk-container-id-2 div.sk-text-repr-fallback {display: none;}</style><div id=\"sk-container-id-2\" class=\"sk-top-container\"><div class=\"sk-text-repr-fallback\"><pre>RandomForestClassifier()</pre><b>In a Jupyter environment, please rerun this cell to show the HTML representation or trust the notebook. <br />On GitHub, the HTML representation is unable to render, please try loading this page with nbviewer.org.</b></div><div class=\"sk-container\" hidden><div class=\"sk-item\"><div class=\"sk-estimator sk-toggleable\"><input class=\"sk-toggleable__control sk-hidden--visually\" id=\"sk-estimator-id-2\" type=\"checkbox\" checked><label for=\"sk-estimator-id-2\" class=\"sk-toggleable__label sk-toggleable__label-arrow\">RandomForestClassifier</label><div class=\"sk-toggleable__content\"><pre>RandomForestClassifier()</pre></div></div></div></div></div>"
      ],
      "text/plain": [
       "RandomForestClassifier()"
      ]
     },
     "execution_count": 24,
     "metadata": {},
     "output_type": "execute_result"
    }
   ],
   "source": [
    "clf=RandomForestClassifier()\n",
    "clf.fit(train_features, train_labels)"
   ]
  },
  {
   "cell_type": "markdown",
   "id": "28f00e78",
   "metadata": {},
   "source": [
    "Predictions"
   ]
  },
  {
   "cell_type": "code",
   "execution_count": 25,
   "id": "a4ace218",
   "metadata": {},
   "outputs": [
    {
     "name": "stdout",
     "output_type": "stream",
     "text": [
      "[0 0 0 0 0 0 1 1 0 0 1 0 0 0 1 1 0 0 0 1 0 0 1 0 1 0 0 0 0 0 0 1 0 0 0 0 0\n",
      " 0 0 0 0 1 0 0 0 0 0 0 1 0 0 0 0 1 0 0 0 0 0 0 0 0 0 0 1 0 0 0 0 0 0 0 0 0\n",
      " 0 0 0 0 0 1 0 0 0 0 0 0 0 0 0 0 0 0 0 0 0 1 0 0 0 0 0 0 1 0 0 0 0 0 1 0 0\n",
      " 0 0 0 0 0 0 0 0 0 0 0 0 0 1 0 0 1 0 0 0 0 0 0 0 0 0 0 0 0 0 1 0 0 0 1 0 0\n",
      " 0 0 0 1 1 0 1 0 0 0 0 0 1 0 0 0 1 0 1 0 0 0 0 0 0 0 0 0 0 0 0 0 0 0 0 0 0\n",
      " 0 1 0 0 0 0 1 0 1 0 0 0 0 0 0 1 0 0 1 0 1 0 0 0 0 1 0 1 1 0 0 0 0 0 0 0 0\n",
      " 0 0 0 0 0 0 0 0 1 0 0 0 0 0 0 0 0 0 0 0 1 0 0 0 0 0 0 0 0 0 0 0 0 0 0 1 0\n",
      " 0 0 0 0 0 0 0 0 0 0 0 0 0 0 0 0 0 0 0 0 0 0 0 0 0 0 1 0 0 0 0 0 0 0 0 1 0\n",
      " 1 1 1 0 0 0 1 0 0 0 0 0 1 0 0 0 0 0 0 0 0 0 0 0 0 0 0 0 1 0 0 0 0 0 0 0 0\n",
      " 0 0 0 0 0 0 0 0 1 0 0 0 0 0 1 0 0 1 0 0 0 0 1 0 0 0 0 0 0 0 0 0 0 1 0 0 0\n",
      " 0 0 0 1 0 0 0 0 0 0 0 0 0 0 0 0 0 0 0 0 1 0 0 0 0 0 0 1 0 0]\n",
      "accuracy of the training set 1.0\n",
      "accuracy of the test set 0.7325\n",
      "0.6041666666666667\n"
     ]
    }
   ],
   "source": [
    "preds = clf.predict(test_features)\n",
    "print(preds)\n",
    "print (\"accuracy of the training set\",clf.score(train_features, train_labels))\n",
    "print(\"accuracy of the test set\" ,clf.score(test_features, test_labels))\n",
    "\n",
    "default_acc = metrics.balanced_accuracy_score(test_labels, preds)\n",
    "print(default_acc)"
   ]
  },
  {
   "cell_type": "code",
   "execution_count": 26,
   "id": "0d05000f",
   "metadata": {},
   "outputs": [
    {
     "data": {
      "text/html": [
       "<div>\n",
       "<style scoped>\n",
       "    .dataframe tbody tr th:only-of-type {\n",
       "        vertical-align: middle;\n",
       "    }\n",
       "\n",
       "    .dataframe tbody tr th {\n",
       "        vertical-align: top;\n",
       "    }\n",
       "\n",
       "    .dataframe thead th {\n",
       "        text-align: right;\n",
       "    }\n",
       "</style>\n",
       "<table border=\"1\" class=\"dataframe\">\n",
       "  <thead>\n",
       "    <tr style=\"text-align: right;\">\n",
       "      <th></th>\n",
       "      <th>0</th>\n",
       "    </tr>\n",
       "  </thead>\n",
       "  <tbody>\n",
       "    <tr>\n",
       "      <th>0</th>\n",
       "      <td>0.083263</td>\n",
       "    </tr>\n",
       "    <tr>\n",
       "      <th>6</th>\n",
       "      <td>0.023298</td>\n",
       "    </tr>\n",
       "    <tr>\n",
       "      <th>27</th>\n",
       "      <td>0.013482</td>\n",
       "    </tr>\n",
       "    <tr>\n",
       "      <th>42</th>\n",
       "      <td>0.013421</td>\n",
       "    </tr>\n",
       "    <tr>\n",
       "      <th>4</th>\n",
       "      <td>0.013124</td>\n",
       "    </tr>\n",
       "    <tr>\n",
       "      <th>...</th>\n",
       "      <td>...</td>\n",
       "    </tr>\n",
       "    <tr>\n",
       "      <th>108</th>\n",
       "      <td>0.003762</td>\n",
       "    </tr>\n",
       "    <tr>\n",
       "      <th>70</th>\n",
       "      <td>0.003606</td>\n",
       "    </tr>\n",
       "    <tr>\n",
       "      <th>88</th>\n",
       "      <td>0.003589</td>\n",
       "    </tr>\n",
       "    <tr>\n",
       "      <th>145</th>\n",
       "      <td>0.003426</td>\n",
       "    </tr>\n",
       "    <tr>\n",
       "      <th>112</th>\n",
       "      <td>0.003299</td>\n",
       "    </tr>\n",
       "  </tbody>\n",
       "</table>\n",
       "<p>150 rows × 1 columns</p>\n",
       "</div>"
      ],
      "text/plain": [
       "            0\n",
       "0    0.083263\n",
       "6    0.023298\n",
       "27   0.013482\n",
       "42   0.013421\n",
       "4    0.013124\n",
       "..        ...\n",
       "108  0.003762\n",
       "70   0.003606\n",
       "88   0.003589\n",
       "145  0.003426\n",
       "112  0.003299\n",
       "\n",
       "[150 rows x 1 columns]"
      ]
     },
     "execution_count": 26,
     "metadata": {},
     "output_type": "execute_result"
    }
   ],
   "source": [
    "#determine which pc is most important, order\n",
    "pd.DataFrame(clf.feature_importances_, index=principalDf.columns).sort_values(by=0, ascending=False)"
   ]
  },
  {
   "cell_type": "markdown",
   "id": "83b78453",
   "metadata": {},
   "source": [
    "## Support vector machine"
   ]
  },
  {
   "cell_type": "markdown",
   "id": "c06ba754",
   "metadata": {},
   "source": [
    "Make SVM model without optimizing the hyperparameters"
   ]
  },
  {
   "cell_type": "code",
   "execution_count": 27,
   "id": "4f8b790f",
   "metadata": {},
   "outputs": [],
   "source": [
    "SVC_model_default = SVC()\n",
    "SVC_model_default.fit(train_features, train_labels)\n",
    "y_pred_SVC_default =SVC_model_default.predict(test_features)"
   ]
  },
  {
   "cell_type": "markdown",
   "id": "bc757d0a",
   "metadata": {},
   "source": [
    "Define the parameter values used in GridSearch"
   ]
  },
  {
   "cell_type": "code",
   "execution_count": 28,
   "id": "e074215e",
   "metadata": {},
   "outputs": [],
   "source": [
    "estimator_SVM = SVC(gamma = 'auto')\n",
    "parameters_SVM = {\n",
    "    'C':(0.1,1, 10, 100), #(0.1, 15.0, 0.1)\n",
    "    'kernel': ('linear', 'poly', 'rbf', 'sigmoid'),\n",
    "    'coef0': (0.0, 10.0, 1.0),\n",
    "    'shrinking': (True, False)}   "
   ]
  },
  {
   "cell_type": "markdown",
   "id": "bd3b0d8d",
   "metadata": {},
   "source": [
    "Find the optimal parameter values "
   ]
  },
  {
   "cell_type": "code",
   "execution_count": 29,
   "id": "eae14360",
   "metadata": {},
   "outputs": [],
   "source": [
    "grid_search_SVM = GridSearchCV(\n",
    "    estimator=estimator_SVM,\n",
    "    param_grid=parameters_SVM,\n",
    "    scoring = 'balanced_accuracy',\n",
    "    n_jobs = -1,\n",
    "    cv = 5\n",
    ")"
   ]
  },
  {
   "cell_type": "markdown",
   "id": "98b62231",
   "metadata": {},
   "source": [
    "Fit the model"
   ]
  },
  {
   "cell_type": "code",
   "execution_count": 30,
   "id": "65d33cab",
   "metadata": {},
   "outputs": [],
   "source": [
    "SVM_1 = grid_search_SVM.fit(train_features, train_labels)\n",
    "y_pred_SVM1 = SVM_1.predict(test_features)"
   ]
  },
  {
   "cell_type": "markdown",
   "id": "61a89c3c",
   "metadata": {},
   "source": [
    "Evaluate the performance"
   ]
  },
  {
   "cell_type": "code",
   "execution_count": 31,
   "id": "362dabf4",
   "metadata": {},
   "outputs": [
    {
     "name": "stdout",
     "output_type": "stream",
     "text": [
      "0.7702380952380952\n",
      "0.7255952380952381\n"
     ]
    }
   ],
   "source": [
    "default_acc = metrics.balanced_accuracy_score(test_labels, y_pred_SVC_default)\n",
    "optimized_acc = metrics.balanced_accuracy_score(test_labels, y_pred_SVM1)\n",
    "print(default_acc)\n",
    "print(optimized_acc)"
   ]
  },
  {
   "cell_type": "markdown",
   "id": "3206f3ed",
   "metadata": {},
   "source": [
    "## K-nearest Neighbor"
   ]
  },
  {
   "cell_type": "code",
   "execution_count": 32,
   "id": "b908f821",
   "metadata": {},
   "outputs": [
    {
     "data": {
      "text/html": [
       "<style>#sk-container-id-3 {color: black;background-color: white;}#sk-container-id-3 pre{padding: 0;}#sk-container-id-3 div.sk-toggleable {background-color: white;}#sk-container-id-3 label.sk-toggleable__label {cursor: pointer;display: block;width: 100%;margin-bottom: 0;padding: 0.3em;box-sizing: border-box;text-align: center;}#sk-container-id-3 label.sk-toggleable__label-arrow:before {content: \"▸\";float: left;margin-right: 0.25em;color: #696969;}#sk-container-id-3 label.sk-toggleable__label-arrow:hover:before {color: black;}#sk-container-id-3 div.sk-estimator:hover label.sk-toggleable__label-arrow:before {color: black;}#sk-container-id-3 div.sk-toggleable__content {max-height: 0;max-width: 0;overflow: hidden;text-align: left;background-color: #f0f8ff;}#sk-container-id-3 div.sk-toggleable__content pre {margin: 0.2em;color: black;border-radius: 0.25em;background-color: #f0f8ff;}#sk-container-id-3 input.sk-toggleable__control:checked~div.sk-toggleable__content {max-height: 200px;max-width: 100%;overflow: auto;}#sk-container-id-3 input.sk-toggleable__control:checked~label.sk-toggleable__label-arrow:before {content: \"▾\";}#sk-container-id-3 div.sk-estimator input.sk-toggleable__control:checked~label.sk-toggleable__label {background-color: #d4ebff;}#sk-container-id-3 div.sk-label input.sk-toggleable__control:checked~label.sk-toggleable__label {background-color: #d4ebff;}#sk-container-id-3 input.sk-hidden--visually {border: 0;clip: rect(1px 1px 1px 1px);clip: rect(1px, 1px, 1px, 1px);height: 1px;margin: -1px;overflow: hidden;padding: 0;position: absolute;width: 1px;}#sk-container-id-3 div.sk-estimator {font-family: monospace;background-color: #f0f8ff;border: 1px dotted black;border-radius: 0.25em;box-sizing: border-box;margin-bottom: 0.5em;}#sk-container-id-3 div.sk-estimator:hover {background-color: #d4ebff;}#sk-container-id-3 div.sk-parallel-item::after {content: \"\";width: 100%;border-bottom: 1px solid gray;flex-grow: 1;}#sk-container-id-3 div.sk-label:hover label.sk-toggleable__label {background-color: #d4ebff;}#sk-container-id-3 div.sk-serial::before {content: \"\";position: absolute;border-left: 1px solid gray;box-sizing: border-box;top: 0;bottom: 0;left: 50%;z-index: 0;}#sk-container-id-3 div.sk-serial {display: flex;flex-direction: column;align-items: center;background-color: white;padding-right: 0.2em;padding-left: 0.2em;position: relative;}#sk-container-id-3 div.sk-item {position: relative;z-index: 1;}#sk-container-id-3 div.sk-parallel {display: flex;align-items: stretch;justify-content: center;background-color: white;position: relative;}#sk-container-id-3 div.sk-item::before, #sk-container-id-3 div.sk-parallel-item::before {content: \"\";position: absolute;border-left: 1px solid gray;box-sizing: border-box;top: 0;bottom: 0;left: 50%;z-index: -1;}#sk-container-id-3 div.sk-parallel-item {display: flex;flex-direction: column;z-index: 1;position: relative;background-color: white;}#sk-container-id-3 div.sk-parallel-item:first-child::after {align-self: flex-end;width: 50%;}#sk-container-id-3 div.sk-parallel-item:last-child::after {align-self: flex-start;width: 50%;}#sk-container-id-3 div.sk-parallel-item:only-child::after {width: 0;}#sk-container-id-3 div.sk-dashed-wrapped {border: 1px dashed gray;margin: 0 0.4em 0.5em 0.4em;box-sizing: border-box;padding-bottom: 0.4em;background-color: white;}#sk-container-id-3 div.sk-label label {font-family: monospace;font-weight: bold;display: inline-block;line-height: 1.2em;}#sk-container-id-3 div.sk-label-container {text-align: center;}#sk-container-id-3 div.sk-container {/* jupyter's `normalize.less` sets `[hidden] { display: none; }` but bootstrap.min.css set `[hidden] { display: none !important; }` so we also need the `!important` here to be able to override the default hidden behavior on the sphinx rendered scikit-learn.org. See: https://github.com/scikit-learn/scikit-learn/issues/21755 */display: inline-block !important;position: relative;}#sk-container-id-3 div.sk-text-repr-fallback {display: none;}</style><div id=\"sk-container-id-3\" class=\"sk-top-container\"><div class=\"sk-text-repr-fallback\"><pre>KNeighborsClassifier()</pre><b>In a Jupyter environment, please rerun this cell to show the HTML representation or trust the notebook. <br />On GitHub, the HTML representation is unable to render, please try loading this page with nbviewer.org.</b></div><div class=\"sk-container\" hidden><div class=\"sk-item\"><div class=\"sk-estimator sk-toggleable\"><input class=\"sk-toggleable__control sk-hidden--visually\" id=\"sk-estimator-id-3\" type=\"checkbox\" checked><label for=\"sk-estimator-id-3\" class=\"sk-toggleable__label sk-toggleable__label-arrow\">KNeighborsClassifier</label><div class=\"sk-toggleable__content\"><pre>KNeighborsClassifier()</pre></div></div></div></div></div>"
      ],
      "text/plain": [
       "KNeighborsClassifier()"
      ]
     },
     "execution_count": 32,
     "metadata": {},
     "output_type": "execute_result"
    }
   ],
   "source": [
    "KN_clf=KNeighborsClassifier(n_neighbors=5)\n",
    "KN_clf.fit(train_features, train_labels)"
   ]
  },
  {
   "cell_type": "markdown",
   "id": "1b4cbf18",
   "metadata": {},
   "source": [
    "Predictions"
   ]
  },
  {
   "cell_type": "code",
   "execution_count": 33,
   "id": "3ee8e932",
   "metadata": {
    "scrolled": true
   },
   "outputs": [
    {
     "name": "stdout",
     "output_type": "stream",
     "text": [
      "[0 0 0 0 0 0 0 1 0 0 1 0 0 1 1 1 0 0 0 0 0 0 1 0 0 0 0 0 0 1 0 0 1 0 0 0 0\n",
      " 0 0 1 0 1 0 0 0 0 0 0 1 0 0 0 0 0 1 1 0 0 0 0 0 1 0 0 1 1 0 0 0 0 0 1 0 0\n",
      " 0 0 0 1 0 1 1 0 0 0 0 0 1 0 1 0 0 1 1 1 1 1 0 0 0 1 0 0 1 0 0 1 0 0 0 0 1\n",
      " 0 0 1 0 0 0 0 0 0 1 0 0 1 1 0 0 1 0 0 0 1 0 0 0 0 1 1 0 0 0 0 0 0 0 0 0 0\n",
      " 0 0 0 1 1 0 0 0 0 0 1 0 0 0 0 0 0 0 1 0 0 0 0 0 1 1 0 0 0 0 0 0 0 0 1 0 0\n",
      " 0 0 0 0 0 0 0 0 1 0 1 0 0 0 0 0 0 1 0 0 1 0 0 0 0 1 0 1 1 1 1 0 0 0 0 0 1\n",
      " 1 0 0 0 0 0 0 0 1 1 0 0 1 0 0 0 0 0 0 0 1 0 0 1 1 0 0 0 0 0 0 1 0 0 0 0 1\n",
      " 0 0 1 1 0 0 0 0 0 0 0 0 0 0 0 0 1 0 0 0 0 1 0 0 0 0 1 0 1 1 1 0 0 0 0 1 0\n",
      " 0 1 0 0 0 1 1 0 1 1 0 0 1 0 0 0 0 0 0 0 0 0 1 0 1 0 1 0 0 0 1 0 0 0 0 0 0\n",
      " 1 0 1 1 0 0 0 0 1 1 0 0 0 0 1 0 0 1 0 0 0 0 1 1 1 0 0 0 0 1 0 1 0 1 1 0 1\n",
      " 0 0 0 1 0 0 0 0 1 0 0 0 0 0 0 0 0 0 0 0 1 0 0 0 0 0 0 1 1 0]\n",
      "accuracy of the training set 0.850625\n",
      "accuracy of the test set 0.8\n",
      "Default accuracy of the test set 0.7428571428571429\n"
     ]
    }
   ],
   "source": [
    "KN_preds = KN_clf.predict(test_features)\n",
    "print(KN_preds)\n",
    "print (\"accuracy of the training set\",KN_clf.score(train_features, train_labels))\n",
    "print(\"accuracy of the test set\" ,KN_clf.score(test_features, test_labels))\n",
    "\n",
    "default_acc = metrics.balanced_accuracy_score(test_labels, KN_preds)\n",
    "print(\"Default accuracy of the test set\",default_acc)"
   ]
  },
  {
   "cell_type": "code",
   "execution_count": null,
   "id": "1d8a4a11",
   "metadata": {},
   "outputs": [],
   "source": []
  }
 ],
 "metadata": {
  "colab": {
   "provenance": []
  },
  "kernelspec": {
   "display_name": "Python 3 (ipykernel)",
   "language": "python",
   "name": "python3"
  },
  "language_info": {
   "codemirror_mode": {
    "name": "ipython",
    "version": 3
   },
   "file_extension": ".py",
   "mimetype": "text/x-python",
   "name": "python",
   "nbconvert_exporter": "python",
   "pygments_lexer": "ipython3",
   "version": "3.11.3"
  }
 },
 "nbformat": 4,
 "nbformat_minor": 5
}
